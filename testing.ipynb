{
 "cells": [
  {
   "cell_type": "code",
   "id": "initial_id",
   "metadata": {
    "collapsed": true,
    "ExecuteTime": {
     "end_time": "2024-10-03T09:12:45.974611Z",
     "start_time": "2024-10-03T09:12:43.257073Z"
    }
   },
   "source": [
    "import os\n",
    "import torch\n",
    "from torch.utils.data import Dataset, DataLoader\n",
    "import numpy as np\n",
    "\n",
    "import torch.optim as optim\n",
    "from tqdm import tqdm\n",
    "import matplotlib.pyplot as plt\n",
    "import torch.nn as nn\n",
    "from sklearn.model_selection import train_test_split\n",
    "\n",
    "class PhiThreshDataset(Dataset):\n",
    "    def __init__(self, data_dir):\n",
    "        self.data_dir = data_dir\n",
    "        self.phi_files = [f for f in os.listdir(data_dir) if f.startswith('Phi_mat_') and f.endswith('.txt')]\n",
    "        self.v_thresh_files = [f for f in os.listdir(data_dir) if f.startswith('v_thresh_') and f.endswith('.txt')]\n",
    "        \n",
    "        # Sort the files to ensure correspondence between input and target files\n",
    "        self.phi_files.sort()\n",
    "        self.v_thresh_files.sort()\n",
    "\n",
    "    def __len__(self):\n",
    "        return len(self.phi_files)\n",
    "\n",
    "    def __getitem__(self, idx):\n",
    "        # Load the input vector (phi)\n",
    "        phi_file = os.path.join(self.data_dir, self.phi_files[idx])\n",
    "        phi = np.loadtxt(phi_file)\n",
    "\n",
    "        # Load the output scalar (v_thresh)\n",
    "        v_thresh_file = os.path.join(self.data_dir, self.v_thresh_files[idx])\n",
    "        v_thresh = np.loadtxt(v_thresh_file)\n",
    "\n",
    "        return torch.tensor(phi, dtype=torch.float32), torch.tensor(v_thresh, dtype=torch.float32)"
   ],
   "outputs": [],
   "execution_count": 1
  },
  {
   "metadata": {
    "ExecuteTime": {
     "end_time": "2024-10-03T09:12:45.981052Z",
     "start_time": "2024-10-03T09:12:45.975154Z"
    }
   },
   "cell_type": "code",
   "source": [
    "def get_data_loaders(data_dir, batch_size=32, test_size=0.2):\n",
    "    dataset = PhiThreshDataset(data_dir)\n",
    "    train_indices, test_indices = train_test_split(list(range(len(dataset))), test_size=test_size, random_state=42)\n",
    "    \n",
    "    train_set = torch.utils.data.Subset(dataset, train_indices)\n",
    "    test_set = torch.utils.data.Subset(dataset, test_indices)\n",
    "    \n",
    "    train_loader = DataLoader(train_set, batch_size=batch_size, shuffle=True)\n",
    "    test_loader = DataLoader(test_set, batch_size=batch_size, shuffle=False)\n",
    "\n",
    "    return train_loader, test_loader"
   ],
   "id": "e5318115b0d6ef51",
   "outputs": [],
   "execution_count": 2
  },
  {
   "metadata": {
    "ExecuteTime": {
     "end_time": "2024-10-03T09:23:15.321387Z",
     "start_time": "2024-10-03T09:23:15.312768Z"
    }
   },
   "cell_type": "code",
   "source": [
    "class PhiNet(nn.Module):\n",
    "    def __init__(self, input_size):\n",
    "        super(PhiNet, self).__init__()\n",
    "        self.fc1 = nn.Linear(input_size, 100)\n",
    "        self.fc2 = nn.Linear(100, 50)\n",
    "        self.fc3 = nn.Linear(50, 25)\n",
    "        self.fc4 = nn.Linear(25, 5)\n",
    "        self.fc5 = nn.Linear(5, 1)\n",
    "        \n",
    "    def forward(self, x):\n",
    "        x = torch.relu(self.fc1(x))\n",
    "        x = torch.relu(self.fc2(x))\n",
    "        x = torch.relu(self.fc3(x))\n",
    "        x = torch.relu(self.fc4(x))\n",
    "        x = self.fc5(x)\n",
    "        return x"
   ],
   "id": "75b9704072731224",
   "outputs": [],
   "execution_count": 16
  },
  {
   "metadata": {
    "ExecuteTime": {
     "end_time": "2024-10-03T09:23:16.893356Z",
     "start_time": "2024-10-03T09:23:16.888748Z"
    }
   },
   "cell_type": "code",
   "source": [
    "def train_model(model, train_loader, criterion, optimizer, num_epochs=10):\n",
    "    model.train()\n",
    "    for epoch in range(num_epochs):\n",
    "        running_loss = 0.0\n",
    "        progress_bar = tqdm(enumerate(train_loader), total=len(train_loader), desc=f\"Epoch {epoch+1}/{num_epochs}\", position=0, leave=True)\n",
    "        for i, (inputs, targets) in progress_bar:\n",
    "            optimizer.zero_grad()\n",
    "            outputs = model(inputs)\n",
    "            loss = criterion(outputs.squeeze(), targets)\n",
    "            loss.backward()\n",
    "            optimizer.step()\n",
    "            running_loss += loss.item()\n",
    "        print(f'Epoch [{epoch+1}/{num_epochs}], Loss: {running_loss / len(train_loader):.4f}')\n",
    "\n",
    "def evaluate_model(model, train_loader, test_loader, criterion):\n",
    "    model.eval()\n",
    "    total_loss = 0.0\n",
    "    losses_over_train = []\n",
    "    with torch.no_grad():\n",
    "        for inputs, targets in train_loader:\n",
    "            outputs = model(inputs)\n",
    "            loss = criterion(outputs.squeeze(), targets)\n",
    "            total_loss += loss.item()\n",
    "            losses_over_train.append(loss.item())\n",
    "    print(f'Train Loss: {total_loss / len(train_loader):.4f}')\n",
    "    \n",
    "    total_loss = 0.0\n",
    "    losses_over_test = []\n",
    "    with torch.no_grad():\n",
    "        for inputs, targets in test_loader:\n",
    "            outputs = model(inputs)\n",
    "            loss = criterion(outputs.squeeze(), targets)\n",
    "            total_loss += loss.item()\n",
    "            losses_over_test.append(loss.item())\n",
    "    print(f'Test Loss: {total_loss / len(test_loader):.4f}')\n",
    "    \n",
    "    return losses_over_train, losses_over_test"
   ],
   "id": "6f2f6bdc96d486c3",
   "outputs": [],
   "execution_count": 17
  },
  {
   "metadata": {
    "ExecuteTime": {
     "end_time": "2024-10-03T09:30:44.368636Z",
     "start_time": "2024-10-03T09:29:40.721279Z"
    }
   },
   "cell_type": "code",
   "source": [
    "data_dir = 'C:\\\\Users\\\\avp\\\\OneDrive - HKUST Connect\\\\Desktop\\\\Deep T-Rex\\\\Code\\\\RCode\\\\data'\n",
    "input_size = len(np.loadtxt(os.path.join(data_dir, 'Phi_mat_1.txt')))\n",
    "\n",
    "hparams = {\"batch_size\": 16,\n",
    "           \"learning_rate\": 0.0001,\n",
    "           \"num_epochs\": 20}\n",
    "\n",
    "train_loader, test_loader = get_data_loaders(data_dir, batch_size=hparams[\"batch_size\"])\n",
    "\n",
    "model = PhiNet(input_size=input_size)\n",
    "criterion = nn.MSELoss()  # Mean squared error loss for regression\n",
    "optimizer = optim.Adam(model.parameters(), lr=hparams[\"learning_rate\"])\n",
    "\n",
    "# Train the model\n",
    "train_model(model, train_loader, criterion, optimizer, num_epochs=hparams[\"num_epochs\"])\n",
    "\n",
    "# Evaluate the model\n",
    "losses_over_train, losses_over_test = evaluate_model(model, train_loader, test_loader, criterion)"
   ],
   "id": "18249e05344b9c58",
   "outputs": [
    {
     "name": "stderr",
     "output_type": "stream",
     "text": [
      "Epoch 1/20: 100%|██████████| 500/500 [00:03<00:00, 166.32it/s]\n"
     ]
    },
    {
     "name": "stdout",
     "output_type": "stream",
     "text": [
      "Epoch [1/20], Loss: 0.0620\n"
     ]
    },
    {
     "name": "stderr",
     "output_type": "stream",
     "text": [
      "Epoch 2/20: 100%|██████████| 500/500 [00:03<00:00, 155.19it/s]\n"
     ]
    },
    {
     "name": "stdout",
     "output_type": "stream",
     "text": [
      "Epoch [2/20], Loss: 0.0251\n"
     ]
    },
    {
     "name": "stderr",
     "output_type": "stream",
     "text": [
      "Epoch 3/20: 100%|██████████| 500/500 [00:03<00:00, 165.48it/s]\n"
     ]
    },
    {
     "name": "stdout",
     "output_type": "stream",
     "text": [
      "Epoch [3/20], Loss: 0.0224\n"
     ]
    },
    {
     "name": "stderr",
     "output_type": "stream",
     "text": [
      "Epoch 4/20: 100%|██████████| 500/500 [00:02<00:00, 166.94it/s]\n"
     ]
    },
    {
     "name": "stdout",
     "output_type": "stream",
     "text": [
      "Epoch [4/20], Loss: 0.0196\n"
     ]
    },
    {
     "name": "stderr",
     "output_type": "stream",
     "text": [
      "Epoch 5/20: 100%|██████████| 500/500 [00:03<00:00, 163.04it/s]\n"
     ]
    },
    {
     "name": "stdout",
     "output_type": "stream",
     "text": [
      "Epoch [5/20], Loss: 0.0173\n"
     ]
    },
    {
     "name": "stderr",
     "output_type": "stream",
     "text": [
      "Epoch 6/20: 100%|██████████| 500/500 [00:02<00:00, 169.03it/s]\n"
     ]
    },
    {
     "name": "stdout",
     "output_type": "stream",
     "text": [
      "Epoch [6/20], Loss: 0.0158\n"
     ]
    },
    {
     "name": "stderr",
     "output_type": "stream",
     "text": [
      "Epoch 7/20: 100%|██████████| 500/500 [00:02<00:00, 170.86it/s]\n"
     ]
    },
    {
     "name": "stdout",
     "output_type": "stream",
     "text": [
      "Epoch [7/20], Loss: 0.0150\n"
     ]
    },
    {
     "name": "stderr",
     "output_type": "stream",
     "text": [
      "Epoch 8/20: 100%|██████████| 500/500 [00:03<00:00, 162.92it/s]\n"
     ]
    },
    {
     "name": "stdout",
     "output_type": "stream",
     "text": [
      "Epoch [8/20], Loss: 0.0146\n"
     ]
    },
    {
     "name": "stderr",
     "output_type": "stream",
     "text": [
      "Epoch 9/20: 100%|██████████| 500/500 [00:02<00:00, 169.14it/s]\n"
     ]
    },
    {
     "name": "stdout",
     "output_type": "stream",
     "text": [
      "Epoch [9/20], Loss: 0.0142\n"
     ]
    },
    {
     "name": "stderr",
     "output_type": "stream",
     "text": [
      "Epoch 10/20: 100%|██████████| 500/500 [00:02<00:00, 169.96it/s]\n"
     ]
    },
    {
     "name": "stdout",
     "output_type": "stream",
     "text": [
      "Epoch [10/20], Loss: 0.0138\n"
     ]
    },
    {
     "name": "stderr",
     "output_type": "stream",
     "text": [
      "Epoch 11/20: 100%|██████████| 500/500 [00:03<00:00, 161.84it/s]\n"
     ]
    },
    {
     "name": "stdout",
     "output_type": "stream",
     "text": [
      "Epoch [11/20], Loss: 0.0133\n"
     ]
    },
    {
     "name": "stderr",
     "output_type": "stream",
     "text": [
      "Epoch 12/20: 100%|██████████| 500/500 [00:03<00:00, 163.22it/s]\n"
     ]
    },
    {
     "name": "stdout",
     "output_type": "stream",
     "text": [
      "Epoch [12/20], Loss: 0.0129\n"
     ]
    },
    {
     "name": "stderr",
     "output_type": "stream",
     "text": [
      "Epoch 13/20: 100%|██████████| 500/500 [00:03<00:00, 164.59it/s]\n"
     ]
    },
    {
     "name": "stdout",
     "output_type": "stream",
     "text": [
      "Epoch [13/20], Loss: 0.0125\n"
     ]
    },
    {
     "name": "stderr",
     "output_type": "stream",
     "text": [
      "Epoch 14/20: 100%|██████████| 500/500 [00:03<00:00, 166.00it/s]\n"
     ]
    },
    {
     "name": "stdout",
     "output_type": "stream",
     "text": [
      "Epoch [14/20], Loss: 0.0121\n"
     ]
    },
    {
     "name": "stderr",
     "output_type": "stream",
     "text": [
      "Epoch 15/20: 100%|██████████| 500/500 [00:02<00:00, 171.54it/s]\n"
     ]
    },
    {
     "name": "stdout",
     "output_type": "stream",
     "text": [
      "Epoch [15/20], Loss: 0.0116\n"
     ]
    },
    {
     "name": "stderr",
     "output_type": "stream",
     "text": [
      "Epoch 16/20: 100%|██████████| 500/500 [00:03<00:00, 161.24it/s]\n"
     ]
    },
    {
     "name": "stdout",
     "output_type": "stream",
     "text": [
      "Epoch [16/20], Loss: 0.0113\n"
     ]
    },
    {
     "name": "stderr",
     "output_type": "stream",
     "text": [
      "Epoch 17/20: 100%|██████████| 500/500 [00:03<00:00, 162.37it/s]\n"
     ]
    },
    {
     "name": "stdout",
     "output_type": "stream",
     "text": [
      "Epoch [17/20], Loss: 0.0108\n"
     ]
    },
    {
     "name": "stderr",
     "output_type": "stream",
     "text": [
      "Epoch 18/20: 100%|██████████| 500/500 [00:03<00:00, 166.25it/s]\n"
     ]
    },
    {
     "name": "stdout",
     "output_type": "stream",
     "text": [
      "Epoch [18/20], Loss: 0.0104\n"
     ]
    },
    {
     "name": "stderr",
     "output_type": "stream",
     "text": [
      "Epoch 19/20: 100%|██████████| 500/500 [00:03<00:00, 165.29it/s]\n"
     ]
    },
    {
     "name": "stdout",
     "output_type": "stream",
     "text": [
      "Epoch [19/20], Loss: 0.0100\n"
     ]
    },
    {
     "name": "stderr",
     "output_type": "stream",
     "text": [
      "Epoch 20/20: 100%|██████████| 500/500 [00:02<00:00, 166.90it/s]\n"
     ]
    },
    {
     "name": "stdout",
     "output_type": "stream",
     "text": [
      "Epoch [20/20], Loss: 0.0095\n",
      "Train Loss: 0.0089\n",
      "Test Loss: 0.0161\n"
     ]
    }
   ],
   "execution_count": 35
  },
  {
   "metadata": {
    "ExecuteTime": {
     "end_time": "2024-10-03T09:31:26.483162Z",
     "start_time": "2024-10-03T09:31:26.413361Z"
    }
   },
   "cell_type": "code",
   "source": "plt.hist(np.sqrt(losses_over_train), bins='auto')",
   "id": "4cc52f26f407978a",
   "outputs": [
    {
     "data": {
      "text/plain": [
       "(array([ 4.,  2., 12., 20., 22., 37., 45., 62., 75., 65., 44., 28., 36.,\n",
       "        22., 11.,  8.,  4.,  0.,  3.]),\n",
       " array([0.03271521, 0.03947455, 0.04623389, 0.05299323, 0.05975256,\n",
       "        0.0665119 , 0.07327124, 0.08003057, 0.08678991, 0.09354925,\n",
       "        0.10030859, 0.10706792, 0.11382726, 0.1205866 , 0.12734593,\n",
       "        0.13410527, 0.14086461, 0.14762395, 0.15438328, 0.16114262]),\n",
       " <BarContainer object of 19 artists>)"
      ]
     },
     "execution_count": 36,
     "metadata": {},
     "output_type": "execute_result"
    },
    {
     "data": {
      "text/plain": [
       "<Figure size 640x480 with 1 Axes>"
      ],
      "image/png": "[encoded data removed]"
     },
     "metadata": {},
     "output_type": "display_data"
    }
   ],
   "execution_count": 36
  },
  {
   "metadata": {
    "ExecuteTime": {
     "end_time": "2024-10-03T09:31:32.100641Z",
     "start_time": "2024-10-03T09:31:27.172322Z"
    }
   },
   "cell_type": "code",
   "source": [
    "model.eval()\n",
    "\n",
    "with torch.no_grad():\n",
    "    total_train_loader = []\n",
    "    for inputs, targets in train_loader:\n",
    "        total_train_loader += targets.numpy().squeeze().tolist()\n",
    "    \n",
    "    total_train = []\n",
    "    for inputs, targets in train_loader:\n",
    "        total_train += model(inputs).numpy().squeeze().tolist()\n",
    "\n",
    "bin_edges = [0.25, 0.3, 0.35, 0.4 , 0.45 , 0.495, 0.55, 0.6, 0.65, 0.7, 0.75, 0.8, 0.85, 0.9, 0.95, 1.001, 1.05, 1.1, 1.15, 1.2, 1.25]\n",
    "\n",
    "fig, (ax1, ax2) = plt.subplots(1, 2, figsize=(12, 6))\n",
    "\n",
    "N, bins, patches = ax1.hist(total_train_loader, bins=bin_edges, edgecolor='black')\n",
    "for i in range(0, 4+1):\n",
    "    patches[i].set_facecolor('r')\n",
    "for i in range(5,15):    \n",
    "    patches[i].set_facecolor('b')\n",
    "for i in range(15, len(patches)):\n",
    "    patches[i].set_facecolor('r')\n",
    "ax1.set_title('Histogram for Training Data')\n",
    "ax1.set_xlabel('Values')\n",
    "ax1.set_ylabel('Frequency')\n",
    "\n",
    "N, bins, patches = ax2.hist(total_train, bins=bin_edges, edgecolor='black')\n",
    "for i in range(0, 4+1):\n",
    "    patches[i].set_facecolor('r')\n",
    "for i in range(5,15):    \n",
    "    patches[i].set_facecolor('b')\n",
    "for i in range(15, len(patches)):\n",
    "    patches[i].set_facecolor('r')\n",
    "ax2.set_title('Histogram for Training Inference')\n",
    "ax2.set_xlabel('Values')\n",
    "ax2.set_ylabel('Frequency')\n",
    "\n",
    "plt.tight_layout()\n",
    "plt.show()"
   ],
   "id": "648954cd900bf5ff",
   "outputs": [
    {
     "data": {
      "text/plain": [
       "<Figure size 1200x600 with 2 Axes>"
      ],
      "image/png": "[encoded data removed]"
     },
     "metadata": {},
     "output_type": "display_data"
    }
   ],
   "execution_count": 37
  },
  {
   "metadata": {
    "ExecuteTime": {
     "end_time": "2024-10-03T09:31:36.456068Z",
     "start_time": "2024-10-03T09:31:35.048485Z"
    }
   },
   "cell_type": "code",
   "source": [
    "model.eval()\n",
    "\n",
    "with torch.no_grad():\n",
    "    total_test_loader = []\n",
    "    for inputs, targets in test_loader:\n",
    "        total_test_loader += targets.numpy().squeeze().tolist()\n",
    "    \n",
    "    total_test = []\n",
    "    for inputs, targets in test_loader:\n",
    "        total_test += model(inputs).numpy().squeeze().tolist()\n",
    "\n",
    "bin_edges = [0.25, 0.3, 0.35, 0.4 , 0.45 , 0.5, 0.55, 0.6, 0.65, 0.7, 0.75, 0.8, 0.85, 0.9, 0.95, 1.001, 1.05, 1.1, 1.15, 1.2, 1.25]\n",
    "\n",
    "fig, (ax1, ax2) = plt.subplots(1, 2, figsize=(12, 6))\n",
    "\n",
    "N, bins, patches = ax1.hist(total_test_loader, bins=bin_edges, edgecolor='black')\n",
    "for i in range(0, 4+1):\n",
    "    patches[i].set_facecolor('r')\n",
    "for i in range(5,15):    \n",
    "    patches[i].set_facecolor('b')\n",
    "for i in range(15, len(patches)):\n",
    "    patches[i].set_facecolor('r')\n",
    "ax1.set_title('Histogram for Test Data')\n",
    "ax1.set_xlabel('Values')\n",
    "ax1.set_ylabel('Frequency')\n",
    "\n",
    "N, bins, patches = ax2.hist(total_test, bins=bin_edges, edgecolor='black')\n",
    "for i in range(0, 4+1):\n",
    "    patches[i].set_facecolor('r')\n",
    "for i in range(5,15):    \n",
    "    patches[i].set_facecolor('b')\n",
    "for i in range(15, len(patches)):\n",
    "    patches[i].set_facecolor('r')\n",
    "ax2.set_title('Histogram for Test Inference')\n",
    "ax2.set_xlabel('Values')\n",
    "ax2.set_ylabel('Frequency')\n",
    "\n",
    "plt.tight_layout()\n",
    "plt.show()"
   ],
   "id": "5d112b7b011f8377",
   "outputs": [
    {
     "data": {
      "text/plain": [
       "<Figure size 1200x600 with 2 Axes>"
      ],
      "image/png": "[encoded data removed]"
     },
     "metadata": {},
     "output_type": "display_data"
    }
   ],
   "execution_count": 38
  },
  {
   "metadata": {
    "ExecuteTime": {
     "end_time": "2024-10-02T07:41:15.046460Z",
     "start_time": "2024-10-02T07:41:15.043793Z"
    }
   },
   "cell_type": "code",
   "source": "",
   "id": "5abca31b09c69c0e",
   "outputs": [],
   "execution_count": null
  }
 ],
 "metadata": {
  "kernelspec": {
   "display_name": "Python 3",
   "language": "python",
   "name": "python3"
  },
  "language_info": {
   "codemirror_mode": {
    "name": "ipython",
    "version": 2
   },
   "file_extension": ".py",
   "mimetype": "text/x-python",
   "name": "python",
   "nbconvert_exporter": "python",
   "pygments_lexer": "ipython2",
   "version": "2.7.6"
  }
 },
 "nbformat": 4,
 "nbformat_minor": 5
}
