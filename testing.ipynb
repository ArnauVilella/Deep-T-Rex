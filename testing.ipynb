{
 "cells": [
  {
   "cell_type": "code",
   "id": "initial_id",
   "metadata": {
    "collapsed": true,
    "ExecuteTime": {
     "end_time": "2024-10-07T05:30:25.510548Z",
     "start_time": "2024-10-07T05:30:25.507785Z"
    }
   },
   "source": [
    "import os\n",
    "import torch\n",
    "from torch.utils.data import Dataset, DataLoader\n",
    "import numpy as np\n",
    "\n",
    "import torch.optim as optim\n",
    "from tqdm import tqdm\n",
    "import matplotlib.pyplot as plt\n",
    "import torch.nn as nn\n",
    "from sklearn.model_selection import train_test_split"
   ],
   "outputs": [],
   "execution_count": 16
  },
  {
   "metadata": {},
   "cell_type": "markdown",
   "source": "# A. Generate Data",
   "id": "9169e40fca904c30"
  },
  {
   "metadata": {
    "ExecuteTime": {
     "end_time": "2024-10-07T05:30:25.522850Z",
     "start_time": "2024-10-07T05:30:25.520674Z"
    }
   },
   "cell_type": "code",
   "source": "#!Rscript generate_data.R --N_data=10000",
   "id": "d60b18bcb3ffb3c9",
   "outputs": [],
   "execution_count": 17
  },
  {
   "metadata": {},
   "cell_type": "markdown",
   "source": "# B. Train Model",
   "id": "636c383aa1a9e695"
  },
  {
   "metadata": {
    "ExecuteTime": {
     "end_time": "2024-10-07T05:30:25.534288Z",
     "start_time": "2024-10-07T05:30:25.530495Z"
    }
   },
   "cell_type": "code",
   "source": [
    "class PhiThreshDataset(Dataset):\n",
    "    def __init__(self, data_dir):\n",
    "        self.phi_dir = os.path.join(data_dir, 'Phi_mat')\n",
    "        self.v_thresh_dir = os.path.join(data_dir, 'v_thresh')\n",
    "        \n",
    "        self.phi_files = [f for f in os.listdir(self.phi_dir) if f.startswith('Phi_mat_') and f.endswith('.txt')]\n",
    "        self.v_thresh_files = [f for f in os.listdir(self.v_thresh_dir) if f.startswith('v_thresh_') and f.endswith('.txt')]\n",
    "\n",
    "    def __len__(self):\n",
    "        return len(self.phi_files)\n",
    "\n",
    "    def __getitem__(self, idx):\n",
    "        phi_file = os.path.join(self.phi_dir, self.phi_files[idx])\n",
    "        phi = np.loadtxt(phi_file)\n",
    "        \n",
    "        v_thresh_file = os.path.join(self.v_thresh_dir, self.v_thresh_files[idx])\n",
    "        v_thresh = np.loadtxt(v_thresh_file)\n",
    "\n",
    "        return torch.tensor(phi, dtype=torch.float32), torch.tensor(v_thresh, dtype=torch.float32)"
   ],
   "id": "728c7b8518c4eeb2",
   "outputs": [],
   "execution_count": 18
  },
  {
   "metadata": {
    "ExecuteTime": {
     "end_time": "2024-10-07T05:30:25.545250Z",
     "start_time": "2024-10-07T05:30:25.542098Z"
    }
   },
   "cell_type": "code",
   "source": [
    "def get_data_loaders(data_dir, batch_size=32, test_size=0.2):\n",
    "    dataset = PhiThreshDataset(data_dir)\n",
    "    train_indices, test_indices = train_test_split(list(range(len(dataset))), test_size=test_size, random_state=42)\n",
    "    \n",
    "    train_set = torch.utils.data.Subset(dataset, train_indices)\n",
    "    test_set = torch.utils.data.Subset(dataset, test_indices)\n",
    "    \n",
    "    train_loader = DataLoader(train_set, batch_size=batch_size, shuffle=True)\n",
    "    test_loader = DataLoader(test_set, batch_size=batch_size, shuffle=False)\n",
    "\n",
    "    return train_loader, test_loader"
   ],
   "id": "e5318115b0d6ef51",
   "outputs": [],
   "execution_count": 19
  },
  {
   "metadata": {
    "ExecuteTime": {
     "end_time": "2024-10-07T05:40:20.558386Z",
     "start_time": "2024-10-07T05:40:20.555342Z"
    }
   },
   "cell_type": "code",
   "source": [
    "class PhiNet(nn.Module):\n",
    "    def __init__(self, input_size):\n",
    "        super(PhiNet, self).__init__()\n",
    "        self.fc1 = nn.Linear(input_size, 32)\n",
    "        self.fc2 = nn.Linear(32, 8)\n",
    "        self.fc3 = nn.Linear(8, 1)\n",
    "        \n",
    "    def forward(self, x):\n",
    "        x = torch.relu(self.fc1(x))\n",
    "        x = torch.relu(self.fc2(x))\n",
    "        x = (torch.sigmoid(self.fc3(x)) + 1)*0.5 # Busquem el rang (0.5, 1)\n",
    "        return x"
   ],
   "id": "75b9704072731224",
   "outputs": [],
   "execution_count": 60
  },
  {
   "metadata": {
    "ExecuteTime": {
     "end_time": "2024-10-07T05:40:20.942469Z",
     "start_time": "2024-10-07T05:40:20.937724Z"
    }
   },
   "cell_type": "code",
   "source": [
    "def evaluate_model(model, train_loader, test_loader, criterion, verbose=True):\n",
    "    model.eval()\n",
    "    total_loss = 0.0\n",
    "    losses_over_train = []\n",
    "    with torch.no_grad():\n",
    "        for inputs, targets in train_loader:\n",
    "            outputs = model(inputs)\n",
    "            loss = criterion(outputs.squeeze(), targets)\n",
    "            total_loss += loss.item()\n",
    "            losses_over_train.append(loss.item())\n",
    "    if verbose:\n",
    "        print(f'Train Loss: {total_loss / len(train_loader):.4f}')\n",
    "    \n",
    "    total_loss = 0.0\n",
    "    losses_over_test = []\n",
    "    with torch.no_grad():\n",
    "        for inputs, targets in test_loader:\n",
    "            outputs = model(inputs)\n",
    "            loss = criterion(outputs.squeeze(), targets)\n",
    "            total_loss += loss.item()\n",
    "            losses_over_test.append(loss.item())\n",
    "    if verbose:\n",
    "        print(f'Test Loss: {total_loss / len(test_loader):.4f}')\n",
    "    \n",
    "    return losses_over_train, losses_over_test\n",
    "\n",
    "def train_model(model, train_loader, criterion, optimizer, num_epochs=10):\n",
    "    model.train()\n",
    "    for epoch in range(num_epochs):\n",
    "        running_loss = 0.0\n",
    "        progress_bar = tqdm(enumerate(train_loader), total=len(train_loader), desc=f\"Epoch {epoch+1}/{num_epochs}\", position=0, leave=True)\n",
    "        for i, (inputs, targets) in progress_bar:\n",
    "            optimizer.zero_grad()\n",
    "            outputs = model(inputs)\n",
    "            loss = criterion(outputs.squeeze(), targets)\n",
    "            loss.backward()\n",
    "            optimizer.step()\n",
    "            running_loss += loss.item()\n",
    "        print(f'Epoch [{epoch+1}/{num_epochs}], Running Loss: {running_loss / len(train_loader):.4f}')\n",
    "        _, _ = evaluate_model(model, train_loader, test_loader, criterion)"
   ],
   "id": "6f2f6bdc96d486c3",
   "outputs": [],
   "execution_count": 61
  },
  {
   "metadata": {
    "ExecuteTime": {
     "end_time": "2024-10-07T05:40:30.399161Z",
     "start_time": "2024-10-07T05:40:21.376630Z"
    }
   },
   "cell_type": "code",
   "source": [
    "data_dir = 'data'\n",
    "input_size = len(np.loadtxt(os.path.join(data_dir, 'Phi_mat/Phi_mat_1.txt')))\n",
    "\n",
    "hparams = {\"batch_size\": 16,\n",
    "           \"learning_rate\": 0.01,\n",
    "           \"num_epochs\": 20}\n",
    "\n",
    "train_loader, test_loader = get_data_loaders(data_dir, batch_size=hparams[\"batch_size\"])\n",
    "\n",
    "model = PhiNet(input_size=input_size)\n",
    "criterion = nn.MSELoss()\n",
    "optimizer = optim.Adam(model.parameters(), lr=hparams[\"learning_rate\"])\n",
    "\n",
    "train_model(model, train_loader, criterion, optimizer, num_epochs=hparams[\"num_epochs\"])"
   ],
   "id": "18249e05344b9c58",
   "outputs": [
    {
     "name": "stderr",
     "output_type": "stream",
     "text": [
      "Epoch 1/20: 100%|██████████| 50/50 [00:00<00:00, 221.78it/s]\n"
     ]
    },
    {
     "name": "stdout",
     "output_type": "stream",
     "text": [
      "Epoch [1/20], Running Loss: 0.0289\n",
      "Train Loss: 0.0247\n",
      "Test Loss: 0.0295\n"
     ]
    },
    {
     "name": "stderr",
     "output_type": "stream",
     "text": [
      "Epoch 2/20: 100%|██████████| 50/50 [00:00<00:00, 226.17it/s]\n"
     ]
    },
    {
     "name": "stdout",
     "output_type": "stream",
     "text": [
      "Epoch [2/20], Running Loss: 0.0248\n",
      "Train Loss: 0.0219\n",
      "Test Loss: 0.0293\n"
     ]
    },
    {
     "name": "stderr",
     "output_type": "stream",
     "text": [
      "Epoch 3/20: 100%|██████████| 50/50 [00:00<00:00, 231.29it/s]\n"
     ]
    },
    {
     "name": "stdout",
     "output_type": "stream",
     "text": [
      "Epoch [3/20], Running Loss: 0.0220\n",
      "Train Loss: 0.0173\n",
      "Test Loss: 0.0305\n"
     ]
    },
    {
     "name": "stderr",
     "output_type": "stream",
     "text": [
      "Epoch 4/20: 100%|██████████| 50/50 [00:00<00:00, 231.87it/s]\n"
     ]
    },
    {
     "name": "stdout",
     "output_type": "stream",
     "text": [
      "Epoch [4/20], Running Loss: 0.0183\n",
      "Train Loss: 0.0140\n",
      "Test Loss: 0.0337\n"
     ]
    },
    {
     "name": "stderr",
     "output_type": "stream",
     "text": [
      "Epoch 5/20: 100%|██████████| 50/50 [00:00<00:00, 229.14it/s]\n"
     ]
    },
    {
     "name": "stdout",
     "output_type": "stream",
     "text": [
      "Epoch [5/20], Running Loss: 0.0132\n",
      "Train Loss: 0.0073\n",
      "Test Loss: 0.0321\n"
     ]
    },
    {
     "name": "stderr",
     "output_type": "stream",
     "text": [
      "Epoch 6/20: 100%|██████████| 50/50 [00:00<00:00, 228.75it/s]\n"
     ]
    },
    {
     "name": "stdout",
     "output_type": "stream",
     "text": [
      "Epoch [6/20], Running Loss: 0.0078\n",
      "Train Loss: 0.0044\n",
      "Test Loss: 0.0340\n"
     ]
    },
    {
     "name": "stderr",
     "output_type": "stream",
     "text": [
      "Epoch 7/20: 100%|██████████| 50/50 [00:00<00:00, 225.82it/s]\n"
     ]
    },
    {
     "name": "stdout",
     "output_type": "stream",
     "text": [
      "Epoch [7/20], Running Loss: 0.0049\n",
      "Train Loss: 0.0034\n",
      "Test Loss: 0.0334\n"
     ]
    },
    {
     "name": "stderr",
     "output_type": "stream",
     "text": [
      "Epoch 8/20: 100%|██████████| 50/50 [00:00<00:00, 228.92it/s]\n"
     ]
    },
    {
     "name": "stdout",
     "output_type": "stream",
     "text": [
      "Epoch [8/20], Running Loss: 0.0040\n",
      "Train Loss: 0.0030\n",
      "Test Loss: 0.0348\n"
     ]
    },
    {
     "name": "stderr",
     "output_type": "stream",
     "text": [
      "Epoch 9/20: 100%|██████████| 50/50 [00:00<00:00, 234.67it/s]\n"
     ]
    },
    {
     "name": "stdout",
     "output_type": "stream",
     "text": [
      "Epoch [9/20], Running Loss: 0.0033\n",
      "Train Loss: 0.0023\n",
      "Test Loss: 0.0320\n"
     ]
    },
    {
     "name": "stderr",
     "output_type": "stream",
     "text": [
      "Epoch 10/20: 100%|██████████| 50/50 [00:00<00:00, 230.01it/s]\n"
     ]
    },
    {
     "name": "stdout",
     "output_type": "stream",
     "text": [
      "Epoch [10/20], Running Loss: 0.0026\n",
      "Train Loss: 0.0023\n",
      "Test Loss: 0.0352\n"
     ]
    },
    {
     "name": "stderr",
     "output_type": "stream",
     "text": [
      "Epoch 11/20: 100%|██████████| 50/50 [00:00<00:00, 225.29it/s]\n"
     ]
    },
    {
     "name": "stdout",
     "output_type": "stream",
     "text": [
      "Epoch [11/20], Running Loss: 0.0024\n",
      "Train Loss: 0.0019\n",
      "Test Loss: 0.0324\n"
     ]
    },
    {
     "name": "stderr",
     "output_type": "stream",
     "text": [
      "Epoch 12/20: 100%|██████████| 50/50 [00:00<00:00, 231.93it/s]\n"
     ]
    },
    {
     "name": "stdout",
     "output_type": "stream",
     "text": [
      "Epoch [12/20], Running Loss: 0.0022\n",
      "Train Loss: 0.0017\n",
      "Test Loss: 0.0338\n"
     ]
    },
    {
     "name": "stderr",
     "output_type": "stream",
     "text": [
      "Epoch 13/20: 100%|██████████| 50/50 [00:00<00:00, 230.99it/s]\n"
     ]
    },
    {
     "name": "stdout",
     "output_type": "stream",
     "text": [
      "Epoch [13/20], Running Loss: 0.0018\n",
      "Train Loss: 0.0016\n",
      "Test Loss: 0.0323\n"
     ]
    },
    {
     "name": "stderr",
     "output_type": "stream",
     "text": [
      "Epoch 14/20: 100%|██████████| 50/50 [00:00<00:00, 232.42it/s]\n"
     ]
    },
    {
     "name": "stdout",
     "output_type": "stream",
     "text": [
      "Epoch [14/20], Running Loss: 0.0016\n",
      "Train Loss: 0.0014\n",
      "Test Loss: 0.0334\n"
     ]
    },
    {
     "name": "stderr",
     "output_type": "stream",
     "text": [
      "Epoch 15/20: 100%|██████████| 50/50 [00:00<00:00, 237.44it/s]\n"
     ]
    },
    {
     "name": "stdout",
     "output_type": "stream",
     "text": [
      "Epoch [15/20], Running Loss: 0.0015\n",
      "Train Loss: 0.0011\n",
      "Test Loss: 0.0316\n"
     ]
    },
    {
     "name": "stderr",
     "output_type": "stream",
     "text": [
      "Epoch 16/20: 100%|██████████| 50/50 [00:00<00:00, 203.92it/s]\n"
     ]
    },
    {
     "name": "stdout",
     "output_type": "stream",
     "text": [
      "Epoch [16/20], Running Loss: 0.0011\n",
      "Train Loss: 0.0009\n",
      "Test Loss: 0.0334\n"
     ]
    },
    {
     "name": "stderr",
     "output_type": "stream",
     "text": [
      "Epoch 17/20: 100%|██████████| 50/50 [00:00<00:00, 228.19it/s]\n"
     ]
    },
    {
     "name": "stdout",
     "output_type": "stream",
     "text": [
      "Epoch [17/20], Running Loss: 0.0009\n",
      "Train Loss: 0.0008\n",
      "Test Loss: 0.0321\n"
     ]
    },
    {
     "name": "stderr",
     "output_type": "stream",
     "text": [
      "Epoch 18/20: 100%|██████████| 50/50 [00:00<00:00, 225.19it/s]\n"
     ]
    },
    {
     "name": "stdout",
     "output_type": "stream",
     "text": [
      "Epoch [18/20], Running Loss: 0.0008\n",
      "Train Loss: 0.0009\n",
      "Test Loss: 0.0334\n"
     ]
    },
    {
     "name": "stderr",
     "output_type": "stream",
     "text": [
      "Epoch 19/20: 100%|██████████| 50/50 [00:00<00:00, 225.78it/s]\n"
     ]
    },
    {
     "name": "stdout",
     "output_type": "stream",
     "text": [
      "Epoch [19/20], Running Loss: 0.0010\n",
      "Train Loss: 0.0010\n",
      "Test Loss: 0.0335\n"
     ]
    },
    {
     "name": "stderr",
     "output_type": "stream",
     "text": [
      "Epoch 20/20: 100%|██████████| 50/50 [00:00<00:00, 228.49it/s]\n"
     ]
    },
    {
     "name": "stdout",
     "output_type": "stream",
     "text": [
      "Epoch [20/20], Running Loss: 0.0011\n",
      "Train Loss: 0.0009\n",
      "Test Loss: 0.0339\n"
     ]
    }
   ],
   "execution_count": 62
  },
  {
   "metadata": {},
   "cell_type": "markdown",
   "source": "# Evaluate Model",
   "id": "710f41eb03b9e9bd"
  },
  {
   "metadata": {
    "ExecuteTime": {
     "end_time": "2024-10-07T05:39:21.952968Z",
     "start_time": "2024-10-07T05:39:21.719411Z"
    }
   },
   "cell_type": "code",
   "source": "losses_over_train, losses_over_test = evaluate_model(model, train_loader, test_loader, criterion)",
   "id": "b0f5929d26df5183",
   "outputs": [
    {
     "name": "stdout",
     "output_type": "stream",
     "text": [
      "Train Loss: 0.0145\n",
      "Test Loss: 0.0335\n"
     ]
    }
   ],
   "execution_count": 56
  },
  {
   "metadata": {},
   "cell_type": "markdown",
   "source": "## v distribution",
   "id": "5e73b9b6c7865e02"
  },
  {
   "metadata": {},
   "cell_type": "markdown",
   "source": "### Training Data",
   "id": "4b7a2e3f2b0e4d7"
  },
  {
   "metadata": {
    "ExecuteTime": {
     "end_time": "2024-10-07T05:40:34.739677Z",
     "start_time": "2024-10-07T05:40:34.447771Z"
    }
   },
   "cell_type": "code",
   "source": [
    "model.eval()\n",
    "\n",
    "with torch.no_grad():\n",
    "    train_loader_v = []\n",
    "    train_infer_v = []\n",
    "    for inputs, targets in train_loader:\n",
    "        train_loader_v += targets.numpy().squeeze().tolist()\n",
    "        train_infer_v += model(inputs).numpy().squeeze().tolist()\n",
    "\n",
    "bin_edges = [0.25, 0.3, 0.35, 0.4 , 0.45 , 0.5, 0.55, 0.6, 0.65, 0.7, 0.75, 0.8, 0.85, 0.9, 0.95, 1.001, 1.05, 1.1, 1.15, 1.2, 1.25]\n",
    "\n",
    "fig, (ax1, ax2) = plt.subplots(1, 2, figsize=(12, 6))\n",
    "\n",
    "N, bins, patches = ax1.hist(train_loader_v, bins=bin_edges, edgecolor='black')\n",
    "for i in range(0, 4+1):\n",
    "    patches[i].set_facecolor('r')\n",
    "for i in range(5,15):    \n",
    "    patches[i].set_facecolor('b')\n",
    "for i in range(15, len(patches)):\n",
    "    patches[i].set_facecolor('r')\n",
    "ax1.set_title('Histogram for Training Data')\n",
    "ax1.set_xlabel('Values')\n",
    "ax1.set_ylabel('Frequency')\n",
    "\n",
    "N, bins, patches = ax2.hist(train_infer_v, bins=bin_edges, edgecolor='black')\n",
    "for i in range(0, 4+1):\n",
    "    patches[i].set_facecolor('r')\n",
    "for i in range(5,15):    \n",
    "    patches[i].set_facecolor('b')\n",
    "for i in range(15, len(patches)):\n",
    "    patches[i].set_facecolor('r')\n",
    "ax2.set_title('Histogram for Training Inference')\n",
    "ax2.set_xlabel('Values')\n",
    "ax2.set_ylabel('Frequency')\n",
    "\n",
    "plt.tight_layout()\n",
    "plt.show()"
   ],
   "id": "648954cd900bf5ff",
   "outputs": [
    {
     "data": {
      "text/plain": [
       "<Figure size 1200x600 with 2 Axes>"
      ],
      "image/png": "[encoded data removed]"
     },
     "metadata": {},
     "output_type": "display_data"
    }
   ],
   "execution_count": 63
  },
  {
   "metadata": {
    "ExecuteTime": {
     "end_time": "2024-10-07T05:40:37.628832Z",
     "start_time": "2024-10-07T05:40:37.569216Z"
    }
   },
   "cell_type": "code",
   "source": [
    "plt.hist(np.abs(np.array(train_loader_v) - np.array(train_infer_v)), bins='auto')\n",
    "plt.title(\"Histogram of Absolute Error for Training Data\")\n",
    "plt.show()"
   ],
   "id": "48fcf01c49dfdb1b",
   "outputs": [
    {
     "data": {
      "text/plain": [
       "<Figure size 640x480 with 1 Axes>"
      ],
      "image/png": "[encoded data removed]"
     },
     "metadata": {},
     "output_type": "display_data"
    }
   ],
   "execution_count": 64
  },
  {
   "metadata": {},
   "cell_type": "markdown",
   "source": "### Test Data",
   "id": "16dec20996b004a9"
  },
  {
   "metadata": {
    "ExecuteTime": {
     "end_time": "2024-10-07T05:40:41.836717Z",
     "start_time": "2024-10-07T05:40:41.681194Z"
    }
   },
   "cell_type": "code",
   "source": [
    "model.eval()\n",
    "\n",
    "with torch.no_grad():\n",
    "    test_loader_v = []\n",
    "    test_infer_v = []\n",
    "    for inputs, targets in test_loader:\n",
    "        test_loader_v += targets.numpy().squeeze().tolist()\n",
    "        test_infer_v += model(inputs).numpy().squeeze().tolist()\n",
    "\n",
    "bin_edges = [0.25, 0.3, 0.35, 0.4 , 0.45 , 0.5, 0.55, 0.6, 0.65, 0.7, 0.75, 0.8, 0.85, 0.9, 0.95, 1.001, 1.05, 1.1, 1.15, 1.2, 1.25]\n",
    "\n",
    "fig, (ax1, ax2) = plt.subplots(1, 2, figsize=(12, 6))\n",
    "\n",
    "N, bins, patches = ax1.hist(test_loader_v, bins=bin_edges, edgecolor='black')\n",
    "for i in range(0, 4+1):\n",
    "    patches[i].set_facecolor('r')\n",
    "for i in range(5,15):    \n",
    "    patches[i].set_facecolor('b')\n",
    "for i in range(15, len(patches)):\n",
    "    patches[i].set_facecolor('r')\n",
    "ax1.set_title('Histogram for Test Data')\n",
    "ax1.set_xlabel('Values')\n",
    "ax1.set_ylabel('Frequency')\n",
    "\n",
    "N, bins, patches = ax2.hist(test_infer_v, bins=bin_edges, edgecolor='black')\n",
    "for i in range(0, 4+1):\n",
    "    patches[i].set_facecolor('r')\n",
    "for i in range(5,15):    \n",
    "    patches[i].set_facecolor('b')\n",
    "for i in range(15, len(patches)):\n",
    "    patches[i].set_facecolor('r')\n",
    "ax2.set_title('Histogram for Test Inference')\n",
    "ax2.set_xlabel('Values')\n",
    "ax2.set_ylabel('Frequency')\n",
    "\n",
    "plt.tight_layout()\n",
    "plt.show()"
   ],
   "id": "5d112b7b011f8377",
   "outputs": [
    {
     "data": {
      "text/plain": [
       "<Figure size 1200x600 with 2 Axes>"
      ],
      "image/png": "[encoded data removed]"
     },
     "metadata": {},
     "output_type": "display_data"
    }
   ],
   "execution_count": 65
  },
  {
   "metadata": {
    "ExecuteTime": {
     "end_time": "2024-10-07T05:40:48.668527Z",
     "start_time": "2024-10-07T05:40:48.625240Z"
    }
   },
   "cell_type": "code",
   "source": [
    "plt.hist(np.abs(np.array(test_loader_v) - np.array(test_infer_v)), bins='auto')\n",
    "plt.title(\"Histogram of Absolute Error for Test Data\")\n",
    "plt.show()"
   ],
   "id": "8b494d1fbc2eab97",
   "outputs": [
    {
     "data": {
      "text/plain": [
       "<Figure size 640x480 with 1 Axes>"
      ],
      "image/png": "[encoded data removed]"
     },
     "metadata": {},
     "output_type": "display_data"
    }
   ],
   "execution_count": 67
  },
  {
   "metadata": {},
   "cell_type": "markdown",
   "source": "## FDR and TPR",
   "id": "7f0816a5a16c96fe"
  },
  {
   "metadata": {
    "ExecuteTime": {
     "end_time": "2024-10-07T05:40:50.339427Z",
     "start_time": "2024-10-07T05:40:50.087878Z"
    }
   },
   "cell_type": "code",
   "source": [
    "data_dir = 'data'\n",
    "phi_dir = os.path.join(data_dir, 'Phi_mat')\n",
    "true_actives_dir = os.path.join(data_dir, 'true_actives')\n",
    "\n",
    "phi_data = [np.loadtxt(os.path.join(phi_dir, f)) \n",
    "            for f in os.listdir(phi_dir) if f.startswith('Phi_mat_') and f.endswith('.txt')]\n",
    "true_actives_data = [np.loadtxt(os.path.join(true_actives_dir, f), dtype=int) - 1  # We substract 1 as they are R indices (starting from 1)\n",
    "                     for f in os.listdir(true_actives_dir) if f.startswith('true_actives_') and f.endswith('.txt')]\n",
    "\n",
    "FDRs = []  # or FDPs\n",
    "TPRs = []  # or TPPs\n",
    "for phi, true_actives in zip(phi_data, true_actives_data):\n",
    "    with torch.no_grad():\n",
    "        v = model(torch.Tensor(phi)).numpy()[0]\n",
    "    selected = np.where(phi > v)[0]\n",
    "    selected_actives = np.intersect1d(selected, true_actives, assume_unique=True)\n",
    "    selected_null = np.setdiff1d(selected, selected_actives, assume_unique=True)\n",
    "    FDRs.append(len(selected_null)/max(len(selected), 1))\n",
    "    TPRs.append(len(selected_actives)/max(len(true_actives), 1))"
   ],
   "id": "ce0b27b266d3e95c",
   "outputs": [],
   "execution_count": 68
  },
  {
   "metadata": {
    "ExecuteTime": {
     "end_time": "2024-10-07T05:40:51.584119Z",
     "start_time": "2024-10-07T05:40:51.534498Z"
    }
   },
   "cell_type": "code",
   "source": [
    "plt.hist(FDRs, bins='auto')\n",
    "plt.title(\"FDRs for Training Data\")\n",
    "plt.show()"
   ],
   "id": "df5a3c24011ca735",
   "outputs": [
    {
     "data": {
      "text/plain": [
       "<Figure size 640x480 with 1 Axes>"
      ],
      "image/png": "[encoded data removed]"
     },
     "metadata": {},
     "output_type": "display_data"
    }
   ],
   "execution_count": 69
  },
  {
   "metadata": {
    "ExecuteTime": {
     "end_time": "2024-10-07T05:40:52.778135Z",
     "start_time": "2024-10-07T05:40:52.729058Z"
    }
   },
   "cell_type": "code",
   "source": [
    "plt.hist(TPRs, bins='auto')\n",
    "plt.title(\"TPRs for Training Data\")\n",
    "plt.show()"
   ],
   "id": "d283cadfd34152a",
   "outputs": [
    {
     "data": {
      "text/plain": [
       "<Figure size 640x480 with 1 Axes>"
      ],
      "image/png": "[encoded data removed]"
     },
     "metadata": {},
     "output_type": "display_data"
    }
   ],
   "execution_count": 70
  },
  {
   "metadata": {
    "ExecuteTime": {
     "end_time": "2024-10-07T05:30:31.461200Z",
     "start_time": "2024-10-07T05:30:31.458487Z"
    }
   },
   "cell_type": "code",
   "source": "",
   "id": "c9a1ff9a52ffceb8",
   "outputs": [],
   "execution_count": null
  }
 ],
 "metadata": {
  "kernelspec": {
   "display_name": "Python 3",
   "language": "python",
   "name": "python3"
  },
  "language_info": {
   "codemirror_mode": {
    "name": "ipython",
    "version": 2
   },
   "file_extension": ".py",
   "mimetype": "text/x-python",
   "name": "python",
   "nbconvert_exporter": "python",
   "pygments_lexer": "ipython2",
   "version": "2.7.6"
  }
 },
 "nbformat": 4,
 "nbformat_minor": 5
}
