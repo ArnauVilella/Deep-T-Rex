{
 "cells": [
  {
   "cell_type": "code",
   "id": "initial_id",
   "metadata": {
    "collapsed": true,
    "ExecuteTime": {
     "end_time": "2024-10-03T11:04:59.012282Z",
     "start_time": "2024-10-03T11:04:56.575377Z"
    }
   },
   "source": [
    "import os\n",
    "import torch\n",
    "from torch.utils.data import Dataset, DataLoader\n",
    "import numpy as np\n",
    "\n",
    "import torch.optim as optim\n",
    "from tqdm import tqdm\n",
    "import matplotlib.pyplot as plt\n",
    "import torch.nn as nn\n",
    "from sklearn.model_selection import train_test_split\n",
    "\n",
    "class PhiThreshDataset(Dataset):\n",
    "    def __init__(self, data_dir):\n",
    "        self.data_dir = data_dir\n",
    "        self.phi_files = [f for f in os.listdir(data_dir) if f.startswith('Phi_mat_') and f.endswith('.txt')]\n",
    "        self.v_thresh_files = [f for f in os.listdir(data_dir) if f.startswith('v_thresh_') and f.endswith('.txt')]\n",
    "\n",
    "    def __len__(self):\n",
    "        return len(self.phi_files)\n",
    "\n",
    "    def __getitem__(self, idx):\n",
    "        # Load the input vector (phi)\n",
    "        phi_file = os.path.join(self.data_dir, self.phi_files[idx])\n",
    "        phi = np.loadtxt(phi_file)\n",
    "\n",
    "        # Load the output scalar (v_thresh)\n",
    "        v_thresh_file = os.path.join(self.data_dir, self.v_thresh_files[idx])\n",
    "        v_thresh = np.loadtxt(v_thresh_file)\n",
    "\n",
    "        return torch.tensor(phi, dtype=torch.float32), torch.tensor(v_thresh, dtype=torch.float32)"
   ],
   "outputs": [],
   "execution_count": 1
  },
  {
   "metadata": {
    "ExecuteTime": {
     "end_time": "2024-10-03T11:05:00.220067Z",
     "start_time": "2024-10-03T11:05:00.216262Z"
    }
   },
   "cell_type": "code",
   "source": [
    "def get_data_loaders(data_dir, batch_size=32, test_size=0.2):\n",
    "    dataset = PhiThreshDataset(data_dir)\n",
    "    train_indices, test_indices = train_test_split(list(range(len(dataset))), test_size=test_size, random_state=42)\n",
    "    \n",
    "    train_set = torch.utils.data.Subset(dataset, train_indices)\n",
    "    test_set = torch.utils.data.Subset(dataset, test_indices)\n",
    "    \n",
    "    train_loader = DataLoader(train_set, batch_size=batch_size, shuffle=True)\n",
    "    test_loader = DataLoader(test_set, batch_size=batch_size, shuffle=False)\n",
    "\n",
    "    return train_loader, test_loader"
   ],
   "id": "e5318115b0d6ef51",
   "outputs": [],
   "execution_count": 2
  },
  {
   "metadata": {
    "ExecuteTime": {
     "end_time": "2024-10-03T11:05:02.270751Z",
     "start_time": "2024-10-03T11:05:02.257940Z"
    }
   },
   "cell_type": "code",
   "source": [
    "class PhiNet(nn.Module):\n",
    "    def __init__(self, input_size):\n",
    "        super(PhiNet, self).__init__()\n",
    "        self.fc1 = nn.Linear(input_size, 64)\n",
    "        self.fc2 = nn.Linear(64, 16)\n",
    "        self.fc3 = nn.Linear(16, 1)\n",
    "        \n",
    "    def forward(self, x):\n",
    "        x = torch.tanh(self.fc1(x))\n",
    "        x = torch.tanh(self.fc2(x))\n",
    "        x = (torch.sigmoid(self.fc3(x)) + 1)*0.5 # Busquem el rang (0.5, 1)\n",
    "        return x"
   ],
   "id": "75b9704072731224",
   "outputs": [],
   "execution_count": 3
  },
  {
   "metadata": {
    "ExecuteTime": {
     "end_time": "2024-10-03T11:05:03.957568Z",
     "start_time": "2024-10-03T11:05:03.952320Z"
    }
   },
   "cell_type": "code",
   "source": [
    "def evaluate_model(model, train_loader, test_loader, criterion):\n",
    "    model.eval()\n",
    "    total_loss = 0.0\n",
    "    losses_over_train = []\n",
    "    with torch.no_grad():\n",
    "        for inputs, targets in train_loader:\n",
    "            outputs = model(inputs)\n",
    "            loss = criterion(outputs.squeeze(), targets)\n",
    "            total_loss += loss.item()\n",
    "            losses_over_train.append(loss.item())\n",
    "    print(f'Train Loss: {total_loss / len(train_loader):.4f}')\n",
    "    \n",
    "    total_loss = 0.0\n",
    "    losses_over_test = []\n",
    "    with torch.no_grad():\n",
    "        for inputs, targets in test_loader:\n",
    "            outputs = model(inputs)\n",
    "            loss = criterion(outputs.squeeze(), targets)\n",
    "            total_loss += loss.item()\n",
    "            losses_over_test.append(loss.item())\n",
    "    print(f'Test Loss: {total_loss / len(test_loader):.4f}')\n",
    "    \n",
    "    return losses_over_train, losses_over_test\n",
    "\n",
    "def train_model(model, train_loader, criterion, optimizer, num_epochs=10):\n",
    "    model.train()\n",
    "    for epoch in range(num_epochs):\n",
    "        running_loss = 0.0\n",
    "        progress_bar = tqdm(enumerate(train_loader), total=len(train_loader), desc=f\"Epoch {epoch+1}/{num_epochs}\", position=0, leave=True)\n",
    "        for i, (inputs, targets) in progress_bar:\n",
    "            optimizer.zero_grad()\n",
    "            outputs = model(inputs)\n",
    "            loss = criterion(outputs.squeeze(), targets)\n",
    "            loss.backward()\n",
    "            optimizer.step()\n",
    "            running_loss += loss.item()\n",
    "        print(f'Epoch [{epoch+1}/{num_epochs}], Running Loss: {running_loss / len(train_loader):.4f}')\n",
    "        _, _ = evaluate_model(model, train_loader, test_loader, criterion)"
   ],
   "id": "6f2f6bdc96d486c3",
   "outputs": [],
   "execution_count": 4
  },
  {
   "metadata": {
    "ExecuteTime": {
     "end_time": "2024-10-03T11:14:25.272158Z",
     "start_time": "2024-10-03T11:05:05.385659Z"
    }
   },
   "cell_type": "code",
   "source": [
    "data_dir = 'C:\\\\Users\\\\avp\\\\OneDrive - HKUST Connect\\\\Desktop\\\\Deep T-Rex\\\\Code\\\\RCode\\\\data'\n",
    "input_size = len(np.loadtxt(os.path.join(data_dir, 'Phi_mat_1.txt')))\n",
    "\n",
    "hparams = {\"batch_size\": 16,\n",
    "           \"learning_rate\": 0.01,\n",
    "           \"num_epochs\": 10}\n",
    "\n",
    "train_loader, test_loader = get_data_loaders(data_dir, batch_size=hparams[\"batch_size\"])\n",
    "\n",
    "model = PhiNet(input_size=input_size)\n",
    "criterion = nn.MSELoss()\n",
    "optimizer = optim.Adam(model.parameters(), lr=hparams[\"learning_rate\"])\n",
    "\n",
    "train_model(model, train_loader, criterion, optimizer, num_epochs=hparams[\"num_epochs\"])\n",
    "\n",
    "losses_over_train, losses_over_test = evaluate_model(model, train_loader, test_loader, criterion)"
   ],
   "id": "18249e05344b9c58",
   "outputs": [
    {
     "name": "stderr",
     "output_type": "stream",
     "text": [
      "Epoch 1/100: 100%|██████████| 500/500 [00:03<00:00, 134.43it/s]\n"
     ]
    },
    {
     "name": "stdout",
     "output_type": "stream",
     "text": [
      "Epoch [1/100], Running Loss: 0.0261\n",
      "Train Loss: 0.0194\n",
      "Test Loss: 0.0199\n"
     ]
    },
    {
     "name": "stderr",
     "output_type": "stream",
     "text": [
      "Epoch 2/100: 100%|██████████| 500/500 [00:02<00:00, 181.39it/s]\n"
     ]
    },
    {
     "name": "stdout",
     "output_type": "stream",
     "text": [
      "Epoch [2/100], Running Loss: 0.0194\n",
      "Train Loss: 0.0184\n",
      "Test Loss: 0.0201\n"
     ]
    },
    {
     "name": "stderr",
     "output_type": "stream",
     "text": [
      "Epoch 3/100: 100%|██████████| 500/500 [00:02<00:00, 182.58it/s]\n"
     ]
    },
    {
     "name": "stdout",
     "output_type": "stream",
     "text": [
      "Epoch [3/100], Running Loss: 0.0185\n",
      "Train Loss: 0.0166\n",
      "Test Loss: 0.0171\n"
     ]
    },
    {
     "name": "stderr",
     "output_type": "stream",
     "text": [
      "Epoch 4/100: 100%|██████████| 500/500 [00:02<00:00, 193.34it/s]\n"
     ]
    },
    {
     "name": "stdout",
     "output_type": "stream",
     "text": [
      "Epoch [4/100], Running Loss: 0.0179\n",
      "Train Loss: 0.0166\n",
      "Test Loss: 0.0182\n"
     ]
    },
    {
     "name": "stderr",
     "output_type": "stream",
     "text": [
      "Epoch 5/100: 100%|██████████| 500/500 [00:02<00:00, 197.17it/s]\n"
     ]
    },
    {
     "name": "stdout",
     "output_type": "stream",
     "text": [
      "Epoch [5/100], Running Loss: 0.0175\n",
      "Train Loss: 0.0161\n",
      "Test Loss: 0.0165\n"
     ]
    },
    {
     "name": "stderr",
     "output_type": "stream",
     "text": [
      "Epoch 6/100: 100%|██████████| 500/500 [00:02<00:00, 192.02it/s]\n"
     ]
    },
    {
     "name": "stdout",
     "output_type": "stream",
     "text": [
      "Epoch [6/100], Running Loss: 0.0172\n",
      "Train Loss: 0.0156\n",
      "Test Loss: 0.0168\n"
     ]
    },
    {
     "name": "stderr",
     "output_type": "stream",
     "text": [
      "Epoch 7/100: 100%|██████████| 500/500 [00:02<00:00, 191.52it/s]\n"
     ]
    },
    {
     "name": "stdout",
     "output_type": "stream",
     "text": [
      "Epoch [7/100], Running Loss: 0.0170\n",
      "Train Loss: 0.0155\n",
      "Test Loss: 0.0170\n"
     ]
    },
    {
     "name": "stderr",
     "output_type": "stream",
     "text": [
      "Epoch 8/100: 100%|██████████| 500/500 [00:02<00:00, 195.97it/s]\n"
     ]
    },
    {
     "name": "stdout",
     "output_type": "stream",
     "text": [
      "Epoch [8/100], Running Loss: 0.0162\n",
      "Train Loss: 0.0154\n",
      "Test Loss: 0.0174\n"
     ]
    },
    {
     "name": "stderr",
     "output_type": "stream",
     "text": [
      "Epoch 9/100: 100%|██████████| 500/500 [00:02<00:00, 189.79it/s]\n"
     ]
    },
    {
     "name": "stdout",
     "output_type": "stream",
     "text": [
      "Epoch [9/100], Running Loss: 0.0161\n",
      "Train Loss: 0.0151\n",
      "Test Loss: 0.0176\n"
     ]
    },
    {
     "name": "stderr",
     "output_type": "stream",
     "text": [
      "Epoch 10/100: 100%|██████████| 500/500 [00:02<00:00, 191.54it/s]\n"
     ]
    },
    {
     "name": "stdout",
     "output_type": "stream",
     "text": [
      "Epoch [10/100], Running Loss: 0.0154\n",
      "Train Loss: 0.0151\n",
      "Test Loss: 0.0191\n"
     ]
    },
    {
     "name": "stderr",
     "output_type": "stream",
     "text": [
      "Epoch 11/100: 100%|██████████| 500/500 [00:02<00:00, 177.28it/s]\n"
     ]
    },
    {
     "name": "stdout",
     "output_type": "stream",
     "text": [
      "Epoch [11/100], Running Loss: 0.0149\n",
      "Train Loss: 0.0142\n",
      "Test Loss: 0.0183\n"
     ]
    },
    {
     "name": "stderr",
     "output_type": "stream",
     "text": [
      "Epoch 12/100: 100%|██████████| 500/500 [00:02<00:00, 197.40it/s]\n"
     ]
    },
    {
     "name": "stdout",
     "output_type": "stream",
     "text": [
      "Epoch [12/100], Running Loss: 0.0146\n",
      "Train Loss: 0.0134\n",
      "Test Loss: 0.0179\n"
     ]
    },
    {
     "name": "stderr",
     "output_type": "stream",
     "text": [
      "Epoch 13/100: 100%|██████████| 500/500 [00:02<00:00, 196.06it/s]\n"
     ]
    },
    {
     "name": "stdout",
     "output_type": "stream",
     "text": [
      "Epoch [13/100], Running Loss: 0.0139\n",
      "Train Loss: 0.0127\n",
      "Test Loss: 0.0183\n"
     ]
    },
    {
     "name": "stderr",
     "output_type": "stream",
     "text": [
      "Epoch 14/100: 100%|██████████| 500/500 [00:02<00:00, 196.14it/s]\n"
     ]
    },
    {
     "name": "stdout",
     "output_type": "stream",
     "text": [
      "Epoch [14/100], Running Loss: 0.0134\n",
      "Train Loss: 0.0116\n",
      "Test Loss: 0.0175\n"
     ]
    },
    {
     "name": "stderr",
     "output_type": "stream",
     "text": [
      "Epoch 15/100: 100%|██████████| 500/500 [00:02<00:00, 191.82it/s]\n"
     ]
    },
    {
     "name": "stdout",
     "output_type": "stream",
     "text": [
      "Epoch [15/100], Running Loss: 0.0124\n",
      "Train Loss: 0.0111\n",
      "Test Loss: 0.0179\n"
     ]
    },
    {
     "name": "stderr",
     "output_type": "stream",
     "text": [
      "Epoch 16/100: 100%|██████████| 500/500 [00:02<00:00, 192.44it/s]\n"
     ]
    },
    {
     "name": "stdout",
     "output_type": "stream",
     "text": [
      "Epoch [16/100], Running Loss: 0.0116\n",
      "Train Loss: 0.0104\n",
      "Test Loss: 0.0185\n"
     ]
    },
    {
     "name": "stderr",
     "output_type": "stream",
     "text": [
      "Epoch 17/100: 100%|██████████| 500/500 [00:02<00:00, 189.37it/s]\n"
     ]
    },
    {
     "name": "stdout",
     "output_type": "stream",
     "text": [
      "Epoch [17/100], Running Loss: 0.0111\n",
      "Train Loss: 0.0093\n",
      "Test Loss: 0.0185\n"
     ]
    },
    {
     "name": "stderr",
     "output_type": "stream",
     "text": [
      "Epoch 18/100: 100%|██████████| 500/500 [00:02<00:00, 196.81it/s]\n"
     ]
    },
    {
     "name": "stdout",
     "output_type": "stream",
     "text": [
      "Epoch [18/100], Running Loss: 0.0100\n",
      "Train Loss: 0.0093\n",
      "Test Loss: 0.0196\n"
     ]
    },
    {
     "name": "stderr",
     "output_type": "stream",
     "text": [
      "Epoch 19/100: 100%|██████████| 500/500 [00:02<00:00, 192.99it/s]\n"
     ]
    },
    {
     "name": "stdout",
     "output_type": "stream",
     "text": [
      "Epoch [19/100], Running Loss: 0.0095\n",
      "Train Loss: 0.0081\n",
      "Test Loss: 0.0188\n"
     ]
    },
    {
     "name": "stderr",
     "output_type": "stream",
     "text": [
      "Epoch 20/100: 100%|██████████| 500/500 [00:02<00:00, 182.01it/s]\n"
     ]
    },
    {
     "name": "stdout",
     "output_type": "stream",
     "text": [
      "Epoch [20/100], Running Loss: 0.0089\n",
      "Train Loss: 0.0073\n",
      "Test Loss: 0.0199\n"
     ]
    },
    {
     "name": "stderr",
     "output_type": "stream",
     "text": [
      "Epoch 21/100: 100%|██████████| 500/500 [00:02<00:00, 186.90it/s]\n"
     ]
    },
    {
     "name": "stdout",
     "output_type": "stream",
     "text": [
      "Epoch [21/100], Running Loss: 0.0081\n",
      "Train Loss: 0.0071\n",
      "Test Loss: 0.0209\n"
     ]
    },
    {
     "name": "stderr",
     "output_type": "stream",
     "text": [
      "Epoch 22/100: 100%|██████████| 500/500 [00:02<00:00, 195.69it/s]\n"
     ]
    },
    {
     "name": "stdout",
     "output_type": "stream",
     "text": [
      "Epoch [22/100], Running Loss: 0.0077\n",
      "Train Loss: 0.0063\n",
      "Test Loss: 0.0194\n"
     ]
    },
    {
     "name": "stderr",
     "output_type": "stream",
     "text": [
      "Epoch 23/100: 100%|██████████| 500/500 [00:02<00:00, 188.56it/s]\n"
     ]
    },
    {
     "name": "stdout",
     "output_type": "stream",
     "text": [
      "Epoch [23/100], Running Loss: 0.0073\n",
      "Train Loss: 0.0067\n",
      "Test Loss: 0.0204\n"
     ]
    },
    {
     "name": "stderr",
     "output_type": "stream",
     "text": [
      "Epoch 24/100: 100%|██████████| 500/500 [00:02<00:00, 203.69it/s]\n"
     ]
    },
    {
     "name": "stdout",
     "output_type": "stream",
     "text": [
      "Epoch [24/100], Running Loss: 0.0069\n",
      "Train Loss: 0.0059\n",
      "Test Loss: 0.0206\n"
     ]
    },
    {
     "name": "stderr",
     "output_type": "stream",
     "text": [
      "Epoch 25/100: 100%|██████████| 500/500 [00:02<00:00, 199.27it/s]\n"
     ]
    },
    {
     "name": "stdout",
     "output_type": "stream",
     "text": [
      "Epoch [25/100], Running Loss: 0.0063\n",
      "Train Loss: 0.0055\n",
      "Test Loss: 0.0212\n"
     ]
    },
    {
     "name": "stderr",
     "output_type": "stream",
     "text": [
      "Epoch 26/100: 100%|██████████| 500/500 [00:02<00:00, 194.79it/s]\n"
     ]
    },
    {
     "name": "stdout",
     "output_type": "stream",
     "text": [
      "Epoch [26/100], Running Loss: 0.0061\n",
      "Train Loss: 0.0051\n",
      "Test Loss: 0.0214\n"
     ]
    },
    {
     "name": "stderr",
     "output_type": "stream",
     "text": [
      "Epoch 27/100: 100%|██████████| 500/500 [00:02<00:00, 193.41it/s]\n"
     ]
    },
    {
     "name": "stdout",
     "output_type": "stream",
     "text": [
      "Epoch [27/100], Running Loss: 0.0056\n",
      "Train Loss: 0.0054\n",
      "Test Loss: 0.0217\n"
     ]
    },
    {
     "name": "stderr",
     "output_type": "stream",
     "text": [
      "Epoch 28/100: 100%|██████████| 500/500 [00:02<00:00, 179.18it/s]\n"
     ]
    },
    {
     "name": "stdout",
     "output_type": "stream",
     "text": [
      "Epoch [28/100], Running Loss: 0.0057\n",
      "Train Loss: 0.0054\n",
      "Test Loss: 0.0215\n"
     ]
    },
    {
     "name": "stderr",
     "output_type": "stream",
     "text": [
      "Epoch 29/100: 100%|██████████| 500/500 [00:02<00:00, 169.31it/s]\n"
     ]
    },
    {
     "name": "stdout",
     "output_type": "stream",
     "text": [
      "Epoch [29/100], Running Loss: 0.0053\n",
      "Train Loss: 0.0048\n",
      "Test Loss: 0.0214\n"
     ]
    },
    {
     "name": "stderr",
     "output_type": "stream",
     "text": [
      "Epoch 30/100: 100%|██████████| 500/500 [00:02<00:00, 195.12it/s]\n"
     ]
    },
    {
     "name": "stdout",
     "output_type": "stream",
     "text": [
      "Epoch [30/100], Running Loss: 0.0050\n",
      "Train Loss: 0.0043\n",
      "Test Loss: 0.0212\n"
     ]
    },
    {
     "name": "stderr",
     "output_type": "stream",
     "text": [
      "Epoch 31/100: 100%|██████████| 500/500 [00:02<00:00, 172.96it/s]\n"
     ]
    },
    {
     "name": "stdout",
     "output_type": "stream",
     "text": [
      "Epoch [31/100], Running Loss: 0.0050\n",
      "Train Loss: 0.0042\n",
      "Test Loss: 0.0219\n"
     ]
    },
    {
     "name": "stderr",
     "output_type": "stream",
     "text": [
      "Epoch 32/100: 100%|██████████| 500/500 [00:02<00:00, 179.95it/s]\n"
     ]
    },
    {
     "name": "stdout",
     "output_type": "stream",
     "text": [
      "Epoch [32/100], Running Loss: 0.0044\n",
      "Train Loss: 0.0039\n",
      "Test Loss: 0.0214\n"
     ]
    },
    {
     "name": "stderr",
     "output_type": "stream",
     "text": [
      "Epoch 33/100: 100%|██████████| 500/500 [00:02<00:00, 179.07it/s]\n"
     ]
    },
    {
     "name": "stdout",
     "output_type": "stream",
     "text": [
      "Epoch [33/100], Running Loss: 0.0045\n",
      "Train Loss: 0.0041\n",
      "Test Loss: 0.0223\n"
     ]
    },
    {
     "name": "stderr",
     "output_type": "stream",
     "text": [
      "Epoch 34/100: 100%|██████████| 500/500 [00:02<00:00, 169.43it/s]\n"
     ]
    },
    {
     "name": "stdout",
     "output_type": "stream",
     "text": [
      "Epoch [34/100], Running Loss: 0.0043\n",
      "Train Loss: 0.0039\n",
      "Test Loss: 0.0211\n"
     ]
    },
    {
     "name": "stderr",
     "output_type": "stream",
     "text": [
      "Epoch 35/100: 100%|██████████| 500/500 [00:03<00:00, 163.80it/s]\n"
     ]
    },
    {
     "name": "stdout",
     "output_type": "stream",
     "text": [
      "Epoch [35/100], Running Loss: 0.0043\n",
      "Train Loss: 0.0040\n",
      "Test Loss: 0.0229\n"
     ]
    },
    {
     "name": "stderr",
     "output_type": "stream",
     "text": [
      "Epoch 36/100: 100%|██████████| 500/500 [00:02<00:00, 177.24it/s]\n"
     ]
    },
    {
     "name": "stdout",
     "output_type": "stream",
     "text": [
      "Epoch [36/100], Running Loss: 0.0041\n",
      "Train Loss: 0.0040\n",
      "Test Loss: 0.0228\n"
     ]
    },
    {
     "name": "stderr",
     "output_type": "stream",
     "text": [
      "Epoch 37/100: 100%|██████████| 500/500 [00:02<00:00, 185.96it/s]\n"
     ]
    },
    {
     "name": "stdout",
     "output_type": "stream",
     "text": [
      "Epoch [37/100], Running Loss: 0.0039\n",
      "Train Loss: 0.0039\n",
      "Test Loss: 0.0219\n"
     ]
    },
    {
     "name": "stderr",
     "output_type": "stream",
     "text": [
      "Epoch 38/100: 100%|██████████| 500/500 [00:03<00:00, 164.34it/s]\n"
     ]
    },
    {
     "name": "stdout",
     "output_type": "stream",
     "text": [
      "Epoch [38/100], Running Loss: 0.0042\n",
      "Train Loss: 0.0033\n",
      "Test Loss: 0.0226\n"
     ]
    },
    {
     "name": "stderr",
     "output_type": "stream",
     "text": [
      "Epoch 39/100: 100%|██████████| 500/500 [00:02<00:00, 171.80it/s]\n"
     ]
    },
    {
     "name": "stdout",
     "output_type": "stream",
     "text": [
      "Epoch [39/100], Running Loss: 0.0037\n",
      "Train Loss: 0.0033\n",
      "Test Loss: 0.0228\n"
     ]
    },
    {
     "name": "stderr",
     "output_type": "stream",
     "text": [
      "Epoch 40/100: 100%|██████████| 500/500 [00:02<00:00, 173.20it/s]\n"
     ]
    },
    {
     "name": "stdout",
     "output_type": "stream",
     "text": [
      "Epoch [40/100], Running Loss: 0.0037\n",
      "Train Loss: 0.0032\n",
      "Test Loss: 0.0232\n"
     ]
    },
    {
     "name": "stderr",
     "output_type": "stream",
     "text": [
      "Epoch 41/100: 100%|██████████| 500/500 [00:02<00:00, 186.02it/s]\n"
     ]
    },
    {
     "name": "stdout",
     "output_type": "stream",
     "text": [
      "Epoch [41/100], Running Loss: 0.0036\n",
      "Train Loss: 0.0032\n",
      "Test Loss: 0.0228\n"
     ]
    },
    {
     "name": "stderr",
     "output_type": "stream",
     "text": [
      "Epoch 42/100: 100%|██████████| 500/500 [00:02<00:00, 170.57it/s]\n"
     ]
    },
    {
     "name": "stdout",
     "output_type": "stream",
     "text": [
      "Epoch [42/100], Running Loss: 0.0037\n",
      "Train Loss: 0.0033\n",
      "Test Loss: 0.0234\n"
     ]
    },
    {
     "name": "stderr",
     "output_type": "stream",
     "text": [
      "Epoch 43/100: 100%|██████████| 500/500 [00:02<00:00, 193.46it/s]\n"
     ]
    },
    {
     "name": "stdout",
     "output_type": "stream",
     "text": [
      "Epoch [43/100], Running Loss: 0.0035\n",
      "Train Loss: 0.0031\n",
      "Test Loss: 0.0223\n"
     ]
    },
    {
     "name": "stderr",
     "output_type": "stream",
     "text": [
      "Epoch 44/100: 100%|██████████| 500/500 [00:02<00:00, 194.34it/s]\n"
     ]
    },
    {
     "name": "stdout",
     "output_type": "stream",
     "text": [
      "Epoch [44/100], Running Loss: 0.0035\n",
      "Train Loss: 0.0029\n",
      "Test Loss: 0.0223\n"
     ]
    },
    {
     "name": "stderr",
     "output_type": "stream",
     "text": [
      "Epoch 45/100: 100%|██████████| 500/500 [00:03<00:00, 160.49it/s]\n"
     ]
    },
    {
     "name": "stdout",
     "output_type": "stream",
     "text": [
      "Epoch [45/100], Running Loss: 0.0033\n",
      "Train Loss: 0.0030\n",
      "Test Loss: 0.0216\n"
     ]
    },
    {
     "name": "stderr",
     "output_type": "stream",
     "text": [
      "Epoch 46/100: 100%|██████████| 500/500 [00:02<00:00, 193.35it/s]\n"
     ]
    },
    {
     "name": "stdout",
     "output_type": "stream",
     "text": [
      "Epoch [46/100], Running Loss: 0.0032\n",
      "Train Loss: 0.0029\n",
      "Test Loss: 0.0231\n"
     ]
    },
    {
     "name": "stderr",
     "output_type": "stream",
     "text": [
      "Epoch 47/100: 100%|██████████| 500/500 [00:02<00:00, 167.82it/s]\n"
     ]
    },
    {
     "name": "stdout",
     "output_type": "stream",
     "text": [
      "Epoch [47/100], Running Loss: 0.0031\n",
      "Train Loss: 0.0030\n",
      "Test Loss: 0.0230\n"
     ]
    },
    {
     "name": "stderr",
     "output_type": "stream",
     "text": [
      "Epoch 48/100: 100%|██████████| 500/500 [00:02<00:00, 184.39it/s]\n"
     ]
    },
    {
     "name": "stdout",
     "output_type": "stream",
     "text": [
      "Epoch [48/100], Running Loss: 0.0032\n",
      "Train Loss: 0.0032\n",
      "Test Loss: 0.0242\n"
     ]
    },
    {
     "name": "stderr",
     "output_type": "stream",
     "text": [
      "Epoch 49/100: 100%|██████████| 500/500 [00:02<00:00, 190.44it/s]\n"
     ]
    },
    {
     "name": "stdout",
     "output_type": "stream",
     "text": [
      "Epoch [49/100], Running Loss: 0.0031\n",
      "Train Loss: 0.0030\n",
      "Test Loss: 0.0233\n"
     ]
    },
    {
     "name": "stderr",
     "output_type": "stream",
     "text": [
      "Epoch 50/100: 100%|██████████| 500/500 [00:02<00:00, 188.24it/s]\n"
     ]
    },
    {
     "name": "stdout",
     "output_type": "stream",
     "text": [
      "Epoch [50/100], Running Loss: 0.0031\n",
      "Train Loss: 0.0029\n",
      "Test Loss: 0.0232\n"
     ]
    },
    {
     "name": "stderr",
     "output_type": "stream",
     "text": [
      "Epoch 51/100: 100%|██████████| 500/500 [00:03<00:00, 162.13it/s]\n"
     ]
    },
    {
     "name": "stdout",
     "output_type": "stream",
     "text": [
      "Epoch [51/100], Running Loss: 0.0031\n",
      "Train Loss: 0.0030\n",
      "Test Loss: 0.0233\n"
     ]
    },
    {
     "name": "stderr",
     "output_type": "stream",
     "text": [
      "Epoch 52/100: 100%|██████████| 500/500 [00:03<00:00, 153.95it/s]\n"
     ]
    },
    {
     "name": "stdout",
     "output_type": "stream",
     "text": [
      "Epoch [52/100], Running Loss: 0.0031\n",
      "Train Loss: 0.0028\n",
      "Test Loss: 0.0235\n"
     ]
    },
    {
     "name": "stderr",
     "output_type": "stream",
     "text": [
      "Epoch 53/100: 100%|██████████| 500/500 [00:02<00:00, 189.46it/s]\n"
     ]
    },
    {
     "name": "stdout",
     "output_type": "stream",
     "text": [
      "Epoch [53/100], Running Loss: 0.0030\n",
      "Train Loss: 0.0027\n",
      "Test Loss: 0.0227\n"
     ]
    },
    {
     "name": "stderr",
     "output_type": "stream",
     "text": [
      "Epoch 54/100: 100%|██████████| 500/500 [00:02<00:00, 194.29it/s]\n"
     ]
    },
    {
     "name": "stdout",
     "output_type": "stream",
     "text": [
      "Epoch [54/100], Running Loss: 0.0029\n",
      "Train Loss: 0.0031\n",
      "Test Loss: 0.0224\n"
     ]
    },
    {
     "name": "stderr",
     "output_type": "stream",
     "text": [
      "Epoch 55/100: 100%|██████████| 500/500 [00:02<00:00, 198.97it/s]\n"
     ]
    },
    {
     "name": "stdout",
     "output_type": "stream",
     "text": [
      "Epoch [55/100], Running Loss: 0.0030\n",
      "Train Loss: 0.0026\n",
      "Test Loss: 0.0226\n"
     ]
    },
    {
     "name": "stderr",
     "output_type": "stream",
     "text": [
      "Epoch 56/100: 100%|██████████| 500/500 [00:02<00:00, 190.99it/s]\n"
     ]
    },
    {
     "name": "stdout",
     "output_type": "stream",
     "text": [
      "Epoch [56/100], Running Loss: 0.0029\n",
      "Train Loss: 0.0028\n",
      "Test Loss: 0.0233\n"
     ]
    },
    {
     "name": "stderr",
     "output_type": "stream",
     "text": [
      "Epoch 57/100: 100%|██████████| 500/500 [00:02<00:00, 168.51it/s]\n"
     ]
    },
    {
     "name": "stdout",
     "output_type": "stream",
     "text": [
      "Epoch [57/100], Running Loss: 0.0029\n",
      "Train Loss: 0.0026\n",
      "Test Loss: 0.0230\n"
     ]
    },
    {
     "name": "stderr",
     "output_type": "stream",
     "text": [
      "Epoch 58/100: 100%|██████████| 500/500 [00:02<00:00, 189.16it/s]\n"
     ]
    },
    {
     "name": "stdout",
     "output_type": "stream",
     "text": [
      "Epoch [58/100], Running Loss: 0.0028\n",
      "Train Loss: 0.0022\n",
      "Test Loss: 0.0229\n"
     ]
    },
    {
     "name": "stderr",
     "output_type": "stream",
     "text": [
      "Epoch 59/100: 100%|██████████| 500/500 [00:02<00:00, 192.35it/s]\n"
     ]
    },
    {
     "name": "stdout",
     "output_type": "stream",
     "text": [
      "Epoch [59/100], Running Loss: 0.0027\n",
      "Train Loss: 0.0025\n",
      "Test Loss: 0.0234\n"
     ]
    },
    {
     "name": "stderr",
     "output_type": "stream",
     "text": [
      "Epoch 60/100: 100%|██████████| 500/500 [00:02<00:00, 178.02it/s]\n"
     ]
    },
    {
     "name": "stdout",
     "output_type": "stream",
     "text": [
      "Epoch [60/100], Running Loss: 0.0028\n",
      "Train Loss: 0.0023\n",
      "Test Loss: 0.0229\n"
     ]
    },
    {
     "name": "stderr",
     "output_type": "stream",
     "text": [
      "Epoch 61/100: 100%|██████████| 500/500 [00:02<00:00, 189.74it/s]\n"
     ]
    },
    {
     "name": "stdout",
     "output_type": "stream",
     "text": [
      "Epoch [61/100], Running Loss: 0.0026\n",
      "Train Loss: 0.0024\n",
      "Test Loss: 0.0231\n"
     ]
    },
    {
     "name": "stderr",
     "output_type": "stream",
     "text": [
      "Epoch 62/100: 100%|██████████| 500/500 [00:02<00:00, 176.35it/s]\n"
     ]
    },
    {
     "name": "stdout",
     "output_type": "stream",
     "text": [
      "Epoch [62/100], Running Loss: 0.0027\n",
      "Train Loss: 0.0024\n",
      "Test Loss: 0.0225\n"
     ]
    },
    {
     "name": "stderr",
     "output_type": "stream",
     "text": [
      "Epoch 63/100: 100%|██████████| 500/500 [00:02<00:00, 175.46it/s]\n"
     ]
    },
    {
     "name": "stdout",
     "output_type": "stream",
     "text": [
      "Epoch [63/100], Running Loss: 0.0026\n",
      "Train Loss: 0.0026\n",
      "Test Loss: 0.0232\n"
     ]
    },
    {
     "name": "stderr",
     "output_type": "stream",
     "text": [
      "Epoch 64/100: 100%|██████████| 500/500 [00:02<00:00, 177.60it/s]\n"
     ]
    },
    {
     "name": "stdout",
     "output_type": "stream",
     "text": [
      "Epoch [64/100], Running Loss: 0.0026\n",
      "Train Loss: 0.0025\n",
      "Test Loss: 0.0221\n"
     ]
    },
    {
     "name": "stderr",
     "output_type": "stream",
     "text": [
      "Epoch 65/100: 100%|██████████| 500/500 [00:02<00:00, 178.45it/s]\n"
     ]
    },
    {
     "name": "stdout",
     "output_type": "stream",
     "text": [
      "Epoch [65/100], Running Loss: 0.0025\n",
      "Train Loss: 0.0025\n",
      "Test Loss: 0.0228\n"
     ]
    },
    {
     "name": "stderr",
     "output_type": "stream",
     "text": [
      "Epoch 66/100: 100%|██████████| 500/500 [00:02<00:00, 177.99it/s]\n"
     ]
    },
    {
     "name": "stdout",
     "output_type": "stream",
     "text": [
      "Epoch [66/100], Running Loss: 0.0024\n",
      "Train Loss: 0.0022\n",
      "Test Loss: 0.0231\n"
     ]
    },
    {
     "name": "stderr",
     "output_type": "stream",
     "text": [
      "Epoch 67/100: 100%|██████████| 500/500 [00:02<00:00, 196.20it/s]\n"
     ]
    },
    {
     "name": "stdout",
     "output_type": "stream",
     "text": [
      "Epoch [67/100], Running Loss: 0.0025\n",
      "Train Loss: 0.0022\n",
      "Test Loss: 0.0234\n"
     ]
    },
    {
     "name": "stderr",
     "output_type": "stream",
     "text": [
      "Epoch 68/100: 100%|██████████| 500/500 [00:02<00:00, 190.95it/s]\n"
     ]
    },
    {
     "name": "stdout",
     "output_type": "stream",
     "text": [
      "Epoch [68/100], Running Loss: 0.0026\n",
      "Train Loss: 0.0026\n",
      "Test Loss: 0.0230\n"
     ]
    },
    {
     "name": "stderr",
     "output_type": "stream",
     "text": [
      "Epoch 69/100: 100%|██████████| 500/500 [00:02<00:00, 190.13it/s]\n"
     ]
    },
    {
     "name": "stdout",
     "output_type": "stream",
     "text": [
      "Epoch [69/100], Running Loss: 0.0027\n",
      "Train Loss: 0.0023\n",
      "Test Loss: 0.0226\n"
     ]
    },
    {
     "name": "stderr",
     "output_type": "stream",
     "text": [
      "Epoch 70/100: 100%|██████████| 500/500 [00:02<00:00, 189.72it/s]\n"
     ]
    },
    {
     "name": "stdout",
     "output_type": "stream",
     "text": [
      "Epoch [70/100], Running Loss: 0.0023\n",
      "Train Loss: 0.0021\n",
      "Test Loss: 0.0223\n"
     ]
    },
    {
     "name": "stderr",
     "output_type": "stream",
     "text": [
      "Epoch 71/100: 100%|██████████| 500/500 [00:02<00:00, 178.51it/s]\n"
     ]
    },
    {
     "name": "stdout",
     "output_type": "stream",
     "text": [
      "Epoch [71/100], Running Loss: 0.0023\n",
      "Train Loss: 0.0020\n",
      "Test Loss: 0.0227\n"
     ]
    },
    {
     "name": "stderr",
     "output_type": "stream",
     "text": [
      "Epoch 72/100: 100%|██████████| 500/500 [00:02<00:00, 179.11it/s]\n"
     ]
    },
    {
     "name": "stdout",
     "output_type": "stream",
     "text": [
      "Epoch [72/100], Running Loss: 0.0023\n",
      "Train Loss: 0.0021\n",
      "Test Loss: 0.0233\n"
     ]
    },
    {
     "name": "stderr",
     "output_type": "stream",
     "text": [
      "Epoch 73/100: 100%|██████████| 500/500 [00:03<00:00, 163.95it/s]\n"
     ]
    },
    {
     "name": "stdout",
     "output_type": "stream",
     "text": [
      "Epoch [73/100], Running Loss: 0.0023\n",
      "Train Loss: 0.0022\n",
      "Test Loss: 0.0228\n"
     ]
    },
    {
     "name": "stderr",
     "output_type": "stream",
     "text": [
      "Epoch 74/100: 100%|██████████| 500/500 [00:02<00:00, 174.62it/s]\n"
     ]
    },
    {
     "name": "stdout",
     "output_type": "stream",
     "text": [
      "Epoch [74/100], Running Loss: 0.0024\n",
      "Train Loss: 0.0023\n",
      "Test Loss: 0.0234\n"
     ]
    },
    {
     "name": "stderr",
     "output_type": "stream",
     "text": [
      "Epoch 75/100: 100%|██████████| 500/500 [00:02<00:00, 183.55it/s]\n"
     ]
    },
    {
     "name": "stdout",
     "output_type": "stream",
     "text": [
      "Epoch [75/100], Running Loss: 0.0027\n",
      "Train Loss: 0.0024\n",
      "Test Loss: 0.0231\n"
     ]
    },
    {
     "name": "stderr",
     "output_type": "stream",
     "text": [
      "Epoch 76/100: 100%|██████████| 500/500 [00:02<00:00, 181.23it/s]\n"
     ]
    },
    {
     "name": "stdout",
     "output_type": "stream",
     "text": [
      "Epoch [76/100], Running Loss: 0.0024\n",
      "Train Loss: 0.0019\n",
      "Test Loss: 0.0229\n"
     ]
    },
    {
     "name": "stderr",
     "output_type": "stream",
     "text": [
      "Epoch 77/100: 100%|██████████| 500/500 [00:02<00:00, 170.82it/s]\n"
     ]
    },
    {
     "name": "stdout",
     "output_type": "stream",
     "text": [
      "Epoch [77/100], Running Loss: 0.0021\n",
      "Train Loss: 0.0020\n",
      "Test Loss: 0.0232\n"
     ]
    },
    {
     "name": "stderr",
     "output_type": "stream",
     "text": [
      "Epoch 78/100: 100%|██████████| 500/500 [00:02<00:00, 181.47it/s]\n"
     ]
    },
    {
     "name": "stdout",
     "output_type": "stream",
     "text": [
      "Epoch [78/100], Running Loss: 0.0024\n",
      "Train Loss: 0.0020\n",
      "Test Loss: 0.0222\n"
     ]
    },
    {
     "name": "stderr",
     "output_type": "stream",
     "text": [
      "Epoch 79/100: 100%|██████████| 500/500 [00:03<00:00, 148.27it/s]\n"
     ]
    },
    {
     "name": "stdout",
     "output_type": "stream",
     "text": [
      "Epoch [79/100], Running Loss: 0.0024\n",
      "Train Loss: 0.0021\n",
      "Test Loss: 0.0230\n"
     ]
    },
    {
     "name": "stderr",
     "output_type": "stream",
     "text": [
      "Epoch 80/100: 100%|██████████| 500/500 [00:02<00:00, 196.33it/s]\n"
     ]
    },
    {
     "name": "stdout",
     "output_type": "stream",
     "text": [
      "Epoch [80/100], Running Loss: 0.0023\n",
      "Train Loss: 0.0021\n",
      "Test Loss: 0.0235\n"
     ]
    },
    {
     "name": "stderr",
     "output_type": "stream",
     "text": [
      "Epoch 81/100: 100%|██████████| 500/500 [00:02<00:00, 170.55it/s]\n"
     ]
    },
    {
     "name": "stdout",
     "output_type": "stream",
     "text": [
      "Epoch [81/100], Running Loss: 0.0024\n",
      "Train Loss: 0.0021\n",
      "Test Loss: 0.0233\n"
     ]
    },
    {
     "name": "stderr",
     "output_type": "stream",
     "text": [
      "Epoch 82/100: 100%|██████████| 500/500 [00:03<00:00, 152.17it/s]\n"
     ]
    },
    {
     "name": "stdout",
     "output_type": "stream",
     "text": [
      "Epoch [82/100], Running Loss: 0.0023\n",
      "Train Loss: 0.0021\n",
      "Test Loss: 0.0236\n"
     ]
    },
    {
     "name": "stderr",
     "output_type": "stream",
     "text": [
      "Epoch 83/100: 100%|██████████| 500/500 [00:03<00:00, 164.49it/s]\n"
     ]
    },
    {
     "name": "stdout",
     "output_type": "stream",
     "text": [
      "Epoch [83/100], Running Loss: 0.0022\n",
      "Train Loss: 0.0019\n",
      "Test Loss: 0.0238\n"
     ]
    },
    {
     "name": "stderr",
     "output_type": "stream",
     "text": [
      "Epoch 84/100: 100%|██████████| 500/500 [00:02<00:00, 187.32it/s]\n"
     ]
    },
    {
     "name": "stdout",
     "output_type": "stream",
     "text": [
      "Epoch [84/100], Running Loss: 0.0021\n",
      "Train Loss: 0.0018\n",
      "Test Loss: 0.0237\n"
     ]
    },
    {
     "name": "stderr",
     "output_type": "stream",
     "text": [
      "Epoch 85/100: 100%|██████████| 500/500 [00:02<00:00, 185.91it/s]\n"
     ]
    },
    {
     "name": "stdout",
     "output_type": "stream",
     "text": [
      "Epoch [85/100], Running Loss: 0.0020\n",
      "Train Loss: 0.0022\n",
      "Test Loss: 0.0237\n"
     ]
    },
    {
     "name": "stderr",
     "output_type": "stream",
     "text": [
      "Epoch 86/100: 100%|██████████| 500/500 [00:02<00:00, 178.92it/s]\n"
     ]
    },
    {
     "name": "stdout",
     "output_type": "stream",
     "text": [
      "Epoch [86/100], Running Loss: 0.0023\n",
      "Train Loss: 0.0020\n",
      "Test Loss: 0.0235\n"
     ]
    },
    {
     "name": "stderr",
     "output_type": "stream",
     "text": [
      "Epoch 87/100: 100%|██████████| 500/500 [00:02<00:00, 193.28it/s]\n"
     ]
    },
    {
     "name": "stdout",
     "output_type": "stream",
     "text": [
      "Epoch [87/100], Running Loss: 0.0023\n",
      "Train Loss: 0.0022\n",
      "Test Loss: 0.0248\n"
     ]
    },
    {
     "name": "stderr",
     "output_type": "stream",
     "text": [
      "Epoch 88/100: 100%|██████████| 500/500 [00:02<00:00, 183.27it/s]\n"
     ]
    },
    {
     "name": "stdout",
     "output_type": "stream",
     "text": [
      "Epoch [88/100], Running Loss: 0.0021\n",
      "Train Loss: 0.0019\n",
      "Test Loss: 0.0241\n"
     ]
    },
    {
     "name": "stderr",
     "output_type": "stream",
     "text": [
      "Epoch 89/100: 100%|██████████| 500/500 [00:02<00:00, 189.90it/s]\n"
     ]
    },
    {
     "name": "stdout",
     "output_type": "stream",
     "text": [
      "Epoch [89/100], Running Loss: 0.0021\n",
      "Train Loss: 0.0020\n",
      "Test Loss: 0.0241\n"
     ]
    },
    {
     "name": "stderr",
     "output_type": "stream",
     "text": [
      "Epoch 90/100: 100%|██████████| 500/500 [00:03<00:00, 159.89it/s]\n"
     ]
    },
    {
     "name": "stdout",
     "output_type": "stream",
     "text": [
      "Epoch [90/100], Running Loss: 0.0021\n",
      "Train Loss: 0.0019\n",
      "Test Loss: 0.0238\n"
     ]
    },
    {
     "name": "stderr",
     "output_type": "stream",
     "text": [
      "Epoch 91/100: 100%|██████████| 500/500 [00:02<00:00, 201.90it/s]\n"
     ]
    },
    {
     "name": "stdout",
     "output_type": "stream",
     "text": [
      "Epoch [91/100], Running Loss: 0.0023\n",
      "Train Loss: 0.0020\n",
      "Test Loss: 0.0229\n"
     ]
    },
    {
     "name": "stderr",
     "output_type": "stream",
     "text": [
      "Epoch 92/100: 100%|██████████| 500/500 [00:02<00:00, 198.99it/s]\n"
     ]
    },
    {
     "name": "stdout",
     "output_type": "stream",
     "text": [
      "Epoch [92/100], Running Loss: 0.0021\n",
      "Train Loss: 0.0018\n",
      "Test Loss: 0.0234\n"
     ]
    },
    {
     "name": "stderr",
     "output_type": "stream",
     "text": [
      "Epoch 93/100: 100%|██████████| 500/500 [00:02<00:00, 196.58it/s]\n"
     ]
    },
    {
     "name": "stdout",
     "output_type": "stream",
     "text": [
      "Epoch [93/100], Running Loss: 0.0020\n",
      "Train Loss: 0.0019\n",
      "Test Loss: 0.0229\n"
     ]
    },
    {
     "name": "stderr",
     "output_type": "stream",
     "text": [
      "Epoch 94/100: 100%|██████████| 500/500 [00:02<00:00, 191.49it/s]\n"
     ]
    },
    {
     "name": "stdout",
     "output_type": "stream",
     "text": [
      "Epoch [94/100], Running Loss: 0.0020\n",
      "Train Loss: 0.0022\n",
      "Test Loss: 0.0256\n"
     ]
    },
    {
     "name": "stderr",
     "output_type": "stream",
     "text": [
      "Epoch 95/100: 100%|██████████| 500/500 [00:02<00:00, 202.19it/s]\n"
     ]
    },
    {
     "name": "stdout",
     "output_type": "stream",
     "text": [
      "Epoch [95/100], Running Loss: 0.0021\n",
      "Train Loss: 0.0022\n",
      "Test Loss: 0.0255\n"
     ]
    },
    {
     "name": "stderr",
     "output_type": "stream",
     "text": [
      "Epoch 96/100: 100%|██████████| 500/500 [00:02<00:00, 191.12it/s]\n"
     ]
    },
    {
     "name": "stdout",
     "output_type": "stream",
     "text": [
      "Epoch [96/100], Running Loss: 0.0021\n",
      "Train Loss: 0.0017\n",
      "Test Loss: 0.0236\n"
     ]
    },
    {
     "name": "stderr",
     "output_type": "stream",
     "text": [
      "Epoch 97/100: 100%|██████████| 500/500 [00:02<00:00, 202.43it/s]\n"
     ]
    },
    {
     "name": "stdout",
     "output_type": "stream",
     "text": [
      "Epoch [97/100], Running Loss: 0.0020\n",
      "Train Loss: 0.0019\n",
      "Test Loss: 0.0246\n"
     ]
    },
    {
     "name": "stderr",
     "output_type": "stream",
     "text": [
      "Epoch 98/100: 100%|██████████| 500/500 [00:02<00:00, 203.76it/s]\n"
     ]
    },
    {
     "name": "stdout",
     "output_type": "stream",
     "text": [
      "Epoch [98/100], Running Loss: 0.0021\n",
      "Train Loss: 0.0021\n",
      "Test Loss: 0.0243\n"
     ]
    },
    {
     "name": "stderr",
     "output_type": "stream",
     "text": [
      "Epoch 99/100: 100%|██████████| 500/500 [00:02<00:00, 203.07it/s]\n"
     ]
    },
    {
     "name": "stdout",
     "output_type": "stream",
     "text": [
      "Epoch [99/100], Running Loss: 0.0020\n",
      "Train Loss: 0.0018\n",
      "Test Loss: 0.0242\n"
     ]
    },
    {
     "name": "stderr",
     "output_type": "stream",
     "text": [
      "Epoch 100/100: 100%|██████████| 500/500 [00:02<00:00, 204.36it/s]\n"
     ]
    },
    {
     "name": "stdout",
     "output_type": "stream",
     "text": [
      "Epoch [100/100], Running Loss: 0.0020\n",
      "Train Loss: 0.0019\n",
      "Test Loss: 0.0245\n",
      "Train Loss: 0.0019\n",
      "Test Loss: 0.0245\n"
     ]
    }
   ],
   "execution_count": 5
  },
  {
   "metadata": {
    "ExecuteTime": {
     "end_time": "2024-10-03T11:15:48.696581Z",
     "start_time": "2024-10-03T11:15:44.402284Z"
    }
   },
   "cell_type": "code",
   "source": [
    "model.eval()\n",
    "\n",
    "with torch.no_grad():\n",
    "    total_train_loader = []\n",
    "    for inputs, targets in train_loader:\n",
    "        total_train_loader += targets.numpy().squeeze().tolist()\n",
    "    \n",
    "    total_train = []\n",
    "    for inputs, targets in train_loader:\n",
    "        total_train += model(inputs).numpy().squeeze().tolist()\n",
    "\n",
    "bin_edges = [0.25, 0.3, 0.35, 0.4 , 0.45 , 0.5, 0.55, 0.6, 0.65, 0.7, 0.75, 0.8, 0.85, 0.9, 0.95, 1.001, 1.05, 1.1, 1.15, 1.2, 1.25]\n",
    "\n",
    "fig, (ax1, ax2) = plt.subplots(1, 2, figsize=(12, 6))\n",
    "\n",
    "N, bins, patches = ax1.hist(total_train_loader, bins=bin_edges, edgecolor='black')\n",
    "for i in range(0, 4+1):\n",
    "    patches[i].set_facecolor('r')\n",
    "for i in range(5,15):    \n",
    "    patches[i].set_facecolor('b')\n",
    "for i in range(15, len(patches)):\n",
    "    patches[i].set_facecolor('r')\n",
    "ax1.set_title('Histogram for Training Data')\n",
    "ax1.set_xlabel('Values')\n",
    "ax1.set_ylabel('Frequency')\n",
    "\n",
    "N, bins, patches = ax2.hist(total_train, bins=bin_edges, edgecolor='black')\n",
    "for i in range(0, 4+1):\n",
    "    patches[i].set_facecolor('r')\n",
    "for i in range(5,15):    \n",
    "    patches[i].set_facecolor('b')\n",
    "for i in range(15, len(patches)):\n",
    "    patches[i].set_facecolor('r')\n",
    "ax2.set_title('Histogram for Training Inference')\n",
    "ax2.set_xlabel('Values')\n",
    "ax2.set_ylabel('Frequency')\n",
    "\n",
    "plt.tight_layout()\n",
    "plt.show()"
   ],
   "id": "648954cd900bf5ff",
   "outputs": [
    {
     "data": {
      "text/plain": [
       "<Figure size 1200x600 with 2 Axes>"
      ],
      "image/png": "[encoded data removed]"
     },
     "metadata": {},
     "output_type": "display_data"
    }
   ],
   "execution_count": 12
  },
  {
   "metadata": {
    "ExecuteTime": {
     "end_time": "2024-10-03T11:15:57.938007Z",
     "start_time": "2024-10-03T11:15:57.863113Z"
    }
   },
   "cell_type": "code",
   "source": "plt.hist(np.sqrt(losses_over_train), bins='auto')",
   "id": "48fcf01c49dfdb1b",
   "outputs": [
    {
     "data": {
      "text/plain": [
       "(array([ 8., 17., 23., 41., 44., 66., 58., 62., 56., 47., 24., 17.,  4.,\n",
       "         8., 10.,  3.,  2.,  4.,  1.,  0.,  0.,  2.,  1.,  1.,  0.,  0.,\n",
       "         0.,  0.,  0.,  0.,  1.]),\n",
       " array([0.01091383, 0.01502336, 0.0191329 , 0.02324243, 0.02735197,\n",
       "        0.0314615 , 0.03557104, 0.03968057, 0.04379011, 0.04789964,\n",
       "        0.05200917, 0.05611871, 0.06022824, 0.06433778, 0.06844731,\n",
       "        0.07255685, 0.07666638, 0.08077591, 0.08488545, 0.08899498,\n",
       "        0.09310452, 0.09721405, 0.10132359, 0.10543312, 0.10954265,\n",
       "        0.11365219, 0.11776172, 0.12187126, 0.12598079, 0.13009033,\n",
       "        0.13419986, 0.13830939]),\n",
       " <BarContainer object of 31 artists>)"
      ]
     },
     "execution_count": 13,
     "metadata": {},
     "output_type": "execute_result"
    },
    {
     "data": {
      "text/plain": [
       "<Figure size 640x480 with 1 Axes>"
      ],
      "image/png": "[encoded data removed]"
     },
     "metadata": {},
     "output_type": "display_data"
    }
   ],
   "execution_count": 13
  },
  {
   "metadata": {
    "ExecuteTime": {
     "end_time": "2024-10-03T11:16:02.283492Z",
     "start_time": "2024-10-03T11:16:01.015677Z"
    }
   },
   "cell_type": "code",
   "source": [
    "model.eval()\n",
    "\n",
    "with torch.no_grad():\n",
    "    total_test_loader = []\n",
    "    for inputs, targets in test_loader:\n",
    "        total_test_loader += targets.numpy().squeeze().tolist()\n",
    "    \n",
    "    total_test = []\n",
    "    for inputs, targets in test_loader:\n",
    "        total_test += model(inputs).numpy().squeeze().tolist()\n",
    "\n",
    "bin_edges = [0.25, 0.3, 0.35, 0.4 , 0.45 , 0.5, 0.55, 0.6, 0.65, 0.7, 0.75, 0.8, 0.85, 0.9, 0.95, 1.001, 1.05, 1.1, 1.15, 1.2, 1.25]\n",
    "\n",
    "fig, (ax1, ax2) = plt.subplots(1, 2, figsize=(12, 6))\n",
    "\n",
    "N, bins, patches = ax1.hist(total_test_loader, bins=bin_edges, edgecolor='black')\n",
    "for i in range(0, 4+1):\n",
    "    patches[i].set_facecolor('r')\n",
    "for i in range(5,15):    \n",
    "    patches[i].set_facecolor('b')\n",
    "for i in range(15, len(patches)):\n",
    "    patches[i].set_facecolor('r')\n",
    "ax1.set_title('Histogram for Test Data')\n",
    "ax1.set_xlabel('Values')\n",
    "ax1.set_ylabel('Frequency')\n",
    "\n",
    "N, bins, patches = ax2.hist(total_test, bins=bin_edges, edgecolor='black')\n",
    "for i in range(0, 4+1):\n",
    "    patches[i].set_facecolor('r')\n",
    "for i in range(5,15):    \n",
    "    patches[i].set_facecolor('b')\n",
    "for i in range(15, len(patches)):\n",
    "    patches[i].set_facecolor('r')\n",
    "ax2.set_title('Histogram for Test Inference')\n",
    "ax2.set_xlabel('Values')\n",
    "ax2.set_ylabel('Frequency')\n",
    "\n",
    "plt.tight_layout()\n",
    "plt.show()"
   ],
   "id": "5d112b7b011f8377",
   "outputs": [
    {
     "data": {
      "text/plain": [
       "<Figure size 1200x600 with 2 Axes>"
      ],
      "image/png": "[encoded data removed]"
     },
     "metadata": {},
     "output_type": "display_data"
    }
   ],
   "execution_count": 14
  },
  {
   "metadata": {
    "ExecuteTime": {
     "end_time": "2024-10-03T11:16:11.211637Z",
     "start_time": "2024-10-03T11:16:11.140132Z"
    }
   },
   "cell_type": "code",
   "source": "plt.hist(np.sqrt(losses_over_test), bins='auto')",
   "id": "8b494d1fbc2eab97",
   "outputs": [
    {
     "data": {
      "text/plain": [
       "(array([ 2.,  6., 13., 17., 19., 32., 16., 14.,  6.]),\n",
       " array([0.05251228, 0.07244115, 0.09237003, 0.11229891, 0.13222778,\n",
       "        0.15215666, 0.17208554, 0.19201441, 0.21194329, 0.23187216]),\n",
       " <BarContainer object of 9 artists>)"
      ]
     },
     "execution_count": 15,
     "metadata": {},
     "output_type": "execute_result"
    },
    {
     "data": {
      "text/plain": [
       "<Figure size 640x480 with 1 Axes>"
      ],
      "image/png": "[encoded data removed]"
     },
     "metadata": {},
     "output_type": "display_data"
    }
   ],
   "execution_count": 15
  },
  {
   "metadata": {},
   "cell_type": "code",
   "outputs": [],
   "execution_count": null,
   "source": "",
   "id": "80975c63e13e7efc"
  }
 ],
 "metadata": {
  "kernelspec": {
   "display_name": "Python 3",
   "language": "python",
   "name": "python3"
  },
  "language_info": {
   "codemirror_mode": {
    "name": "ipython",
    "version": 2
   },
   "file_extension": ".py",
   "mimetype": "text/x-python",
   "name": "python",
   "nbconvert_exporter": "python",
   "pygments_lexer": "ipython2",
   "version": "2.7.6"
  }
 },
 "nbformat": 4,
 "nbformat_minor": 5
}
