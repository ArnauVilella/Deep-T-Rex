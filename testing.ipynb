{
 "cells": [
  {
   "cell_type": "code",
   "id": "initial_id",
   "metadata": {
    "collapsed": true,
    "ExecuteTime": {
     "end_time": "2024-10-08T04:34:13.037559Z",
     "start_time": "2024-10-08T04:34:11.190762Z"
    }
   },
   "source": [
    "import os\n",
    "import torch\n",
    "from torch.utils.data import Dataset, DataLoader\n",
    "import numpy as np\n",
    "\n",
    "import torch.optim as optim\n",
    "from tqdm import tqdm\n",
    "import matplotlib.pyplot as plt\n",
    "import torch.nn as nn\n",
    "from sklearn.model_selection import train_test_split"
   ],
   "outputs": [],
   "execution_count": 1
  },
  {
   "metadata": {},
   "cell_type": "markdown",
   "source": "# A. Generate Data",
   "id": "9169e40fca904c30"
  },
  {
   "metadata": {
    "ExecuteTime": {
     "end_time": "2024-10-08T04:34:13.042880Z",
     "start_time": "2024-10-08T04:34:13.040572Z"
    }
   },
   "cell_type": "code",
   "source": "#!Rscript generate_data.R --N_data=10000",
   "id": "d60b18bcb3ffb3c9",
   "outputs": [],
   "execution_count": 2
  },
  {
   "metadata": {},
   "cell_type": "markdown",
   "source": "# B. Train Model",
   "id": "636c383aa1a9e695"
  },
  {
   "metadata": {
    "ExecuteTime": {
     "end_time": "2024-10-08T04:34:13.128203Z",
     "start_time": "2024-10-08T04:34:13.123881Z"
    }
   },
   "cell_type": "code",
   "source": [
    "class PhiThreshDataset(Dataset):\n",
    "    def __init__(self, data_dir):\n",
    "        self.phi_dir = os.path.join(data_dir, 'Phi_mat')\n",
    "        self.v_thresh_dir = os.path.join(data_dir, 'v_thresh')\n",
    "        \n",
    "        self.phi_files = [f for f in os.listdir(self.phi_dir) if f.startswith('Phi_mat_') and f.endswith('.txt')]\n",
    "        self.v_thresh_files = [f for f in os.listdir(self.v_thresh_dir) if f.startswith('v_thresh_') and f.endswith('.txt')]\n",
    "\n",
    "    def __len__(self):\n",
    "        return len(self.phi_files)\n",
    "\n",
    "    def __getitem__(self, idx):\n",
    "        phi_file = os.path.join(self.phi_dir, self.phi_files[idx])\n",
    "        phi = np.loadtxt(phi_file)\n",
    "        \n",
    "        v_thresh_file = os.path.join(self.v_thresh_dir, self.v_thresh_files[idx])\n",
    "        v_thresh = np.loadtxt(v_thresh_file)\n",
    "\n",
    "        return torch.tensor(phi, dtype=torch.float32), torch.tensor(v_thresh, dtype=torch.float32)"
   ],
   "id": "728c7b8518c4eeb2",
   "outputs": [],
   "execution_count": 3
  },
  {
   "metadata": {
    "ExecuteTime": {
     "end_time": "2024-10-08T04:34:13.134204Z",
     "start_time": "2024-10-08T04:34:13.131379Z"
    }
   },
   "cell_type": "code",
   "source": [
    "def get_data_loaders(data_dir, batch_size=32, test_size=0.2):\n",
    "    dataset = PhiThreshDataset(data_dir)\n",
    "    train_indices, test_indices = train_test_split(list(range(len(dataset))), test_size=test_size, random_state=42)\n",
    "    \n",
    "    train_set = torch.utils.data.Subset(dataset, train_indices)\n",
    "    test_set = torch.utils.data.Subset(dataset, test_indices)\n",
    "    \n",
    "    train_loader = DataLoader(train_set, batch_size=batch_size, shuffle=True)\n",
    "    test_loader = DataLoader(test_set, batch_size=batch_size, shuffle=False)\n",
    "\n",
    "    return train_loader, test_loader, train_indices, test_indices"
   ],
   "id": "e5318115b0d6ef51",
   "outputs": [],
   "execution_count": 4
  },
  {
   "metadata": {
    "ExecuteTime": {
     "end_time": "2024-10-08T04:34:13.140100Z",
     "start_time": "2024-10-08T04:34:13.137438Z"
    }
   },
   "cell_type": "code",
   "source": [
    "class PhiNet(nn.Module):\n",
    "    def __init__(self, input_size):\n",
    "        super(PhiNet, self).__init__()\n",
    "        self.fc1 = nn.Linear(input_size, 32)\n",
    "        self.fc2 = nn.Linear(32, 8)\n",
    "        self.fc3 = nn.Linear(8, 1)\n",
    "        \n",
    "    def forward(self, x):\n",
    "        x = torch.relu(self.fc1(x))\n",
    "        x = torch.relu(self.fc2(x))\n",
    "        x = (torch.sigmoid(self.fc3(x)) + 1)*0.5 # Busquem el rang (0.5, 1)\n",
    "        return x"
   ],
   "id": "75b9704072731224",
   "outputs": [],
   "execution_count": 5
  },
  {
   "metadata": {
    "ExecuteTime": {
     "end_time": "2024-10-08T04:42:03.200068Z",
     "start_time": "2024-10-08T04:42:03.196201Z"
    }
   },
   "cell_type": "code",
   "source": [
    "def evaluate_model(model, train_loader, test_loader, criterion, verbose=True):\n",
    "    model.eval()\n",
    "    losses_over_train = []\n",
    "    with torch.no_grad():\n",
    "        for inputs, targets in train_loader:\n",
    "            outputs = model(inputs)\n",
    "            loss = criterion(outputs.squeeze(), targets)\n",
    "            losses_over_train.append(loss.item())\n",
    "    if verbose:\n",
    "        print(f'Train Loss: {sum(losses_over_train) / len(train_loader):.4f}')\n",
    "    \n",
    "    losses_over_test = []\n",
    "    with torch.no_grad():\n",
    "        for inputs, targets in test_loader:\n",
    "            outputs = model(inputs)\n",
    "            loss = criterion(outputs.squeeze(), targets)\n",
    "            losses_over_test.append(loss.item())\n",
    "    if verbose:\n",
    "        print(f'Test Loss: {sum(losses_over_test) / len(test_loader):.4f}')\n",
    "    \n",
    "    return losses_over_train, losses_over_test\n",
    "\n",
    "def train_model(model, train_loader, criterion, optimizer, num_epochs=10):\n",
    "    model.train()\n",
    "    train_losses = []\n",
    "    test_losses = []\n",
    "    for epoch in range(num_epochs):\n",
    "        running_loss = 0.0\n",
    "        progress_bar = tqdm(enumerate(train_loader), total=len(train_loader), desc=f\"Epoch {epoch+1}/{num_epochs}\", position=0, leave=True)\n",
    "        for i, (inputs, targets) in progress_bar:\n",
    "            optimizer.zero_grad()\n",
    "            outputs = model(inputs)\n",
    "            loss = criterion(outputs.squeeze(), targets)\n",
    "            loss.backward()\n",
    "            optimizer.step()\n",
    "            running_loss += loss.item()\n",
    "        print(f'Epoch [{epoch+1}/{num_epochs}], Running Loss: {running_loss / len(train_loader):.4f}')\n",
    "        losses_over_train, losses_over_test = evaluate_model(model, train_loader, test_loader, criterion)\n",
    "        train_losses.append(sum(losses_over_train) / len(train_loader))\n",
    "        test_losses.append(sum(losses_over_test) / len(test_loader))\n",
    "    return train_losses, test_losses"
   ],
   "id": "6f2f6bdc96d486c3",
   "outputs": [],
   "execution_count": 32
  },
  {
   "metadata": {
    "ExecuteTime": {
     "end_time": "2024-10-08T04:49:51.091202Z",
     "start_time": "2024-10-08T04:42:03.523548Z"
    }
   },
   "cell_type": "code",
   "source": [
    "data_dir = 'data'\n",
    "input_size = len(np.loadtxt(os.path.join(data_dir, 'Phi_mat/Phi_mat_1.txt')))\n",
    "\n",
    "hparams = {\"batch_size\": 16,\n",
    "           \"learning_rate\": 0.001,\n",
    "           \"num_epochs\": 100}\n",
    "\n",
    "train_loader, test_loader, train_indices, test_indices = get_data_loaders(data_dir, batch_size=hparams[\"batch_size\"])\n",
    "\n",
    "model = PhiNet(input_size=input_size)\n",
    "criterion = nn.MSELoss()\n",
    "optimizer = optim.Adam(model.parameters(), lr=hparams[\"learning_rate\"])\n",
    "\n",
    "train_losses, test_losses = train_model(model, train_loader, criterion, optimizer, num_epochs=hparams[\"num_epochs\"])"
   ],
   "id": "18249e05344b9c58",
   "outputs": [
    {
     "name": "stderr",
     "output_type": "stream",
     "text": [
      "Epoch 1/100: 100%|██████████| 500/500 [00:02<00:00, 227.64it/s]\n"
     ]
    },
    {
     "name": "stdout",
     "output_type": "stream",
     "text": [
      "Epoch [1/100], Running Loss: 0.0296\n",
      "Train Loss: 0.0271\n",
      "Test Loss: 0.0280\n"
     ]
    },
    {
     "name": "stderr",
     "output_type": "stream",
     "text": [
      "Epoch 2/100: 100%|██████████| 500/500 [00:02<00:00, 235.67it/s]\n"
     ]
    },
    {
     "name": "stdout",
     "output_type": "stream",
     "text": [
      "Epoch [2/100], Running Loss: 0.0247\n",
      "Train Loss: 0.0201\n",
      "Test Loss: 0.0214\n"
     ]
    },
    {
     "name": "stderr",
     "output_type": "stream",
     "text": [
      "Epoch 3/100: 100%|██████████| 500/500 [00:02<00:00, 234.22it/s]\n"
     ]
    },
    {
     "name": "stdout",
     "output_type": "stream",
     "text": [
      "Epoch [3/100], Running Loss: 0.0178\n",
      "Train Loss: 0.0155\n",
      "Test Loss: 0.0167\n"
     ]
    },
    {
     "name": "stderr",
     "output_type": "stream",
     "text": [
      "Epoch 4/100: 100%|██████████| 500/500 [00:03<00:00, 138.30it/s]\n"
     ]
    },
    {
     "name": "stdout",
     "output_type": "stream",
     "text": [
      "Epoch [4/100], Running Loss: 0.0158\n",
      "Train Loss: 0.0147\n",
      "Test Loss: 0.0159\n"
     ]
    },
    {
     "name": "stderr",
     "output_type": "stream",
     "text": [
      "Epoch 5/100: 100%|██████████| 500/500 [00:02<00:00, 229.86it/s]\n"
     ]
    },
    {
     "name": "stdout",
     "output_type": "stream",
     "text": [
      "Epoch [5/100], Running Loss: 0.0152\n",
      "Train Loss: 0.0143\n",
      "Test Loss: 0.0157\n"
     ]
    },
    {
     "name": "stderr",
     "output_type": "stream",
     "text": [
      "Epoch 6/100: 100%|██████████| 500/500 [00:02<00:00, 206.09it/s]\n"
     ]
    },
    {
     "name": "stdout",
     "output_type": "stream",
     "text": [
      "Epoch [6/100], Running Loss: 0.0149\n",
      "Train Loss: 0.0140\n",
      "Test Loss: 0.0157\n"
     ]
    },
    {
     "name": "stderr",
     "output_type": "stream",
     "text": [
      "Epoch 7/100: 100%|██████████| 500/500 [00:02<00:00, 209.42it/s]\n"
     ]
    },
    {
     "name": "stdout",
     "output_type": "stream",
     "text": [
      "Epoch [7/100], Running Loss: 0.0146\n",
      "Train Loss: 0.0136\n",
      "Test Loss: 0.0156\n"
     ]
    },
    {
     "name": "stderr",
     "output_type": "stream",
     "text": [
      "Epoch 8/100: 100%|██████████| 500/500 [00:02<00:00, 214.69it/s]\n"
     ]
    },
    {
     "name": "stdout",
     "output_type": "stream",
     "text": [
      "Epoch [8/100], Running Loss: 0.0143\n",
      "Train Loss: 0.0132\n",
      "Test Loss: 0.0155\n"
     ]
    },
    {
     "name": "stderr",
     "output_type": "stream",
     "text": [
      "Epoch 9/100: 100%|██████████| 500/500 [00:02<00:00, 220.53it/s]\n"
     ]
    },
    {
     "name": "stdout",
     "output_type": "stream",
     "text": [
      "Epoch [9/100], Running Loss: 0.0139\n",
      "Train Loss: 0.0129\n",
      "Test Loss: 0.0156\n"
     ]
    },
    {
     "name": "stderr",
     "output_type": "stream",
     "text": [
      "Epoch 10/100: 100%|██████████| 500/500 [00:02<00:00, 214.64it/s]\n"
     ]
    },
    {
     "name": "stdout",
     "output_type": "stream",
     "text": [
      "Epoch [10/100], Running Loss: 0.0136\n",
      "Train Loss: 0.0127\n",
      "Test Loss: 0.0157\n"
     ]
    },
    {
     "name": "stderr",
     "output_type": "stream",
     "text": [
      "Epoch 11/100: 100%|██████████| 500/500 [00:02<00:00, 209.65it/s]\n"
     ]
    },
    {
     "name": "stdout",
     "output_type": "stream",
     "text": [
      "Epoch [11/100], Running Loss: 0.0131\n",
      "Train Loss: 0.0123\n",
      "Test Loss: 0.0160\n"
     ]
    },
    {
     "name": "stderr",
     "output_type": "stream",
     "text": [
      "Epoch 12/100: 100%|██████████| 500/500 [00:02<00:00, 210.33it/s]\n"
     ]
    },
    {
     "name": "stdout",
     "output_type": "stream",
     "text": [
      "Epoch [12/100], Running Loss: 0.0128\n",
      "Train Loss: 0.0123\n",
      "Test Loss: 0.0165\n"
     ]
    },
    {
     "name": "stderr",
     "output_type": "stream",
     "text": [
      "Epoch 13/100: 100%|██████████| 500/500 [00:02<00:00, 216.97it/s]\n"
     ]
    },
    {
     "name": "stdout",
     "output_type": "stream",
     "text": [
      "Epoch [13/100], Running Loss: 0.0126\n",
      "Train Loss: 0.0115\n",
      "Test Loss: 0.0164\n"
     ]
    },
    {
     "name": "stderr",
     "output_type": "stream",
     "text": [
      "Epoch 14/100: 100%|██████████| 500/500 [00:02<00:00, 225.14it/s]\n"
     ]
    },
    {
     "name": "stdout",
     "output_type": "stream",
     "text": [
      "Epoch [14/100], Running Loss: 0.0123\n",
      "Train Loss: 0.0112\n",
      "Test Loss: 0.0166\n"
     ]
    },
    {
     "name": "stderr",
     "output_type": "stream",
     "text": [
      "Epoch 15/100: 100%|██████████| 500/500 [00:02<00:00, 223.70it/s]\n"
     ]
    },
    {
     "name": "stdout",
     "output_type": "stream",
     "text": [
      "Epoch [15/100], Running Loss: 0.0119\n",
      "Train Loss: 0.0109\n",
      "Test Loss: 0.0167\n"
     ]
    },
    {
     "name": "stderr",
     "output_type": "stream",
     "text": [
      "Epoch 16/100: 100%|██████████| 500/500 [00:02<00:00, 230.06it/s]\n"
     ]
    },
    {
     "name": "stdout",
     "output_type": "stream",
     "text": [
      "Epoch [16/100], Running Loss: 0.0116\n",
      "Train Loss: 0.0107\n",
      "Test Loss: 0.0170\n"
     ]
    },
    {
     "name": "stderr",
     "output_type": "stream",
     "text": [
      "Epoch 17/100: 100%|██████████| 500/500 [00:02<00:00, 232.36it/s]\n"
     ]
    },
    {
     "name": "stdout",
     "output_type": "stream",
     "text": [
      "Epoch [17/100], Running Loss: 0.0113\n",
      "Train Loss: 0.0104\n",
      "Test Loss: 0.0175\n"
     ]
    },
    {
     "name": "stderr",
     "output_type": "stream",
     "text": [
      "Epoch 18/100: 100%|██████████| 500/500 [00:02<00:00, 234.63it/s]\n"
     ]
    },
    {
     "name": "stdout",
     "output_type": "stream",
     "text": [
      "Epoch [18/100], Running Loss: 0.0110\n",
      "Train Loss: 0.0101\n",
      "Test Loss: 0.0178\n"
     ]
    },
    {
     "name": "stderr",
     "output_type": "stream",
     "text": [
      "Epoch 19/100: 100%|██████████| 500/500 [00:02<00:00, 222.15it/s]\n"
     ]
    },
    {
     "name": "stdout",
     "output_type": "stream",
     "text": [
      "Epoch [19/100], Running Loss: 0.0108\n",
      "Train Loss: 0.0098\n",
      "Test Loss: 0.0178\n"
     ]
    },
    {
     "name": "stderr",
     "output_type": "stream",
     "text": [
      "Epoch 20/100: 100%|██████████| 500/500 [00:02<00:00, 229.73it/s]\n"
     ]
    },
    {
     "name": "stdout",
     "output_type": "stream",
     "text": [
      "Epoch [20/100], Running Loss: 0.0105\n",
      "Train Loss: 0.0095\n",
      "Test Loss: 0.0182\n"
     ]
    },
    {
     "name": "stderr",
     "output_type": "stream",
     "text": [
      "Epoch 21/100: 100%|██████████| 500/500 [00:02<00:00, 224.94it/s]\n"
     ]
    },
    {
     "name": "stdout",
     "output_type": "stream",
     "text": [
      "Epoch [21/100], Running Loss: 0.0102\n",
      "Train Loss: 0.0094\n",
      "Test Loss: 0.0182\n"
     ]
    },
    {
     "name": "stderr",
     "output_type": "stream",
     "text": [
      "Epoch 22/100: 100%|██████████| 500/500 [00:02<00:00, 231.45it/s]\n"
     ]
    },
    {
     "name": "stdout",
     "output_type": "stream",
     "text": [
      "Epoch [22/100], Running Loss: 0.0100\n",
      "Train Loss: 0.0091\n",
      "Test Loss: 0.0185\n"
     ]
    },
    {
     "name": "stderr",
     "output_type": "stream",
     "text": [
      "Epoch 23/100: 100%|██████████| 500/500 [00:02<00:00, 228.82it/s]\n"
     ]
    },
    {
     "name": "stdout",
     "output_type": "stream",
     "text": [
      "Epoch [23/100], Running Loss: 0.0097\n",
      "Train Loss: 0.0089\n",
      "Test Loss: 0.0188\n"
     ]
    },
    {
     "name": "stderr",
     "output_type": "stream",
     "text": [
      "Epoch 24/100: 100%|██████████| 500/500 [00:02<00:00, 222.49it/s]\n"
     ]
    },
    {
     "name": "stdout",
     "output_type": "stream",
     "text": [
      "Epoch [24/100], Running Loss: 0.0095\n",
      "Train Loss: 0.0088\n",
      "Test Loss: 0.0190\n"
     ]
    },
    {
     "name": "stderr",
     "output_type": "stream",
     "text": [
      "Epoch 25/100: 100%|██████████| 500/500 [00:02<00:00, 222.88it/s]\n"
     ]
    },
    {
     "name": "stdout",
     "output_type": "stream",
     "text": [
      "Epoch [25/100], Running Loss: 0.0093\n",
      "Train Loss: 0.0083\n",
      "Test Loss: 0.0192\n"
     ]
    },
    {
     "name": "stderr",
     "output_type": "stream",
     "text": [
      "Epoch 26/100: 100%|██████████| 500/500 [00:02<00:00, 211.44it/s]\n"
     ]
    },
    {
     "name": "stdout",
     "output_type": "stream",
     "text": [
      "Epoch [26/100], Running Loss: 0.0090\n",
      "Train Loss: 0.0081\n",
      "Test Loss: 0.0198\n"
     ]
    },
    {
     "name": "stderr",
     "output_type": "stream",
     "text": [
      "Epoch 27/100: 100%|██████████| 500/500 [00:02<00:00, 219.87it/s]\n"
     ]
    },
    {
     "name": "stdout",
     "output_type": "stream",
     "text": [
      "Epoch [27/100], Running Loss: 0.0087\n",
      "Train Loss: 0.0081\n",
      "Test Loss: 0.0201\n"
     ]
    },
    {
     "name": "stderr",
     "output_type": "stream",
     "text": [
      "Epoch 28/100: 100%|██████████| 500/500 [00:02<00:00, 228.44it/s]\n"
     ]
    },
    {
     "name": "stdout",
     "output_type": "stream",
     "text": [
      "Epoch [28/100], Running Loss: 0.0086\n",
      "Train Loss: 0.0077\n",
      "Test Loss: 0.0201\n"
     ]
    },
    {
     "name": "stderr",
     "output_type": "stream",
     "text": [
      "Epoch 29/100: 100%|██████████| 500/500 [00:02<00:00, 227.08it/s]\n"
     ]
    },
    {
     "name": "stdout",
     "output_type": "stream",
     "text": [
      "Epoch [29/100], Running Loss: 0.0083\n",
      "Train Loss: 0.0078\n",
      "Test Loss: 0.0205\n"
     ]
    },
    {
     "name": "stderr",
     "output_type": "stream",
     "text": [
      "Epoch 30/100: 100%|██████████| 500/500 [00:02<00:00, 230.33it/s]\n"
     ]
    },
    {
     "name": "stdout",
     "output_type": "stream",
     "text": [
      "Epoch [30/100], Running Loss: 0.0080\n",
      "Train Loss: 0.0073\n",
      "Test Loss: 0.0207\n"
     ]
    },
    {
     "name": "stderr",
     "output_type": "stream",
     "text": [
      "Epoch 31/100: 100%|██████████| 500/500 [00:02<00:00, 232.32it/s]\n"
     ]
    },
    {
     "name": "stdout",
     "output_type": "stream",
     "text": [
      "Epoch [31/100], Running Loss: 0.0079\n",
      "Train Loss: 0.0071\n",
      "Test Loss: 0.0207\n"
     ]
    },
    {
     "name": "stderr",
     "output_type": "stream",
     "text": [
      "Epoch 32/100: 100%|██████████| 500/500 [00:02<00:00, 236.92it/s]\n"
     ]
    },
    {
     "name": "stdout",
     "output_type": "stream",
     "text": [
      "Epoch [32/100], Running Loss: 0.0077\n",
      "Train Loss: 0.0068\n",
      "Test Loss: 0.0207\n"
     ]
    },
    {
     "name": "stderr",
     "output_type": "stream",
     "text": [
      "Epoch 33/100: 100%|██████████| 500/500 [00:02<00:00, 211.07it/s]\n"
     ]
    },
    {
     "name": "stdout",
     "output_type": "stream",
     "text": [
      "Epoch [33/100], Running Loss: 0.0074\n",
      "Train Loss: 0.0068\n",
      "Test Loss: 0.0213\n"
     ]
    },
    {
     "name": "stderr",
     "output_type": "stream",
     "text": [
      "Epoch 34/100: 100%|██████████| 500/500 [00:02<00:00, 229.58it/s]\n"
     ]
    },
    {
     "name": "stdout",
     "output_type": "stream",
     "text": [
      "Epoch [34/100], Running Loss: 0.0072\n",
      "Train Loss: 0.0066\n",
      "Test Loss: 0.0223\n"
     ]
    },
    {
     "name": "stderr",
     "output_type": "stream",
     "text": [
      "Epoch 35/100: 100%|██████████| 500/500 [00:02<00:00, 231.04it/s]\n"
     ]
    },
    {
     "name": "stdout",
     "output_type": "stream",
     "text": [
      "Epoch [35/100], Running Loss: 0.0071\n",
      "Train Loss: 0.0063\n",
      "Test Loss: 0.0216\n"
     ]
    },
    {
     "name": "stderr",
     "output_type": "stream",
     "text": [
      "Epoch 36/100: 100%|██████████| 500/500 [00:02<00:00, 222.89it/s]\n"
     ]
    },
    {
     "name": "stdout",
     "output_type": "stream",
     "text": [
      "Epoch [36/100], Running Loss: 0.0068\n",
      "Train Loss: 0.0064\n",
      "Test Loss: 0.0218\n"
     ]
    },
    {
     "name": "stderr",
     "output_type": "stream",
     "text": [
      "Epoch 37/100: 100%|██████████| 500/500 [00:02<00:00, 230.38it/s]\n"
     ]
    },
    {
     "name": "stdout",
     "output_type": "stream",
     "text": [
      "Epoch [37/100], Running Loss: 0.0067\n",
      "Train Loss: 0.0059\n",
      "Test Loss: 0.0224\n"
     ]
    },
    {
     "name": "stderr",
     "output_type": "stream",
     "text": [
      "Epoch 38/100: 100%|██████████| 500/500 [00:02<00:00, 215.74it/s]\n"
     ]
    },
    {
     "name": "stdout",
     "output_type": "stream",
     "text": [
      "Epoch [38/100], Running Loss: 0.0065\n",
      "Train Loss: 0.0060\n",
      "Test Loss: 0.0226\n"
     ]
    },
    {
     "name": "stderr",
     "output_type": "stream",
     "text": [
      "Epoch 39/100: 100%|██████████| 500/500 [00:02<00:00, 205.63it/s]\n"
     ]
    },
    {
     "name": "stdout",
     "output_type": "stream",
     "text": [
      "Epoch [39/100], Running Loss: 0.0063\n",
      "Train Loss: 0.0059\n",
      "Test Loss: 0.0232\n"
     ]
    },
    {
     "name": "stderr",
     "output_type": "stream",
     "text": [
      "Epoch 40/100: 100%|██████████| 500/500 [00:02<00:00, 208.70it/s]\n"
     ]
    },
    {
     "name": "stdout",
     "output_type": "stream",
     "text": [
      "Epoch [40/100], Running Loss: 0.0062\n",
      "Train Loss: 0.0057\n",
      "Test Loss: 0.0232\n"
     ]
    },
    {
     "name": "stderr",
     "output_type": "stream",
     "text": [
      "Epoch 41/100: 100%|██████████| 500/500 [00:02<00:00, 201.80it/s]\n"
     ]
    },
    {
     "name": "stdout",
     "output_type": "stream",
     "text": [
      "Epoch [41/100], Running Loss: 0.0060\n",
      "Train Loss: 0.0054\n",
      "Test Loss: 0.0235\n"
     ]
    },
    {
     "name": "stderr",
     "output_type": "stream",
     "text": [
      "Epoch 42/100: 100%|██████████| 500/500 [00:02<00:00, 221.73it/s]\n"
     ]
    },
    {
     "name": "stdout",
     "output_type": "stream",
     "text": [
      "Epoch [42/100], Running Loss: 0.0059\n",
      "Train Loss: 0.0054\n",
      "Test Loss: 0.0238\n"
     ]
    },
    {
     "name": "stderr",
     "output_type": "stream",
     "text": [
      "Epoch 43/100: 100%|██████████| 500/500 [00:02<00:00, 226.50it/s]\n"
     ]
    },
    {
     "name": "stdout",
     "output_type": "stream",
     "text": [
      "Epoch [43/100], Running Loss: 0.0057\n",
      "Train Loss: 0.0052\n",
      "Test Loss: 0.0236\n"
     ]
    },
    {
     "name": "stderr",
     "output_type": "stream",
     "text": [
      "Epoch 44/100: 100%|██████████| 500/500 [00:02<00:00, 223.70it/s]\n"
     ]
    },
    {
     "name": "stdout",
     "output_type": "stream",
     "text": [
      "Epoch [44/100], Running Loss: 0.0056\n",
      "Train Loss: 0.0052\n",
      "Test Loss: 0.0235\n"
     ]
    },
    {
     "name": "stderr",
     "output_type": "stream",
     "text": [
      "Epoch 45/100: 100%|██████████| 500/500 [00:02<00:00, 227.11it/s]\n"
     ]
    },
    {
     "name": "stdout",
     "output_type": "stream",
     "text": [
      "Epoch [45/100], Running Loss: 0.0054\n",
      "Train Loss: 0.0049\n",
      "Test Loss: 0.0238\n"
     ]
    },
    {
     "name": "stderr",
     "output_type": "stream",
     "text": [
      "Epoch 46/100: 100%|██████████| 500/500 [00:02<00:00, 223.11it/s]\n"
     ]
    },
    {
     "name": "stdout",
     "output_type": "stream",
     "text": [
      "Epoch [46/100], Running Loss: 0.0053\n",
      "Train Loss: 0.0049\n",
      "Test Loss: 0.0240\n"
     ]
    },
    {
     "name": "stderr",
     "output_type": "stream",
     "text": [
      "Epoch 47/100: 100%|██████████| 500/500 [00:02<00:00, 230.92it/s]\n"
     ]
    },
    {
     "name": "stdout",
     "output_type": "stream",
     "text": [
      "Epoch [47/100], Running Loss: 0.0052\n",
      "Train Loss: 0.0049\n",
      "Test Loss: 0.0245\n"
     ]
    },
    {
     "name": "stderr",
     "output_type": "stream",
     "text": [
      "Epoch 48/100: 100%|██████████| 500/500 [00:02<00:00, 228.43it/s]\n"
     ]
    },
    {
     "name": "stdout",
     "output_type": "stream",
     "text": [
      "Epoch [48/100], Running Loss: 0.0051\n",
      "Train Loss: 0.0047\n",
      "Test Loss: 0.0247\n"
     ]
    },
    {
     "name": "stderr",
     "output_type": "stream",
     "text": [
      "Epoch 49/100: 100%|██████████| 500/500 [00:02<00:00, 220.00it/s]\n"
     ]
    },
    {
     "name": "stdout",
     "output_type": "stream",
     "text": [
      "Epoch [49/100], Running Loss: 0.0051\n",
      "Train Loss: 0.0046\n",
      "Test Loss: 0.0243\n"
     ]
    },
    {
     "name": "stderr",
     "output_type": "stream",
     "text": [
      "Epoch 50/100: 100%|██████████| 500/500 [00:02<00:00, 226.29it/s]\n"
     ]
    },
    {
     "name": "stdout",
     "output_type": "stream",
     "text": [
      "Epoch [50/100], Running Loss: 0.0049\n",
      "Train Loss: 0.0045\n",
      "Test Loss: 0.0245\n"
     ]
    },
    {
     "name": "stderr",
     "output_type": "stream",
     "text": [
      "Epoch 51/100: 100%|██████████| 500/500 [00:02<00:00, 227.02it/s]\n"
     ]
    },
    {
     "name": "stdout",
     "output_type": "stream",
     "text": [
      "Epoch [51/100], Running Loss: 0.0048\n",
      "Train Loss: 0.0045\n",
      "Test Loss: 0.0250\n"
     ]
    },
    {
     "name": "stderr",
     "output_type": "stream",
     "text": [
      "Epoch 52/100: 100%|██████████| 500/500 [00:02<00:00, 232.05it/s]\n"
     ]
    },
    {
     "name": "stdout",
     "output_type": "stream",
     "text": [
      "Epoch [52/100], Running Loss: 0.0048\n",
      "Train Loss: 0.0043\n",
      "Test Loss: 0.0255\n"
     ]
    },
    {
     "name": "stderr",
     "output_type": "stream",
     "text": [
      "Epoch 53/100: 100%|██████████| 500/500 [00:02<00:00, 229.19it/s]\n"
     ]
    },
    {
     "name": "stdout",
     "output_type": "stream",
     "text": [
      "Epoch [53/100], Running Loss: 0.0047\n",
      "Train Loss: 0.0041\n",
      "Test Loss: 0.0253\n"
     ]
    },
    {
     "name": "stderr",
     "output_type": "stream",
     "text": [
      "Epoch 54/100: 100%|██████████| 500/500 [00:02<00:00, 233.34it/s]\n"
     ]
    },
    {
     "name": "stdout",
     "output_type": "stream",
     "text": [
      "Epoch [54/100], Running Loss: 0.0045\n",
      "Train Loss: 0.0042\n",
      "Test Loss: 0.0255\n"
     ]
    },
    {
     "name": "stderr",
     "output_type": "stream",
     "text": [
      "Epoch 55/100: 100%|██████████| 500/500 [00:02<00:00, 227.03it/s]\n"
     ]
    },
    {
     "name": "stdout",
     "output_type": "stream",
     "text": [
      "Epoch [55/100], Running Loss: 0.0045\n",
      "Train Loss: 0.0041\n",
      "Test Loss: 0.0253\n"
     ]
    },
    {
     "name": "stderr",
     "output_type": "stream",
     "text": [
      "Epoch 56/100: 100%|██████████| 500/500 [00:02<00:00, 225.15it/s]\n"
     ]
    },
    {
     "name": "stdout",
     "output_type": "stream",
     "text": [
      "Epoch [56/100], Running Loss: 0.0045\n",
      "Train Loss: 0.0041\n",
      "Test Loss: 0.0258\n"
     ]
    },
    {
     "name": "stderr",
     "output_type": "stream",
     "text": [
      "Epoch 57/100: 100%|██████████| 500/500 [00:02<00:00, 213.73it/s]\n"
     ]
    },
    {
     "name": "stdout",
     "output_type": "stream",
     "text": [
      "Epoch [57/100], Running Loss: 0.0043\n",
      "Train Loss: 0.0044\n",
      "Test Loss: 0.0256\n"
     ]
    },
    {
     "name": "stderr",
     "output_type": "stream",
     "text": [
      "Epoch 58/100: 100%|██████████| 500/500 [00:02<00:00, 223.68it/s]\n"
     ]
    },
    {
     "name": "stdout",
     "output_type": "stream",
     "text": [
      "Epoch [58/100], Running Loss: 0.0043\n",
      "Train Loss: 0.0042\n",
      "Test Loss: 0.0253\n"
     ]
    },
    {
     "name": "stderr",
     "output_type": "stream",
     "text": [
      "Epoch 59/100: 100%|██████████| 500/500 [00:02<00:00, 219.48it/s]\n"
     ]
    },
    {
     "name": "stdout",
     "output_type": "stream",
     "text": [
      "Epoch [59/100], Running Loss: 0.0042\n",
      "Train Loss: 0.0039\n",
      "Test Loss: 0.0259\n"
     ]
    },
    {
     "name": "stderr",
     "output_type": "stream",
     "text": [
      "Epoch 60/100: 100%|██████████| 500/500 [00:02<00:00, 226.56it/s]\n"
     ]
    },
    {
     "name": "stdout",
     "output_type": "stream",
     "text": [
      "Epoch [60/100], Running Loss: 0.0041\n",
      "Train Loss: 0.0038\n",
      "Test Loss: 0.0261\n"
     ]
    },
    {
     "name": "stderr",
     "output_type": "stream",
     "text": [
      "Epoch 61/100: 100%|██████████| 500/500 [00:02<00:00, 222.63it/s]\n"
     ]
    },
    {
     "name": "stdout",
     "output_type": "stream",
     "text": [
      "Epoch [61/100], Running Loss: 0.0041\n",
      "Train Loss: 0.0037\n",
      "Test Loss: 0.0260\n"
     ]
    },
    {
     "name": "stderr",
     "output_type": "stream",
     "text": [
      "Epoch 62/100: 100%|██████████| 500/500 [00:02<00:00, 223.58it/s]\n"
     ]
    },
    {
     "name": "stdout",
     "output_type": "stream",
     "text": [
      "Epoch [62/100], Running Loss: 0.0040\n",
      "Train Loss: 0.0037\n",
      "Test Loss: 0.0260\n"
     ]
    },
    {
     "name": "stderr",
     "output_type": "stream",
     "text": [
      "Epoch 63/100: 100%|██████████| 500/500 [00:02<00:00, 216.45it/s]\n"
     ]
    },
    {
     "name": "stdout",
     "output_type": "stream",
     "text": [
      "Epoch [63/100], Running Loss: 0.0040\n",
      "Train Loss: 0.0038\n",
      "Test Loss: 0.0261\n"
     ]
    },
    {
     "name": "stderr",
     "output_type": "stream",
     "text": [
      "Epoch 64/100: 100%|██████████| 500/500 [00:02<00:00, 234.92it/s]\n"
     ]
    },
    {
     "name": "stdout",
     "output_type": "stream",
     "text": [
      "Epoch [64/100], Running Loss: 0.0040\n",
      "Train Loss: 0.0037\n",
      "Test Loss: 0.0270\n"
     ]
    },
    {
     "name": "stderr",
     "output_type": "stream",
     "text": [
      "Epoch 65/100: 100%|██████████| 500/500 [00:02<00:00, 230.17it/s]\n"
     ]
    },
    {
     "name": "stdout",
     "output_type": "stream",
     "text": [
      "Epoch [65/100], Running Loss: 0.0039\n",
      "Train Loss: 0.0036\n",
      "Test Loss: 0.0268\n"
     ]
    },
    {
     "name": "stderr",
     "output_type": "stream",
     "text": [
      "Epoch 66/100: 100%|██████████| 500/500 [00:02<00:00, 228.79it/s]\n"
     ]
    },
    {
     "name": "stdout",
     "output_type": "stream",
     "text": [
      "Epoch [66/100], Running Loss: 0.0038\n",
      "Train Loss: 0.0036\n",
      "Test Loss: 0.0267\n"
     ]
    },
    {
     "name": "stderr",
     "output_type": "stream",
     "text": [
      "Epoch 67/100: 100%|██████████| 500/500 [00:02<00:00, 204.96it/s]\n"
     ]
    },
    {
     "name": "stdout",
     "output_type": "stream",
     "text": [
      "Epoch [67/100], Running Loss: 0.0038\n",
      "Train Loss: 0.0035\n",
      "Test Loss: 0.0268\n"
     ]
    },
    {
     "name": "stderr",
     "output_type": "stream",
     "text": [
      "Epoch 68/100: 100%|██████████| 500/500 [00:02<00:00, 204.50it/s]\n"
     ]
    },
    {
     "name": "stdout",
     "output_type": "stream",
     "text": [
      "Epoch [68/100], Running Loss: 0.0038\n",
      "Train Loss: 0.0034\n",
      "Test Loss: 0.0263\n"
     ]
    },
    {
     "name": "stderr",
     "output_type": "stream",
     "text": [
      "Epoch 69/100: 100%|██████████| 500/500 [00:02<00:00, 232.76it/s]\n"
     ]
    },
    {
     "name": "stdout",
     "output_type": "stream",
     "text": [
      "Epoch [69/100], Running Loss: 0.0037\n",
      "Train Loss: 0.0035\n",
      "Test Loss: 0.0268\n"
     ]
    },
    {
     "name": "stderr",
     "output_type": "stream",
     "text": [
      "Epoch 70/100: 100%|██████████| 500/500 [00:02<00:00, 233.32it/s]\n"
     ]
    },
    {
     "name": "stdout",
     "output_type": "stream",
     "text": [
      "Epoch [70/100], Running Loss: 0.0036\n",
      "Train Loss: 0.0035\n",
      "Test Loss: 0.0272\n"
     ]
    },
    {
     "name": "stderr",
     "output_type": "stream",
     "text": [
      "Epoch 71/100: 100%|██████████| 500/500 [00:02<00:00, 221.57it/s]\n"
     ]
    },
    {
     "name": "stdout",
     "output_type": "stream",
     "text": [
      "Epoch [71/100], Running Loss: 0.0037\n",
      "Train Loss: 0.0036\n",
      "Test Loss: 0.0271\n"
     ]
    },
    {
     "name": "stderr",
     "output_type": "stream",
     "text": [
      "Epoch 72/100: 100%|██████████| 500/500 [00:02<00:00, 234.60it/s]\n"
     ]
    },
    {
     "name": "stdout",
     "output_type": "stream",
     "text": [
      "Epoch [72/100], Running Loss: 0.0036\n",
      "Train Loss: 0.0032\n",
      "Test Loss: 0.0271\n"
     ]
    },
    {
     "name": "stderr",
     "output_type": "stream",
     "text": [
      "Epoch 73/100: 100%|██████████| 500/500 [00:02<00:00, 230.69it/s]\n"
     ]
    },
    {
     "name": "stdout",
     "output_type": "stream",
     "text": [
      "Epoch [73/100], Running Loss: 0.0035\n",
      "Train Loss: 0.0033\n",
      "Test Loss: 0.0270\n"
     ]
    },
    {
     "name": "stderr",
     "output_type": "stream",
     "text": [
      "Epoch 74/100: 100%|██████████| 500/500 [00:02<00:00, 221.41it/s]\n"
     ]
    },
    {
     "name": "stdout",
     "output_type": "stream",
     "text": [
      "Epoch [74/100], Running Loss: 0.0035\n",
      "Train Loss: 0.0035\n",
      "Test Loss: 0.0274\n"
     ]
    },
    {
     "name": "stderr",
     "output_type": "stream",
     "text": [
      "Epoch 75/100: 100%|██████████| 500/500 [00:02<00:00, 237.35it/s]\n"
     ]
    },
    {
     "name": "stdout",
     "output_type": "stream",
     "text": [
      "Epoch [75/100], Running Loss: 0.0035\n",
      "Train Loss: 0.0033\n",
      "Test Loss: 0.0273\n"
     ]
    },
    {
     "name": "stderr",
     "output_type": "stream",
     "text": [
      "Epoch 76/100: 100%|██████████| 500/500 [00:02<00:00, 237.01it/s]\n"
     ]
    },
    {
     "name": "stdout",
     "output_type": "stream",
     "text": [
      "Epoch [76/100], Running Loss: 0.0033\n",
      "Train Loss: 0.0033\n",
      "Test Loss: 0.0274\n"
     ]
    },
    {
     "name": "stderr",
     "output_type": "stream",
     "text": [
      "Epoch 77/100: 100%|██████████| 500/500 [00:02<00:00, 238.97it/s]\n"
     ]
    },
    {
     "name": "stdout",
     "output_type": "stream",
     "text": [
      "Epoch [77/100], Running Loss: 0.0033\n",
      "Train Loss: 0.0031\n",
      "Test Loss: 0.0273\n"
     ]
    },
    {
     "name": "stderr",
     "output_type": "stream",
     "text": [
      "Epoch 78/100: 100%|██████████| 500/500 [00:02<00:00, 236.30it/s]\n"
     ]
    },
    {
     "name": "stdout",
     "output_type": "stream",
     "text": [
      "Epoch [78/100], Running Loss: 0.0034\n",
      "Train Loss: 0.0032\n",
      "Test Loss: 0.0279\n"
     ]
    },
    {
     "name": "stderr",
     "output_type": "stream",
     "text": [
      "Epoch 79/100: 100%|██████████| 500/500 [00:02<00:00, 236.99it/s]\n"
     ]
    },
    {
     "name": "stdout",
     "output_type": "stream",
     "text": [
      "Epoch [79/100], Running Loss: 0.0034\n",
      "Train Loss: 0.0031\n",
      "Test Loss: 0.0275\n"
     ]
    },
    {
     "name": "stderr",
     "output_type": "stream",
     "text": [
      "Epoch 80/100: 100%|██████████| 500/500 [00:02<00:00, 224.51it/s]\n"
     ]
    },
    {
     "name": "stdout",
     "output_type": "stream",
     "text": [
      "Epoch [80/100], Running Loss: 0.0033\n",
      "Train Loss: 0.0030\n",
      "Test Loss: 0.0279\n"
     ]
    },
    {
     "name": "stderr",
     "output_type": "stream",
     "text": [
      "Epoch 81/100: 100%|██████████| 500/500 [00:02<00:00, 209.87it/s]\n"
     ]
    },
    {
     "name": "stdout",
     "output_type": "stream",
     "text": [
      "Epoch [81/100], Running Loss: 0.0032\n",
      "Train Loss: 0.0031\n",
      "Test Loss: 0.0276\n"
     ]
    },
    {
     "name": "stderr",
     "output_type": "stream",
     "text": [
      "Epoch 82/100: 100%|██████████| 500/500 [00:02<00:00, 225.14it/s]\n"
     ]
    },
    {
     "name": "stdout",
     "output_type": "stream",
     "text": [
      "Epoch [82/100], Running Loss: 0.0032\n",
      "Train Loss: 0.0030\n",
      "Test Loss: 0.0278\n"
     ]
    },
    {
     "name": "stderr",
     "output_type": "stream",
     "text": [
      "Epoch 83/100: 100%|██████████| 500/500 [00:02<00:00, 226.79it/s]\n"
     ]
    },
    {
     "name": "stdout",
     "output_type": "stream",
     "text": [
      "Epoch [83/100], Running Loss: 0.0032\n",
      "Train Loss: 0.0032\n",
      "Test Loss: 0.0274\n"
     ]
    },
    {
     "name": "stderr",
     "output_type": "stream",
     "text": [
      "Epoch 84/100: 100%|██████████| 500/500 [00:02<00:00, 233.10it/s]\n"
     ]
    },
    {
     "name": "stdout",
     "output_type": "stream",
     "text": [
      "Epoch [84/100], Running Loss: 0.0032\n",
      "Train Loss: 0.0032\n",
      "Test Loss: 0.0288\n"
     ]
    },
    {
     "name": "stderr",
     "output_type": "stream",
     "text": [
      "Epoch 85/100: 100%|██████████| 500/500 [00:02<00:00, 228.22it/s]\n"
     ]
    },
    {
     "name": "stdout",
     "output_type": "stream",
     "text": [
      "Epoch [85/100], Running Loss: 0.0032\n",
      "Train Loss: 0.0030\n",
      "Test Loss: 0.0280\n"
     ]
    },
    {
     "name": "stderr",
     "output_type": "stream",
     "text": [
      "Epoch 86/100: 100%|██████████| 500/500 [00:02<00:00, 222.22it/s]\n"
     ]
    },
    {
     "name": "stdout",
     "output_type": "stream",
     "text": [
      "Epoch [86/100], Running Loss: 0.0031\n",
      "Train Loss: 0.0029\n",
      "Test Loss: 0.0283\n"
     ]
    },
    {
     "name": "stderr",
     "output_type": "stream",
     "text": [
      "Epoch 87/100: 100%|██████████| 500/500 [00:02<00:00, 209.94it/s]\n"
     ]
    },
    {
     "name": "stdout",
     "output_type": "stream",
     "text": [
      "Epoch [87/100], Running Loss: 0.0032\n",
      "Train Loss: 0.0029\n",
      "Test Loss: 0.0283\n"
     ]
    },
    {
     "name": "stderr",
     "output_type": "stream",
     "text": [
      "Epoch 88/100: 100%|██████████| 500/500 [00:02<00:00, 224.97it/s]\n"
     ]
    },
    {
     "name": "stdout",
     "output_type": "stream",
     "text": [
      "Epoch [88/100], Running Loss: 0.0030\n",
      "Train Loss: 0.0029\n",
      "Test Loss: 0.0279\n"
     ]
    },
    {
     "name": "stderr",
     "output_type": "stream",
     "text": [
      "Epoch 89/100: 100%|██████████| 500/500 [00:02<00:00, 235.67it/s]\n"
     ]
    },
    {
     "name": "stdout",
     "output_type": "stream",
     "text": [
      "Epoch [89/100], Running Loss: 0.0031\n",
      "Train Loss: 0.0029\n",
      "Test Loss: 0.0286\n"
     ]
    },
    {
     "name": "stderr",
     "output_type": "stream",
     "text": [
      "Epoch 90/100: 100%|██████████| 500/500 [00:02<00:00, 232.13it/s]\n"
     ]
    },
    {
     "name": "stdout",
     "output_type": "stream",
     "text": [
      "Epoch [90/100], Running Loss: 0.0031\n",
      "Train Loss: 0.0030\n",
      "Test Loss: 0.0289\n"
     ]
    },
    {
     "name": "stderr",
     "output_type": "stream",
     "text": [
      "Epoch 91/100: 100%|██████████| 500/500 [00:02<00:00, 226.94it/s]\n"
     ]
    },
    {
     "name": "stdout",
     "output_type": "stream",
     "text": [
      "Epoch [91/100], Running Loss: 0.0030\n",
      "Train Loss: 0.0029\n",
      "Test Loss: 0.0281\n"
     ]
    },
    {
     "name": "stderr",
     "output_type": "stream",
     "text": [
      "Epoch 92/100: 100%|██████████| 500/500 [00:02<00:00, 222.21it/s]\n"
     ]
    },
    {
     "name": "stdout",
     "output_type": "stream",
     "text": [
      "Epoch [92/100], Running Loss: 0.0030\n",
      "Train Loss: 0.0028\n",
      "Test Loss: 0.0289\n"
     ]
    },
    {
     "name": "stderr",
     "output_type": "stream",
     "text": [
      "Epoch 93/100: 100%|██████████| 500/500 [00:02<00:00, 225.23it/s]\n"
     ]
    },
    {
     "name": "stdout",
     "output_type": "stream",
     "text": [
      "Epoch [93/100], Running Loss: 0.0029\n",
      "Train Loss: 0.0027\n",
      "Test Loss: 0.0286\n"
     ]
    },
    {
     "name": "stderr",
     "output_type": "stream",
     "text": [
      "Epoch 94/100: 100%|██████████| 500/500 [00:02<00:00, 209.71it/s]\n"
     ]
    },
    {
     "name": "stdout",
     "output_type": "stream",
     "text": [
      "Epoch [94/100], Running Loss: 0.0029\n",
      "Train Loss: 0.0028\n",
      "Test Loss: 0.0288\n"
     ]
    },
    {
     "name": "stderr",
     "output_type": "stream",
     "text": [
      "Epoch 95/100: 100%|██████████| 500/500 [00:02<00:00, 231.90it/s]\n"
     ]
    },
    {
     "name": "stdout",
     "output_type": "stream",
     "text": [
      "Epoch [95/100], Running Loss: 0.0029\n",
      "Train Loss: 0.0029\n",
      "Test Loss: 0.0291\n"
     ]
    },
    {
     "name": "stderr",
     "output_type": "stream",
     "text": [
      "Epoch 96/100: 100%|██████████| 500/500 [00:02<00:00, 228.63it/s]\n"
     ]
    },
    {
     "name": "stdout",
     "output_type": "stream",
     "text": [
      "Epoch [96/100], Running Loss: 0.0029\n",
      "Train Loss: 0.0029\n",
      "Test Loss: 0.0285\n"
     ]
    },
    {
     "name": "stderr",
     "output_type": "stream",
     "text": [
      "Epoch 97/100: 100%|██████████| 500/500 [00:02<00:00, 233.25it/s]\n"
     ]
    },
    {
     "name": "stdout",
     "output_type": "stream",
     "text": [
      "Epoch [97/100], Running Loss: 0.0029\n",
      "Train Loss: 0.0027\n",
      "Test Loss: 0.0289\n"
     ]
    },
    {
     "name": "stderr",
     "output_type": "stream",
     "text": [
      "Epoch 98/100: 100%|██████████| 500/500 [00:02<00:00, 229.73it/s]\n"
     ]
    },
    {
     "name": "stdout",
     "output_type": "stream",
     "text": [
      "Epoch [98/100], Running Loss: 0.0029\n",
      "Train Loss: 0.0030\n",
      "Test Loss: 0.0284\n"
     ]
    },
    {
     "name": "stderr",
     "output_type": "stream",
     "text": [
      "Epoch 99/100: 100%|██████████| 500/500 [00:02<00:00, 232.75it/s]\n"
     ]
    },
    {
     "name": "stdout",
     "output_type": "stream",
     "text": [
      "Epoch [99/100], Running Loss: 0.0029\n",
      "Train Loss: 0.0027\n",
      "Test Loss: 0.0292\n"
     ]
    },
    {
     "name": "stderr",
     "output_type": "stream",
     "text": [
      "Epoch 100/100: 100%|██████████| 500/500 [00:02<00:00, 232.42it/s]\n"
     ]
    },
    {
     "name": "stdout",
     "output_type": "stream",
     "text": [
      "Epoch [100/100], Running Loss: 0.0029\n",
      "Train Loss: 0.0026\n",
      "Test Loss: 0.0288\n"
     ]
    }
   ],
   "execution_count": 33
  },
  {
   "metadata": {},
   "cell_type": "markdown",
   "source": "# Evaluate Model",
   "id": "710f41eb03b9e9bd"
  },
  {
   "metadata": {
    "ExecuteTime": {
     "end_time": "2024-10-08T04:50:04.362438Z",
     "start_time": "2024-10-08T04:50:01.953566Z"
    }
   },
   "cell_type": "code",
   "source": "losses_over_train, losses_over_test = evaluate_model(model, train_loader, test_loader, criterion)",
   "id": "b0f5929d26df5183",
   "outputs": [
    {
     "name": "stdout",
     "output_type": "stream",
     "text": [
      "Train Loss: 0.0026\n",
      "Test Loss: 0.0288\n"
     ]
    }
   ],
   "execution_count": 34
  },
  {
   "metadata": {
    "ExecuteTime": {
     "end_time": "2024-10-08T04:51:29.102539Z",
     "start_time": "2024-10-08T04:51:29.048767Z"
    }
   },
   "cell_type": "code",
   "source": [
    "epochs = range(1, len(train_losses) + 1)\n",
    "\n",
    "# Plot both training and testing losses\n",
    "plt.plot(epochs, train_losses, label='Train Loss', color='blue')\n",
    "plt.plot(epochs, test_losses, label='Test Loss', color='orange')\n",
    "\n",
    "# Adding titles and labels\n",
    "plt.title('Training and Testing Losses')\n",
    "plt.xlabel('Epochs')\n",
    "plt.ylabel('Loss')\n",
    "plt.legend()\n",
    "    \n",
    "# Show the plot\n",
    "plt.show()"
   ],
   "id": "addc49304b78e10c",
   "outputs": [
    {
     "data": {
      "text/plain": [
       "<Figure size 640x480 with 1 Axes>"
      ],
      "image/png": "[encoded data removed]"
     },
     "metadata": {},
     "output_type": "display_data"
    }
   ],
   "execution_count": 36
  },
  {
   "metadata": {},
   "cell_type": "markdown",
   "source": "## v distribution",
   "id": "5e73b9b6c7865e02"
  },
  {
   "metadata": {},
   "cell_type": "markdown",
   "source": "### Training Data",
   "id": "4b7a2e3f2b0e4d7"
  },
  {
   "metadata": {
    "ExecuteTime": {
     "end_time": "2024-10-08T09:01:52.158921Z",
     "start_time": "2024-10-08T09:01:50.006638Z"
    }
   },
   "cell_type": "code",
   "source": [
    "model.eval()\n",
    "\n",
    "with torch.no_grad():\n",
    "    train_loader_v = []\n",
    "    train_infer_v = []\n",
    "    for inputs, targets in train_loader:\n",
    "        train_loader_v += targets.numpy().squeeze().tolist()\n",
    "        train_infer_v += model(inputs).numpy().squeeze().tolist()\n",
    "\n",
    "bin_edges = [0.25, 0.3, 0.35, 0.4 , 0.45 , 0.5, 0.55, 0.6, 0.65, 0.7, 0.75, 0.8, 0.85, 0.9, 0.95, 1.001, 1.05, 1.1, 1.15, 1.2, 1.25]\n",
    "\n",
    "fig, (ax1, ax2) = plt.subplots(1, 2, figsize=(12, 6))\n",
    "\n",
    "N, bins, patches = ax1.hist(train_loader_v, bins=bin_edges, edgecolor='black')\n",
    "for i in range(0, 4+1):\n",
    "    patches[i].set_facecolor('r')\n",
    "for i in range(5,15):    \n",
    "    patches[i].set_facecolor('b')\n",
    "for i in range(15, len(patches)):\n",
    "    patches[i].set_facecolor('r')\n",
    "ax1.set_title('Histogram for Training Data')\n",
    "ax1.set_xlabel('Values')\n",
    "ax1.set_ylabel('Frequency')\n",
    "\n",
    "N, bins, patches = ax2.hist(train_infer_v, bins=bin_edges, edgecolor='black')\n",
    "for i in range(0, 4+1):\n",
    "    patches[i].set_facecolor('r')\n",
    "for i in range(5,15):    \n",
    "    patches[i].set_facecolor('b')\n",
    "for i in range(15, len(patches)):\n",
    "    patches[i].set_facecolor('r')\n",
    "ax2.set_title('Histogram for Training Inference')\n",
    "ax2.set_xlabel('Values')\n",
    "ax2.set_ylabel('Frequency')\n",
    "\n",
    "plt.tight_layout()\n",
    "plt.show()"
   ],
   "id": "648954cd900bf5ff",
   "outputs": [
    {
     "data": {
      "text/plain": [
       "<Figure size 1200x600 with 2 Axes>"
      ],
      "image/png": "[encoded data removed]"
     },
     "metadata": {},
     "output_type": "display_data"
    }
   ],
   "execution_count": 50
  },
  {
   "metadata": {
    "ExecuteTime": {
     "end_time": "2024-10-08T04:52:02.494457Z",
     "start_time": "2024-10-08T04:52:02.411414Z"
    }
   },
   "cell_type": "code",
   "source": [
    "plt.hist(np.abs(np.array(train_loader_v) - np.array(train_infer_v)), bins='auto')\n",
    "plt.title(\"Histogram of Absolute Error for Training Data\")\n",
    "plt.show()"
   ],
   "id": "48fcf01c49dfdb1b",
   "outputs": [
    {
     "data": {
      "text/plain": [
       "<Figure size 640x480 with 1 Axes>"
      ],
      "image/png": "[encoded data removed]"
     },
     "metadata": {},
     "output_type": "display_data"
    }
   ],
   "execution_count": 38
  },
  {
   "metadata": {},
   "cell_type": "markdown",
   "source": "### Test Data",
   "id": "16dec20996b004a9"
  },
  {
   "metadata": {
    "ExecuteTime": {
     "end_time": "2024-10-08T04:52:05.878964Z",
     "start_time": "2024-10-08T04:52:05.302194Z"
    }
   },
   "cell_type": "code",
   "source": [
    "model.eval()\n",
    "\n",
    "with torch.no_grad():\n",
    "    test_loader_v = []\n",
    "    test_infer_v = []\n",
    "    for inputs, targets in test_loader:\n",
    "        test_loader_v += targets.numpy().squeeze().tolist()\n",
    "        test_infer_v += model(inputs).numpy().squeeze().tolist()\n",
    "\n",
    "bin_edges = [0.25, 0.3, 0.35, 0.4 , 0.45 , 0.5, 0.55, 0.6, 0.65, 0.7, 0.75, 0.8, 0.85, 0.9, 0.95, 1.001, 1.05, 1.1, 1.15, 1.2, 1.25]\n",
    "\n",
    "fig, (ax1, ax2) = plt.subplots(1, 2, figsize=(12, 6))\n",
    "\n",
    "N, bins, patches = ax1.hist(test_loader_v, bins=bin_edges, edgecolor='black')\n",
    "for i in range(0, 4+1):\n",
    "    patches[i].set_facecolor('r')\n",
    "for i in range(5,15):    \n",
    "    patches[i].set_facecolor('b')\n",
    "for i in range(15, len(patches)):\n",
    "    patches[i].set_facecolor('r')\n",
    "ax1.set_title('Histogram for Test Data')\n",
    "ax1.set_xlabel('Values')\n",
    "ax1.set_ylabel('Frequency')\n",
    "\n",
    "N, bins, patches = ax2.hist(test_infer_v, bins=bin_edges, edgecolor='black')\n",
    "for i in range(0, 4+1):\n",
    "    patches[i].set_facecolor('r')\n",
    "for i in range(5,15):    \n",
    "    patches[i].set_facecolor('b')\n",
    "for i in range(15, len(patches)):\n",
    "    patches[i].set_facecolor('r')\n",
    "ax2.set_title('Histogram for Test Inference')\n",
    "ax2.set_xlabel('Values')\n",
    "ax2.set_ylabel('Frequency')\n",
    "\n",
    "plt.tight_layout()\n",
    "plt.show()"
   ],
   "id": "5d112b7b011f8377",
   "outputs": [
    {
     "data": {
      "text/plain": [
       "<Figure size 1200x600 with 2 Axes>"
      ],
      "image/png": "[encoded data removed]"
     },
     "metadata": {},
     "output_type": "display_data"
    }
   ],
   "execution_count": 39
  },
  {
   "metadata": {
    "ExecuteTime": {
     "end_time": "2024-10-08T04:52:07.814258Z",
     "start_time": "2024-10-08T04:52:07.767897Z"
    }
   },
   "cell_type": "code",
   "source": [
    "plt.hist(np.abs(np.array(test_loader_v) - np.array(test_infer_v)), bins='auto')\n",
    "plt.title(\"Histogram of Absolute Error for Test Data\")\n",
    "plt.show()"
   ],
   "id": "8b494d1fbc2eab97",
   "outputs": [
    {
     "data": {
      "text/plain": [
       "<Figure size 640x480 with 1 Axes>"
      ],
      "image/png": "[encoded data removed]"
     },
     "metadata": {},
     "output_type": "display_data"
    }
   ],
   "execution_count": 40
  },
  {
   "metadata": {},
   "cell_type": "markdown",
   "source": "## FDR and TPR",
   "id": "7f0816a5a16c96fe"
  },
  {
   "metadata": {
    "ExecuteTime": {
     "end_time": "2024-10-08T04:52:14.281980Z",
     "start_time": "2024-10-08T04:52:10.760783Z"
    }
   },
   "cell_type": "code",
   "source": [
    "data_dir = 'data'\n",
    "phi_dir = os.path.join(data_dir, 'Phi_mat')\n",
    "true_actives_dir = os.path.join(data_dir, 'true_actives')\n",
    "\n",
    "phi_data = [np.loadtxt(os.path.join(phi_dir, f)) \n",
    "            for f in os.listdir(phi_dir) if f.startswith('Phi_mat_') and f.endswith('.txt')]\n",
    "true_actives_data = [np.loadtxt(os.path.join(true_actives_dir, f), dtype=int) - 1  # We substract 1 as they are R indices (starting from 1)\n",
    "                     for f in os.listdir(true_actives_dir) if f.startswith('true_actives_') and f.endswith('.txt')]\n",
    "\n",
    "FDRs = []  # or FDPs\n",
    "TPRs = []  # or TPPs\n",
    "for phi, true_actives in zip(phi_data, true_actives_data):\n",
    "    with torch.no_grad():   \n",
    "        v = model(torch.Tensor(phi)).numpy()[0]\n",
    "    selected = np.where(phi > v)[0]\n",
    "    selected_actives = np.intersect1d(selected, true_actives, assume_unique=True)\n",
    "    selected_null = np.setdiff1d(selected, selected_actives, assume_unique=True)\n",
    "    FDRs.append(len(selected_null)/max(len(selected), 1))\n",
    "    TPRs.append(len(selected_actives)/max(len(true_actives), 1))"
   ],
   "id": "ce0b27b266d3e95c",
   "outputs": [],
   "execution_count": 41
  },
  {
   "metadata": {
    "ExecuteTime": {
     "end_time": "2024-10-08T04:52:15.922180Z",
     "start_time": "2024-10-08T04:52:15.868822Z"
    }
   },
   "cell_type": "code",
   "source": [
    "bins = np.arange(0, 1.05, 0.05)\n",
    "plt.hist(np.array(FDRs)[train_indices], bins=bins)\n",
    "plt.axvline(x=0.1, color='red', linestyle='--', linewidth=2)\n",
    "plt.title(\"FDRs for Training Data\")\n",
    "plt.show()"
   ],
   "id": "df5a3c24011ca735",
   "outputs": [
    {
     "data": {
      "text/plain": [
       "<Figure size 640x480 with 1 Axes>"
      ],
      "image/png": "[encoded data removed]"
     },
     "metadata": {},
     "output_type": "display_data"
    }
   ],
   "execution_count": 42
  },
  {
   "metadata": {
    "ExecuteTime": {
     "end_time": "2024-10-08T04:52:16.599980Z",
     "start_time": "2024-10-08T04:52:16.540407Z"
    }
   },
   "cell_type": "code",
   "source": [
    "bins = np.arange(0, 1.05, 0.05)\n",
    "plt.hist(np.array(TPRs)[train_indices], bins=bins)\n",
    "plt.title(\"TPRs for Training Data\")\n",
    "plt.show()"
   ],
   "id": "d283cadfd34152a",
   "outputs": [
    {
     "data": {
      "text/plain": [
       "<Figure size 640x480 with 1 Axes>"
      ],
      "image/png": "[encoded data removed]"
     },
     "metadata": {},
     "output_type": "display_data"
    }
   ],
   "execution_count": 43
  },
  {
   "metadata": {
    "ExecuteTime": {
     "end_time": "2024-10-08T08:43:02.087456Z",
     "start_time": "2024-10-08T08:43:01.993221Z"
    }
   },
   "cell_type": "code",
   "source": [
    "bins = np.arange(0, 1.05, 0.05)\n",
    "plt.hist(np.array(FDRs)[test_indices], bins=bins)\n",
    "plt.axvline(x=0.1, color='red', linestyle='--', linewidth=2)\n",
    "plt.title(\"FDRs for Test Data\")\n",
    "plt.show()"
   ],
   "id": "6b8f2c4e64f14bbe",
   "outputs": [
    {
     "data": {
      "text/plain": [
       "<Figure size 640x480 with 1 Axes>"
      ],
      "image/png": "[encoded data removed]"
     },
     "metadata": {},
     "output_type": "display_data"
    }
   ],
   "execution_count": 46
  },
  {
   "metadata": {
    "ExecuteTime": {
     "end_time": "2024-10-08T08:43:08.480043Z",
     "start_time": "2024-10-08T08:43:08.429803Z"
    }
   },
   "cell_type": "code",
   "source": [
    "bins = np.arange(0, 1.05, 0.05)\n",
    "plt.hist(np.array(TPRs)[test_indices], bins=bins)\n",
    "plt.title(\"TPRs for Test Data\")\n",
    "plt.show()"
   ],
   "id": "d64ebe8f088092df",
   "outputs": [
    {
     "data": {
      "text/plain": [
       "<Figure size 640x480 with 1 Axes>"
      ],
      "image/png": "[encoded data removed]"
     },
     "metadata": {},
     "output_type": "display_data"
    }
   ],
   "execution_count": 47
  },
  {
   "metadata": {},
   "cell_type": "code",
   "outputs": [],
   "execution_count": null,
   "source": "",
   "id": "df860f41da327ef1"
  }
 ],
 "metadata": {
  "kernelspec": {
   "display_name": "Python 3",
   "language": "python",
   "name": "python3"
  },
  "language_info": {
   "codemirror_mode": {
    "name": "ipython",
    "version": 2
   },
   "file_extension": ".py",
   "mimetype": "text/x-python",
   "name": "python",
   "nbconvert_exporter": "python",
   "pygments_lexer": "ipython2",
   "version": "2.7.6"
  }
 },
 "nbformat": 4,
 "nbformat_minor": 5
}
