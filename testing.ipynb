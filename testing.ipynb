{
 "cells": [
  {
   "cell_type": "code",
   "id": "initial_id",
   "metadata": {
    "collapsed": true,
    "ExecuteTime": {
     "end_time": "2024-10-04T10:32:32.320788Z",
     "start_time": "2024-10-04T10:32:17.831062Z"
    }
   },
   "source": "#!Rscript generate_data.R",
   "outputs": [],
   "execution_count": 1
  },
  {
   "metadata": {
    "ExecuteTime": {
     "end_time": "2024-10-04T10:36:31.656381Z",
     "start_time": "2024-10-04T10:36:29.886270Z"
    }
   },
   "cell_type": "code",
   "source": [
    "import os\n",
    "import torch\n",
    "from torch.utils.data import Dataset, DataLoader\n",
    "import numpy as np\n",
    "\n",
    "import torch.optim as optim\n",
    "from tqdm import tqdm\n",
    "import matplotlib.pyplot as plt\n",
    "import torch.nn as nn\n",
    "from sklearn.model_selection import train_test_split\n",
    "\n",
    "class PhiThreshDataset(Dataset):\n",
    "    def __init__(self, data_dir):\n",
    "        self.phi_dir = os.path.join(data_dir, 'Phi_mat')\n",
    "        self.v_thresh_dir = os.path.join(data_dir, 'v_thresh')\n",
    "        \n",
    "        self.phi_files = [f for f in os.listdir(self.phi_dir) if f.startswith('Phi_mat_') and f.endswith('.txt')]\n",
    "        self.v_thresh_files = [f for f in os.listdir(self.v_thresh_dir) if f.startswith('v_thresh_') and f.endswith('.txt')]\n",
    "\n",
    "    def __len__(self):\n",
    "        return len(self.phi_files)\n",
    "\n",
    "    def __getitem__(self, idx):\n",
    "        phi_file = os.path.join(self.phi_dir, self.phi_files[idx])\n",
    "        phi = np.loadtxt(phi_file)\n",
    "        \n",
    "        v_thresh_file = os.path.join(self.v_thresh_dir, self.v_thresh_files[idx])\n",
    "        v_thresh = np.loadtxt(v_thresh_file)\n",
    "\n",
    "        return torch.tensor(phi, dtype=torch.float32), torch.tensor(v_thresh, dtype=torch.float32)"
   ],
   "id": "728c7b8518c4eeb2",
   "outputs": [],
   "execution_count": 1
  },
  {
   "metadata": {
    "ExecuteTime": {
     "end_time": "2024-10-04T10:36:33.116049Z",
     "start_time": "2024-10-04T10:36:33.112562Z"
    }
   },
   "cell_type": "code",
   "source": [
    "def get_data_loaders(data_dir, batch_size=32, test_size=0.2):\n",
    "    dataset = PhiThreshDataset(data_dir)\n",
    "    train_indices, test_indices = train_test_split(list(range(len(dataset))), test_size=test_size, random_state=42)\n",
    "    \n",
    "    train_set = torch.utils.data.Subset(dataset, train_indices)\n",
    "    test_set = torch.utils.data.Subset(dataset, test_indices)\n",
    "    \n",
    "    train_loader = DataLoader(train_set, batch_size=batch_size, shuffle=True)\n",
    "    test_loader = DataLoader(test_set, batch_size=batch_size, shuffle=False)\n",
    "\n",
    "    return train_loader, test_loader"
   ],
   "id": "e5318115b0d6ef51",
   "outputs": [],
   "execution_count": 2
  },
  {
   "metadata": {
    "ExecuteTime": {
     "end_time": "2024-10-04T10:36:33.457874Z",
     "start_time": "2024-10-04T10:36:33.455001Z"
    }
   },
   "cell_type": "code",
   "source": [
    "class PhiNet(nn.Module):\n",
    "    def __init__(self, input_size):\n",
    "        super(PhiNet, self).__init__()\n",
    "        self.fc1 = nn.Linear(input_size, 64)\n",
    "        self.fc2 = nn.Linear(64, 16)\n",
    "        self.fc3 = nn.Linear(16, 1)\n",
    "        \n",
    "    def forward(self, x):\n",
    "        x = torch.tanh(self.fc1(x))\n",
    "        x = torch.tanh(self.fc2(x))\n",
    "        x = (torch.sigmoid(self.fc3(x)) + 1)*0.5 # Busquem el rang (0.5, 1)\n",
    "        return x"
   ],
   "id": "75b9704072731224",
   "outputs": [],
   "execution_count": 3
  },
  {
   "metadata": {
    "ExecuteTime": {
     "end_time": "2024-10-04T10:38:45.126354Z",
     "start_time": "2024-10-04T10:38:45.121994Z"
    }
   },
   "cell_type": "code",
   "source": [
    "def evaluate_model(model, train_loader, test_loader, criterion, verbose=True):\n",
    "    model.eval()\n",
    "    total_loss = 0.0\n",
    "    losses_over_train = []\n",
    "    with torch.no_grad():\n",
    "        for inputs, targets in train_loader:\n",
    "            outputs = model(inputs)\n",
    "            loss = criterion(outputs.squeeze(), targets)\n",
    "            total_loss += loss.item()\n",
    "            losses_over_train.append(loss.item())\n",
    "    if verbose:\n",
    "        print(f'Train Loss: {total_loss / len(train_loader):.4f}')\n",
    "    \n",
    "    total_loss = 0.0\n",
    "    losses_over_test = []\n",
    "    with torch.no_grad():\n",
    "        for inputs, targets in test_loader:\n",
    "            outputs = model(inputs)\n",
    "            loss = criterion(outputs.squeeze(), targets)\n",
    "            total_loss += loss.item()\n",
    "            losses_over_test.append(loss.item())\n",
    "    if verbose:\n",
    "        print(f'Test Loss: {total_loss / len(test_loader):.4f}')\n",
    "    \n",
    "    return losses_over_train, losses_over_test\n",
    "\n",
    "def train_model(model, train_loader, criterion, optimizer, num_epochs=10):\n",
    "    model.train()\n",
    "    for epoch in range(num_epochs):\n",
    "        running_loss = 0.0\n",
    "        progress_bar = tqdm(enumerate(train_loader), total=len(train_loader), desc=f\"Epoch {epoch+1}/{num_epochs}\", position=0, leave=True)\n",
    "        for i, (inputs, targets) in progress_bar:\n",
    "            optimizer.zero_grad()\n",
    "            outputs = model(inputs)\n",
    "            loss = criterion(outputs.squeeze(), targets)\n",
    "            loss.backward()\n",
    "            optimizer.step()\n",
    "            running_loss += loss.item()\n",
    "        print(f'Epoch [{epoch+1}/{num_epochs}], Running Loss: {running_loss / len(train_loader):.4f}')\n",
    "        _, _ = evaluate_model(model, train_loader, test_loader, criterion)"
   ],
   "id": "6f2f6bdc96d486c3",
   "outputs": [],
   "execution_count": 8
  },
  {
   "metadata": {
    "ExecuteTime": {
     "end_time": "2024-10-04T10:38:47.534885Z",
     "start_time": "2024-10-04T10:38:47.055040Z"
    }
   },
   "cell_type": "code",
   "source": [
    "data_dir = 'data'\n",
    "input_size = len(np.loadtxt(os.path.join(data_dir, 'Phi_mat/Phi_mat_1.txt')))\n",
    "\n",
    "hparams = {\"batch_size\": 16,\n",
    "           \"learning_rate\": 0.01,\n",
    "           \"num_epochs\": 10}\n",
    "\n",
    "train_loader, test_loader = get_data_loaders(data_dir, batch_size=hparams[\"batch_size\"])\n",
    "\n",
    "model = PhiNet(input_size=input_size)\n",
    "criterion = nn.MSELoss()\n",
    "optimizer = optim.Adam(model.parameters(), lr=hparams[\"learning_rate\"])\n",
    "\n",
    "train_model(model, train_loader, criterion, optimizer, num_epochs=hparams[\"num_epochs\"])\n",
    "\n",
    "losses_over_train, losses_over_test = evaluate_model(model, train_loader, test_loader, criterion, verbose=False)"
   ],
   "id": "18249e05344b9c58",
   "outputs": [
    {
     "name": "stderr",
     "output_type": "stream",
     "text": [
      "Epoch 1/10: 100%|██████████| 5/5 [00:00<00:00, 226.25it/s]\n"
     ]
    },
    {
     "name": "stdout",
     "output_type": "stream",
     "text": [
      "Epoch [1/10], Running Loss: 0.0390\n",
      "Train Loss: 0.0258\n",
      "Test Loss: 0.0203\n"
     ]
    },
    {
     "name": "stderr",
     "output_type": "stream",
     "text": [
      "Epoch 2/10: 100%|██████████| 5/5 [00:00<00:00, 246.34it/s]\n"
     ]
    },
    {
     "name": "stdout",
     "output_type": "stream",
     "text": [
      "Epoch [2/10], Running Loss: 0.0259\n",
      "Train Loss: 0.0219\n",
      "Test Loss: 0.0108\n"
     ]
    },
    {
     "name": "stderr",
     "output_type": "stream",
     "text": [
      "Epoch 3/10: 100%|██████████| 5/5 [00:00<00:00, 248.92it/s]\n"
     ]
    },
    {
     "name": "stdout",
     "output_type": "stream",
     "text": [
      "Epoch [3/10], Running Loss: 0.0186\n",
      "Train Loss: 0.0137\n",
      "Test Loss: 0.0216\n"
     ]
    },
    {
     "name": "stderr",
     "output_type": "stream",
     "text": [
      "Epoch 4/10: 100%|██████████| 5/5 [00:00<00:00, 250.80it/s]\n"
     ]
    },
    {
     "name": "stdout",
     "output_type": "stream",
     "text": [
      "Epoch [4/10], Running Loss: 0.0127\n",
      "Train Loss: 0.0100\n",
      "Test Loss: 0.0326\n"
     ]
    },
    {
     "name": "stderr",
     "output_type": "stream",
     "text": [
      "Epoch 5/10: 100%|██████████| 5/5 [00:00<00:00, 245.38it/s]\n"
     ]
    },
    {
     "name": "stdout",
     "output_type": "stream",
     "text": [
      "Epoch [5/10], Running Loss: 0.0095\n",
      "Train Loss: 0.0076\n",
      "Test Loss: 0.0342\n"
     ]
    },
    {
     "name": "stderr",
     "output_type": "stream",
     "text": [
      "Epoch 6/10: 100%|██████████| 5/5 [00:00<00:00, 247.84it/s]\n"
     ]
    },
    {
     "name": "stdout",
     "output_type": "stream",
     "text": [
      "Epoch [6/10], Running Loss: 0.0068\n",
      "Train Loss: 0.0057\n",
      "Test Loss: 0.0329\n"
     ]
    },
    {
     "name": "stderr",
     "output_type": "stream",
     "text": [
      "Epoch 7/10: 100%|██████████| 5/5 [00:00<00:00, 214.60it/s]\n"
     ]
    },
    {
     "name": "stdout",
     "output_type": "stream",
     "text": [
      "Epoch [7/10], Running Loss: 0.0047\n",
      "Train Loss: 0.0041\n",
      "Test Loss: 0.0389\n"
     ]
    },
    {
     "name": "stderr",
     "output_type": "stream",
     "text": [
      "Epoch 8/10: 100%|██████████| 5/5 [00:00<00:00, 247.55it/s]\n"
     ]
    },
    {
     "name": "stdout",
     "output_type": "stream",
     "text": [
      "Epoch [8/10], Running Loss: 0.0039\n",
      "Train Loss: 0.0035\n",
      "Test Loss: 0.0360\n"
     ]
    },
    {
     "name": "stderr",
     "output_type": "stream",
     "text": [
      "Epoch 9/10: 100%|██████████| 5/5 [00:00<00:00, 215.23it/s]\n"
     ]
    },
    {
     "name": "stdout",
     "output_type": "stream",
     "text": [
      "Epoch [9/10], Running Loss: 0.0042\n",
      "Train Loss: 0.0032\n",
      "Test Loss: 0.0382\n"
     ]
    },
    {
     "name": "stderr",
     "output_type": "stream",
     "text": [
      "Epoch 10/10: 100%|██████████| 5/5 [00:00<00:00, 214.18it/s]\n"
     ]
    },
    {
     "name": "stdout",
     "output_type": "stream",
     "text": [
      "Epoch [10/10], Running Loss: 0.0036\n",
      "Train Loss: 0.0032\n",
      "Test Loss: 0.0407\n"
     ]
    }
   ],
   "execution_count": 9
  },
  {
   "metadata": {
    "ExecuteTime": {
     "end_time": "2024-10-04T10:38:55.349396Z",
     "start_time": "2024-10-04T10:38:55.178074Z"
    }
   },
   "cell_type": "code",
   "source": [
    "model.eval()\n",
    "\n",
    "with torch.no_grad():\n",
    "    total_train_loader = []\n",
    "    for inputs, targets in train_loader:\n",
    "        total_train_loader += targets.numpy().squeeze().tolist()\n",
    "    \n",
    "    total_train = []\n",
    "    for inputs, targets in train_loader:\n",
    "        total_train += model(inputs).numpy().squeeze().tolist()\n",
    "\n",
    "bin_edges = [0.25, 0.3, 0.35, 0.4 , 0.45 , 0.5, 0.55, 0.6, 0.65, 0.7, 0.75, 0.8, 0.85, 0.9, 0.95, 1.001, 1.05, 1.1, 1.15, 1.2, 1.25]\n",
    "\n",
    "fig, (ax1, ax2) = plt.subplots(1, 2, figsize=(12, 6))\n",
    "\n",
    "N, bins, patches = ax1.hist(total_train_loader, bins=bin_edges, edgecolor='black')\n",
    "for i in range(0, 4+1):\n",
    "    patches[i].set_facecolor('r')\n",
    "for i in range(5,15):    \n",
    "    patches[i].set_facecolor('b')\n",
    "for i in range(15, len(patches)):\n",
    "    patches[i].set_facecolor('r')\n",
    "ax1.set_title('Histogram for Training Data')\n",
    "ax1.set_xlabel('Values')\n",
    "ax1.set_ylabel('Frequency')\n",
    "\n",
    "N, bins, patches = ax2.hist(total_train, bins=bin_edges, edgecolor='black')\n",
    "for i in range(0, 4+1):\n",
    "    patches[i].set_facecolor('r')\n",
    "for i in range(5,15):    \n",
    "    patches[i].set_facecolor('b')\n",
    "for i in range(15, len(patches)):\n",
    "    patches[i].set_facecolor('r')\n",
    "ax2.set_title('Histogram for Training Inference')\n",
    "ax2.set_xlabel('Values')\n",
    "ax2.set_ylabel('Frequency')\n",
    "\n",
    "plt.tight_layout()\n",
    "plt.show()"
   ],
   "id": "648954cd900bf5ff",
   "outputs": [
    {
     "data": {
      "text/plain": [
       "<Figure size 1200x600 with 2 Axes>"
      ],
      "image/png": "[encoded data removed]"
     },
     "metadata": {},
     "output_type": "display_data"
    }
   ],
   "execution_count": 10
  },
  {
   "metadata": {
    "ExecuteTime": {
     "end_time": "2024-10-04T10:38:59.546349Z",
     "start_time": "2024-10-04T10:38:59.497658Z"
    }
   },
   "cell_type": "code",
   "source": "plt.hist(np.sqrt(losses_over_train), bins='auto')",
   "id": "48fcf01c49dfdb1b",
   "outputs": [
    {
     "data": {
      "text/plain": [
       "(array([1., 2., 0., 2.]),\n",
       " array([0.03123914, 0.04205573, 0.05287232, 0.06368891, 0.07450549]),\n",
       " <BarContainer object of 4 artists>)"
      ]
     },
     "execution_count": 11,
     "metadata": {},
     "output_type": "execute_result"
    },
    {
     "data": {
      "text/plain": [
       "<Figure size 640x480 with 1 Axes>"
      ],
      "image/png": "[encoded data removed]"
     },
     "metadata": {},
     "output_type": "display_data"
    }
   ],
   "execution_count": 11
  },
  {
   "metadata": {
    "ExecuteTime": {
     "end_time": "2024-10-04T10:39:00.814290Z",
     "start_time": "2024-10-04T10:39:00.610001Z"
    }
   },
   "cell_type": "code",
   "source": [
    "model.eval()\n",
    "\n",
    "with torch.no_grad():\n",
    "    total_test_loader = []\n",
    "    for inputs, targets in test_loader:\n",
    "        total_test_loader += targets.numpy().squeeze().tolist()\n",
    "    \n",
    "    total_test = []\n",
    "    for inputs, targets in test_loader:\n",
    "        total_test += model(inputs).numpy().squeeze().tolist()\n",
    "\n",
    "bin_edges = [0.25, 0.3, 0.35, 0.4 , 0.45 , 0.5, 0.55, 0.6, 0.65, 0.7, 0.75, 0.8, 0.85, 0.9, 0.95, 1.001, 1.05, 1.1, 1.15, 1.2, 1.25]\n",
    "\n",
    "fig, (ax1, ax2) = plt.subplots(1, 2, figsize=(12, 6))\n",
    "\n",
    "N, bins, patches = ax1.hist(total_test_loader, bins=bin_edges, edgecolor='black')\n",
    "for i in range(0, 4+1):\n",
    "    patches[i].set_facecolor('r')\n",
    "for i in range(5,15):    \n",
    "    patches[i].set_facecolor('b')\n",
    "for i in range(15, len(patches)):\n",
    "    patches[i].set_facecolor('r')\n",
    "ax1.set_title('Histogram for Test Data')\n",
    "ax1.set_xlabel('Values')\n",
    "ax1.set_ylabel('Frequency')\n",
    "\n",
    "N, bins, patches = ax2.hist(total_test, bins=bin_edges, edgecolor='black')\n",
    "for i in range(0, 4+1):\n",
    "    patches[i].set_facecolor('r')\n",
    "for i in range(5,15):    \n",
    "    patches[i].set_facecolor('b')\n",
    "for i in range(15, len(patches)):\n",
    "    patches[i].set_facecolor('r')\n",
    "ax2.set_title('Histogram for Test Inference')\n",
    "ax2.set_xlabel('Values')\n",
    "ax2.set_ylabel('Frequency')\n",
    "\n",
    "plt.tight_layout()\n",
    "plt.show()"
   ],
   "id": "5d112b7b011f8377",
   "outputs": [
    {
     "data": {
      "text/plain": [
       "<Figure size 1200x600 with 2 Axes>"
      ],
      "image/png": "[encoded data removed]"
     },
     "metadata": {},
     "output_type": "display_data"
    }
   ],
   "execution_count": 12
  },
  {
   "metadata": {
    "ExecuteTime": {
     "end_time": "2024-10-04T10:39:02.326853Z",
     "start_time": "2024-10-04T10:39:02.282648Z"
    }
   },
   "cell_type": "code",
   "source": "plt.hist(np.sqrt(losses_over_test), bins='auto')",
   "id": "8b494d1fbc2eab97",
   "outputs": [
    {
     "data": {
      "text/plain": [
       "(array([1., 1.]),\n",
       " array([0.17033999, 0.19971543, 0.22909087]),\n",
       " <BarContainer object of 2 artists>)"
      ]
     },
     "execution_count": 13,
     "metadata": {},
     "output_type": "execute_result"
    },
    {
     "data": {
      "text/plain": [
       "<Figure size 640x480 with 1 Axes>"
      ],
      "image/png": "[encoded data removed]"
     },
     "metadata": {},
     "output_type": "display_data"
    }
   ],
   "execution_count": 13
  },
  {
   "metadata": {},
   "cell_type": "code",
   "outputs": [],
   "execution_count": null,
   "source": "",
   "id": "80975c63e13e7efc"
  }
 ],
 "metadata": {
  "kernelspec": {
   "display_name": "Python 3",
   "language": "python",
   "name": "python3"
  },
  "language_info": {
   "codemirror_mode": {
    "name": "ipython",
    "version": 2
   },
   "file_extension": ".py",
   "mimetype": "text/x-python",
   "name": "python",
   "nbconvert_exporter": "python",
   "pygments_lexer": "ipython2",
   "version": "2.7.6"
  }
 },
 "nbformat": 4,
 "nbformat_minor": 5
}
