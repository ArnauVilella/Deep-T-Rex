{
 "cells": [
  {
   "metadata": {},
   "cell_type": "code",
   "outputs": [],
   "execution_count": null,
   "source": [
    "import os\n",
    "import torch\n",
    "from torch.utils.data import Dataset, DataLoader\n",
    "import numpy as np\n",
    "\n",
    "import torch.optim as optim\n",
    "from tqdm import tqdm\n",
    "import matplotlib.pyplot as plt\n",
    "import torch.nn as nn\n",
    "from sklearn.model_selection import train_test_split\n",
    "\n",
    "data_dir = 'C:/Users/avp/OneDrive - HKUST Connect/Desktop/DATA/data [N=10000, p1=3, p=150, L=150, alpha=0.1, SNR=1, K=100]'"
   ],
   "id": "9f43f0872058196f"
  },
  {
   "metadata": {},
   "cell_type": "code",
   "outputs": [],
   "execution_count": null,
   "source": "#!Rscript generate_data.R --N_data=10000",
   "id": "ca0fa0a122dc4896"
  },
  {
   "metadata": {},
   "cell_type": "code",
   "outputs": [],
   "execution_count": null,
   "source": [
    "class PhiThreshDataset(Dataset):\n",
    "    def __init__(self, data_dir):\n",
    "        self.phi_dir = os.path.join(data_dir, 'Phi_mat')\n",
    "        self.beta_dir = os.path.join(data_dir, 'beta')\n",
    "        self.v_thresh_dir = os.path.join(data_dir, 'v_thresh')\n",
    "        \n",
    "        self.phi_files = [f for f in os.listdir(self.phi_dir) if f.startswith('Phi_mat_') and f.endswith('.txt')]\n",
    "        self.beta_files = [f for f in os.listdir(self.beta_dir) if f.startswith('beta_') and f.endswith('.txt')]\n",
    "        self.v_thresh_files = [f for f in os.listdir(self.v_thresh_dir) if f.startswith('v_thresh_') and f.endswith('.txt')]\n",
    "\n",
    "    def __len__(self):\n",
    "        return len(self.phi_files)\n",
    "\n",
    "    def __getitem__(self, idx):\n",
    "        phi_file = os.path.join(self.phi_dir, self.phi_files[idx])\n",
    "        phi = np.loadtxt(phi_file)\n",
    "\n",
    "        beta_file = os.path.join(self.beta_dir, self.beta_files[idx])\n",
    "        beta = np.loadtxt(beta_file)\n",
    "        \n",
    "        v_thresh_file = os.path.join(self.v_thresh_dir, self.v_thresh_files[idx])\n",
    "        v_thresh = np.loadtxt(v_thresh_file)\n",
    "\n",
    "        return torch.tensor(phi, dtype=torch.float32), torch.tensor(beta, dtype=torch.float32), torch.tensor(v_thresh, dtype=torch.float32)"
   ],
   "id": "7a4d50c1260cf04e"
  },
  {
   "metadata": {},
   "cell_type": "code",
   "outputs": [],
   "execution_count": null,
   "source": [
    "def get_data_loaders(data_dir, batch_size=32, test_size=0.2):\n",
    "    dataset = PhiThreshDataset(data_dir)\n",
    "    train_indices, test_indices = train_test_split(list(range(len(dataset))), test_size=test_size, random_state=42)\n",
    "    \n",
    "    train_set = torch.utils.data.Subset(dataset, train_indices)\n",
    "    test_set = torch.utils.data.Subset(dataset, test_indices)\n",
    "    \n",
    "    train_loader = DataLoader(train_set, batch_size=batch_size, shuffle=True)\n",
    "    test_loader = DataLoader(test_set, batch_size=batch_size, shuffle=False)\n",
    "\n",
    "    return train_loader, test_loader, train_indices, test_indices"
   ],
   "id": "952a0bb80eff08de"
  }
 ],
 "metadata": {
  "kernelspec": {
   "display_name": "Python 3",
   "language": "python",
   "name": "python3"
  },
  "language_info": {
   "codemirror_mode": {
    "name": "ipython",
    "version": 2
   },
   "file_extension": ".py",
   "mimetype": "text/x-python",
   "name": "python",
   "nbconvert_exporter": "python",
   "pygments_lexer": "ipython2",
   "version": "2.7.6"
  }
 },
 "nbformat": 4,
 "nbformat_minor": 5
}
