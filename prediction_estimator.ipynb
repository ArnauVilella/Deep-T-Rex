{
 "cells": [
  {
   "cell_type": "code",
   "id": "initial_id",
   "metadata": {
    "collapsed": true,
    "ExecuteTime": {
     "end_time": "2024-11-20T08:15:28.553735Z",
     "start_time": "2024-11-20T08:15:28.550606Z"
    }
   },
   "source": [
    "import os\n",
    "import torch\n",
    "from numpy import dtype\n",
    "from torch.utils.data import Dataset, DataLoader\n",
    "import numpy as np\n",
    "\n",
    "import torch.optim as optim\n",
    "from tqdm import tqdm\n",
    "import matplotlib.pyplot as plt\n",
    "import torch.nn as nn\n",
    "from sklearn.model_selection import train_test_split\n",
    "\n",
    "device = torch.device('cuda') if torch.cuda.is_available() else torch.device('cpu')\n",
    "\n",
    "data_dir = '/home/avp/TRex/data'"
   ],
   "outputs": [],
   "execution_count": 45
  },
  {
   "metadata": {},
   "cell_type": "markdown",
   "source": "# A. Generate Data",
   "id": "9169e40fca904c30"
  },
  {
   "metadata": {
    "ExecuteTime": {
     "end_time": "2024-11-20T08:15:28.561035Z",
     "start_time": "2024-11-20T08:15:28.559228Z"
    }
   },
   "cell_type": "code",
   "source": "#!Rscript generate_data.R --N_data=10000",
   "id": "d60b18bcb3ffb3c9",
   "outputs": [],
   "execution_count": 46
  },
  {
   "metadata": {},
   "cell_type": "markdown",
   "source": "# B. Train Model",
   "id": "636c383aa1a9e695"
  },
  {
   "metadata": {
    "ExecuteTime": {
     "end_time": "2024-11-20T08:15:28.610362Z",
     "start_time": "2024-11-20T08:15:28.606102Z"
    }
   },
   "cell_type": "code",
   "source": [
    "class PhiThreshDataset(Dataset):\n",
    "    def __init__(self, data_dir):\n",
    "        self.phi_dir = os.path.join(data_dir, 'Phi_mat')\n",
    "        self.beta_dir = os.path.join(data_dir, 'beta')\n",
    "        self.v_dir = os.path.join(data_dir, 'v')\n",
    "        self.FDR_dir = os.path.join(data_dir, 'FDR')\n",
    "        \n",
    "        self.phi_files = [f for f in os.listdir(self.phi_dir) if f.startswith('Phi_mat_') and f.endswith('.txt')]\n",
    "        self.beta_files = [f for f in os.listdir(self.beta_dir) if f.startswith('beta_') and f.endswith('.txt')]\n",
    "        self.v_files = [f for f in os.listdir(self.v_dir) if f.startswith('v_') and f.endswith('.txt')]\n",
    "        self.FDR_files = [f for f in os.listdir(self.FDR_dir) if f.startswith('FDR_') and f.endswith('.txt')]\n",
    "\n",
    "    def __len__(self):\n",
    "        return len(self.phi_files)\n",
    "\n",
    "    def __getitem__(self, idx):\n",
    "        phi_file = os.path.join(self.phi_dir, self.phi_files[idx])\n",
    "        phi = np.loadtxt(phi_file)\n",
    "\n",
    "        beta_file = os.path.join(self.beta_dir, self.beta_files[idx])\n",
    "        beta = np.loadtxt(beta_file)\n",
    "        \n",
    "        v_file = os.path.join(self.v_dir, self.v_files[idx])\n",
    "        v = np.loadtxt(v_file)\n",
    "        \n",
    "        FDR_file = os.path.join(self.FDR_dir, self.FDR_files[idx])\n",
    "        FDR = np.loadtxt(FDR_file)\n",
    "\n",
    "        return torch.tensor(phi, dtype=torch.float32), torch.tensor(beta, dtype=torch.float32), torch.tensor(v, dtype=torch.float32), torch.tensor(FDR, dtype=torch.float32)"
   ],
   "id": "728c7b8518c4eeb2",
   "outputs": [],
   "execution_count": 47
  },
  {
   "metadata": {
    "ExecuteTime": {
     "end_time": "2024-11-20T08:15:28.656264Z",
     "start_time": "2024-11-20T08:15:28.653749Z"
    }
   },
   "cell_type": "code",
   "source": [
    "def get_data_loaders(data_dir, batch_size=32, test_size=0.2):\n",
    "    dataset = PhiThreshDataset(data_dir)\n",
    "    train_indices, test_indices = train_test_split(list(range(len(dataset))), test_size=test_size, random_state=42)\n",
    "    \n",
    "    train_set = torch.utils.data.Subset(dataset, train_indices)\n",
    "    test_set = torch.utils.data.Subset(dataset, test_indices)\n",
    "    \n",
    "    train_loader = DataLoader(train_set, batch_size=batch_size, shuffle=True)\n",
    "    test_loader = DataLoader(test_set, batch_size=batch_size, shuffle=False)\n",
    "\n",
    "    return train_loader, test_loader, train_indices, test_indices"
   ],
   "id": "e5318115b0d6ef51",
   "outputs": [],
   "execution_count": 48
  },
  {
   "metadata": {
    "ExecuteTime": {
     "end_time": "2024-11-20T08:15:28.704509Z",
     "start_time": "2024-11-20T08:15:28.701816Z"
    }
   },
   "cell_type": "code",
   "source": [
    "class PhiNet(nn.Module):\n",
    "    def __init__(self, input_size):\n",
    "        super(PhiNet, self).__init__()\n",
    "        self.fc1 = nn.Linear(input_size, 64)\n",
    "        self.fc2 = nn.Linear(64, 32)\n",
    "        self.fc3 = nn.Linear(32, 8)\n",
    "        self.fc4 = nn.Linear(8, 1)\n",
    "        \n",
    "    def forward(self, Phi, v):\n",
    "        v = v.unsqueeze(1)\n",
    "        x = torch.cat((Phi, v), dim=1)\n",
    "        x = torch.relu(self.fc1(x))\n",
    "        x = torch.relu(self.fc2(x))\n",
    "        x = torch.relu(self.fc3(x))\n",
    "        x = torch.sigmoid(self.fc4(x))\n",
    "        return x"
   ],
   "id": "75b9704072731224",
   "outputs": [],
   "execution_count": 49
  },
  {
   "metadata": {
    "ExecuteTime": {
     "end_time": "2024-11-20T08:15:28.756029Z",
     "start_time": "2024-11-20T08:15:28.753769Z"
    }
   },
   "cell_type": "code",
   "source": [
    "def sigma_v(x, v, exponent=10):\n",
    "    v = v.view(-1, 1)\n",
    "    return 1 / (1 + torch.exp(-exponent * (x - v)))\n",
    "\n",
    "def FDR_surr(v, Phi, beta):\n",
    "    return torch.sum(sigma_v((1 - beta) * Phi, v), dim=1) / torch.sum(sigma_v(Phi, v), dim=1)"
   ],
   "id": "17320adbde173154",
   "outputs": [],
   "execution_count": 50
  },
  {
   "metadata": {
    "ExecuteTime": {
     "end_time": "2024-11-20T08:15:28.811170Z",
     "start_time": "2024-11-20T08:15:28.805965Z"
    }
   },
   "cell_type": "code",
   "source": [
    "def evaluate_model(model, train_loader, test_loader, criterion, verbose=True, device=device):\n",
    "    model.eval()\n",
    "    losses_over_train = []\n",
    "    with torch.no_grad():\n",
    "        for Phis, betas, vs, FDRs in train_loader:\n",
    "            Phis, betas, vs, FDRs = Phis.to(device), betas.to(device), vs.to(device), FDRs.to(device)\n",
    "            outputs = model(Phis, vs)\n",
    "            loss = criterion(outputs, FDRs.unsqueeze(1))\n",
    "            losses_over_train.append(loss.item())\n",
    "    if verbose:\n",
    "        print(f'Train Loss: {sum(losses_over_train) / len(train_loader):.4f}')\n",
    "    \n",
    "    losses_over_test = []\n",
    "    with torch.no_grad():\n",
    "        for Phis, betas, vs, FDRs in test_loader:\n",
    "            Phis, betas, vs, FDRs = Phis.to(device), betas.to(device), vs.to(device), FDRs.to(device)\n",
    "            outputs = model(Phis, vs)\n",
    "            loss = criterion(outputs, FDRs.unsqueeze(1))\n",
    "            losses_over_test.append(loss.item())\n",
    "    if verbose:\n",
    "        print(f'Test Loss: {sum(losses_over_test) / len(test_loader):.4f}')\n",
    "    \n",
    "    return losses_over_train, losses_over_test\n",
    "\n",
    "def train_model(model, train_loader, criterion, optimizer, num_epochs=10, device=device):\n",
    "    model.train()\n",
    "    train_losses = []\n",
    "    test_losses = []\n",
    "    for epoch in range(num_epochs):\n",
    "        running_loss = 0.0\n",
    "        progress_bar = tqdm(enumerate(train_loader), total=len(train_loader), desc=f\"Epoch {epoch+1}/{num_epochs}\", position=0)\n",
    "        for _, (Phis, betas, vs, FDRs) in progress_bar:\n",
    "            Phis, betas, vs, FDRs = Phis.to(device), betas.to(device), vs.to(device), FDRs.to(device)\n",
    "            optimizer.zero_grad()\n",
    "            outputs = model(Phis, vs)\n",
    "            loss = criterion(outputs, FDRs.unsqueeze(1))\n",
    "            loss.backward()\n",
    "            optimizer.step()\n",
    "            running_loss += loss.item()\n",
    "        print(f'Epoch [{epoch+1}/{num_epochs}], Running Loss: {running_loss / len(train_loader):.4f}')\n",
    "        losses_over_train, losses_over_test = evaluate_model(model, train_loader, test_loader, criterion)\n",
    "        train_losses.append(sum(losses_over_train) / len(train_loader))\n",
    "        test_losses.append(sum(losses_over_test) / len(test_loader))\n",
    "    return train_losses, test_losses"
   ],
   "id": "6f2f6bdc96d486c3",
   "outputs": [],
   "execution_count": 51
  },
  {
   "metadata": {
    "ExecuteTime": {
     "end_time": "2024-11-20T08:25:34.252783Z",
     "start_time": "2024-11-20T08:15:28.857593Z"
    }
   },
   "cell_type": "code",
   "source": [
    "input_size = len(np.loadtxt(os.path.join(data_dir, 'Phi_mat/Phi_mat_1.txt'))) + 1\n",
    "\n",
    "hparams = {\"batch_size\": 16,\n",
    "           \"learning_rate\": 0.001,\n",
    "           \"num_epochs\": 100}\n",
    "\n",
    "train_loader, test_loader, train_indices, test_indices = get_data_loaders(data_dir, batch_size=hparams[\"batch_size\"])\n",
    "\n",
    "model = PhiNet(input_size=input_size).to(device)\n",
    "criterion = nn.MSELoss()\n",
    "optimizer = optim.Adam(model.parameters(), lr=hparams[\"learning_rate\"])\n",
    "\n",
    "train_losses, test_losses = train_model(model, train_loader, criterion, optimizer, num_epochs=hparams[\"num_epochs\"], device=device)"
   ],
   "id": "18249e05344b9c58",
   "outputs": [
    {
     "name": "stderr",
     "output_type": "stream",
     "text": [
      "Epoch 1/100: 100%|██████████| 500/500 [00:02<00:00, 167.47it/s]\n"
     ]
    },
    {
     "name": "stdout",
     "output_type": "stream",
     "text": [
      "Epoch [1/100], Running Loss: 0.0445\n",
      "Train Loss: 0.0223\n",
      "Test Loss: 0.0225\n"
     ]
    },
    {
     "name": "stderr",
     "output_type": "stream",
     "text": [
      "Epoch 2/100: 100%|██████████| 500/500 [00:02<00:00, 170.44it/s]\n"
     ]
    },
    {
     "name": "stdout",
     "output_type": "stream",
     "text": [
      "Epoch [2/100], Running Loss: 0.0207\n",
      "Train Loss: 0.0174\n",
      "Test Loss: 0.0186\n"
     ]
    },
    {
     "name": "stderr",
     "output_type": "stream",
     "text": [
      "Epoch 3/100: 100%|██████████| 500/500 [00:02<00:00, 167.67it/s]\n"
     ]
    },
    {
     "name": "stdout",
     "output_type": "stream",
     "text": [
      "Epoch [3/100], Running Loss: 0.0159\n",
      "Train Loss: 0.0141\n",
      "Test Loss: 0.0160\n"
     ]
    },
    {
     "name": "stderr",
     "output_type": "stream",
     "text": [
      "Epoch 4/100: 100%|██████████| 500/500 [00:02<00:00, 172.20it/s]\n"
     ]
    },
    {
     "name": "stdout",
     "output_type": "stream",
     "text": [
      "Epoch [4/100], Running Loss: 0.0146\n",
      "Train Loss: 0.0135\n",
      "Test Loss: 0.0158\n"
     ]
    },
    {
     "name": "stderr",
     "output_type": "stream",
     "text": [
      "Epoch 5/100: 100%|██████████| 500/500 [00:02<00:00, 172.15it/s]\n"
     ]
    },
    {
     "name": "stdout",
     "output_type": "stream",
     "text": [
      "Epoch [5/100], Running Loss: 0.0139\n",
      "Train Loss: 0.0131\n",
      "Test Loss: 0.0165\n"
     ]
    },
    {
     "name": "stderr",
     "output_type": "stream",
     "text": [
      "Epoch 6/100: 100%|██████████| 500/500 [00:02<00:00, 171.54it/s]\n"
     ]
    },
    {
     "name": "stdout",
     "output_type": "stream",
     "text": [
      "Epoch [6/100], Running Loss: 0.0134\n",
      "Train Loss: 0.0121\n",
      "Test Loss: 0.0159\n"
     ]
    },
    {
     "name": "stderr",
     "output_type": "stream",
     "text": [
      "Epoch 7/100: 100%|██████████| 500/500 [00:02<00:00, 171.26it/s]\n"
     ]
    },
    {
     "name": "stdout",
     "output_type": "stream",
     "text": [
      "Epoch [7/100], Running Loss: 0.0126\n",
      "Train Loss: 0.0114\n",
      "Test Loss: 0.0159\n"
     ]
    },
    {
     "name": "stderr",
     "output_type": "stream",
     "text": [
      "Epoch 8/100: 100%|██████████| 500/500 [00:02<00:00, 171.35it/s]\n"
     ]
    },
    {
     "name": "stdout",
     "output_type": "stream",
     "text": [
      "Epoch [8/100], Running Loss: 0.0119\n",
      "Train Loss: 0.0107\n",
      "Test Loss: 0.0161\n"
     ]
    },
    {
     "name": "stderr",
     "output_type": "stream",
     "text": [
      "Epoch 9/100: 100%|██████████| 500/500 [00:02<00:00, 170.68it/s]\n"
     ]
    },
    {
     "name": "stdout",
     "output_type": "stream",
     "text": [
      "Epoch [9/100], Running Loss: 0.0112\n",
      "Train Loss: 0.0101\n",
      "Test Loss: 0.0165\n"
     ]
    },
    {
     "name": "stderr",
     "output_type": "stream",
     "text": [
      "Epoch 10/100: 100%|██████████| 500/500 [00:02<00:00, 170.69it/s]\n"
     ]
    },
    {
     "name": "stdout",
     "output_type": "stream",
     "text": [
      "Epoch [10/100], Running Loss: 0.0106\n",
      "Train Loss: 0.0095\n",
      "Test Loss: 0.0173\n"
     ]
    },
    {
     "name": "stderr",
     "output_type": "stream",
     "text": [
      "Epoch 11/100: 100%|██████████| 500/500 [00:02<00:00, 171.80it/s]\n"
     ]
    },
    {
     "name": "stdout",
     "output_type": "stream",
     "text": [
      "Epoch [11/100], Running Loss: 0.0100\n",
      "Train Loss: 0.0090\n",
      "Test Loss: 0.0169\n"
     ]
    },
    {
     "name": "stderr",
     "output_type": "stream",
     "text": [
      "Epoch 12/100: 100%|██████████| 500/500 [00:03<00:00, 164.09it/s]\n"
     ]
    },
    {
     "name": "stdout",
     "output_type": "stream",
     "text": [
      "Epoch [12/100], Running Loss: 0.0093\n",
      "Train Loss: 0.0084\n",
      "Test Loss: 0.0194\n"
     ]
    },
    {
     "name": "stderr",
     "output_type": "stream",
     "text": [
      "Epoch 13/100: 100%|██████████| 500/500 [00:02<00:00, 169.67it/s]\n"
     ]
    },
    {
     "name": "stdout",
     "output_type": "stream",
     "text": [
      "Epoch [13/100], Running Loss: 0.0086\n",
      "Train Loss: 0.0073\n",
      "Test Loss: 0.0186\n"
     ]
    },
    {
     "name": "stderr",
     "output_type": "stream",
     "text": [
      "Epoch 14/100: 100%|██████████| 500/500 [00:02<00:00, 169.90it/s]\n"
     ]
    },
    {
     "name": "stdout",
     "output_type": "stream",
     "text": [
      "Epoch [14/100], Running Loss: 0.0079\n",
      "Train Loss: 0.0066\n",
      "Test Loss: 0.0193\n"
     ]
    },
    {
     "name": "stderr",
     "output_type": "stream",
     "text": [
      "Epoch 15/100: 100%|██████████| 500/500 [00:02<00:00, 169.79it/s]\n"
     ]
    },
    {
     "name": "stdout",
     "output_type": "stream",
     "text": [
      "Epoch [15/100], Running Loss: 0.0071\n",
      "Train Loss: 0.0062\n",
      "Test Loss: 0.0201\n"
     ]
    },
    {
     "name": "stderr",
     "output_type": "stream",
     "text": [
      "Epoch 16/100: 100%|██████████| 500/500 [00:02<00:00, 167.47it/s]\n"
     ]
    },
    {
     "name": "stdout",
     "output_type": "stream",
     "text": [
      "Epoch [16/100], Running Loss: 0.0066\n",
      "Train Loss: 0.0056\n",
      "Test Loss: 0.0211\n"
     ]
    },
    {
     "name": "stderr",
     "output_type": "stream",
     "text": [
      "Epoch 17/100: 100%|██████████| 500/500 [00:02<00:00, 168.61it/s]\n"
     ]
    },
    {
     "name": "stdout",
     "output_type": "stream",
     "text": [
      "Epoch [17/100], Running Loss: 0.0059\n",
      "Train Loss: 0.0052\n",
      "Test Loss: 0.0207\n"
     ]
    },
    {
     "name": "stderr",
     "output_type": "stream",
     "text": [
      "Epoch 18/100: 100%|██████████| 500/500 [00:02<00:00, 170.50it/s]\n"
     ]
    },
    {
     "name": "stdout",
     "output_type": "stream",
     "text": [
      "Epoch [18/100], Running Loss: 0.0054\n",
      "Train Loss: 0.0048\n",
      "Test Loss: 0.0218\n"
     ]
    },
    {
     "name": "stderr",
     "output_type": "stream",
     "text": [
      "Epoch 19/100: 100%|██████████| 500/500 [00:02<00:00, 168.31it/s]\n"
     ]
    },
    {
     "name": "stdout",
     "output_type": "stream",
     "text": [
      "Epoch [19/100], Running Loss: 0.0051\n",
      "Train Loss: 0.0043\n",
      "Test Loss: 0.0213\n"
     ]
    },
    {
     "name": "stderr",
     "output_type": "stream",
     "text": [
      "Epoch 20/100: 100%|██████████| 500/500 [00:03<00:00, 166.35it/s]\n"
     ]
    },
    {
     "name": "stdout",
     "output_type": "stream",
     "text": [
      "Epoch [20/100], Running Loss: 0.0047\n",
      "Train Loss: 0.0041\n",
      "Test Loss: 0.0211\n"
     ]
    },
    {
     "name": "stderr",
     "output_type": "stream",
     "text": [
      "Epoch 21/100: 100%|██████████| 500/500 [00:02<00:00, 167.96it/s]\n"
     ]
    },
    {
     "name": "stdout",
     "output_type": "stream",
     "text": [
      "Epoch [21/100], Running Loss: 0.0044\n",
      "Train Loss: 0.0038\n",
      "Test Loss: 0.0213\n"
     ]
    },
    {
     "name": "stderr",
     "output_type": "stream",
     "text": [
      "Epoch 22/100: 100%|██████████| 500/500 [00:02<00:00, 171.05it/s]\n"
     ]
    },
    {
     "name": "stdout",
     "output_type": "stream",
     "text": [
      "Epoch [22/100], Running Loss: 0.0041\n",
      "Train Loss: 0.0035\n",
      "Test Loss: 0.0220\n"
     ]
    },
    {
     "name": "stderr",
     "output_type": "stream",
     "text": [
      "Epoch 23/100: 100%|██████████| 500/500 [00:02<00:00, 171.41it/s]\n"
     ]
    },
    {
     "name": "stdout",
     "output_type": "stream",
     "text": [
      "Epoch [23/100], Running Loss: 0.0038\n",
      "Train Loss: 0.0036\n",
      "Test Loss: 0.0229\n"
     ]
    },
    {
     "name": "stderr",
     "output_type": "stream",
     "text": [
      "Epoch 24/100: 100%|██████████| 500/500 [00:03<00:00, 165.96it/s]\n"
     ]
    },
    {
     "name": "stdout",
     "output_type": "stream",
     "text": [
      "Epoch [24/100], Running Loss: 0.0037\n",
      "Train Loss: 0.0034\n",
      "Test Loss: 0.0225\n"
     ]
    },
    {
     "name": "stderr",
     "output_type": "stream",
     "text": [
      "Epoch 25/100: 100%|██████████| 500/500 [00:02<00:00, 168.96it/s]\n"
     ]
    },
    {
     "name": "stdout",
     "output_type": "stream",
     "text": [
      "Epoch [25/100], Running Loss: 0.0036\n",
      "Train Loss: 0.0034\n",
      "Test Loss: 0.0228\n"
     ]
    },
    {
     "name": "stderr",
     "output_type": "stream",
     "text": [
      "Epoch 26/100: 100%|██████████| 500/500 [00:02<00:00, 171.59it/s]\n"
     ]
    },
    {
     "name": "stdout",
     "output_type": "stream",
     "text": [
      "Epoch [26/100], Running Loss: 0.0034\n",
      "Train Loss: 0.0030\n",
      "Test Loss: 0.0224\n"
     ]
    },
    {
     "name": "stderr",
     "output_type": "stream",
     "text": [
      "Epoch 27/100: 100%|██████████| 500/500 [00:02<00:00, 170.08it/s]\n"
     ]
    },
    {
     "name": "stdout",
     "output_type": "stream",
     "text": [
      "Epoch [27/100], Running Loss: 0.0031\n",
      "Train Loss: 0.0029\n",
      "Test Loss: 0.0235\n"
     ]
    },
    {
     "name": "stderr",
     "output_type": "stream",
     "text": [
      "Epoch 28/100: 100%|██████████| 500/500 [00:02<00:00, 168.21it/s]\n"
     ]
    },
    {
     "name": "stdout",
     "output_type": "stream",
     "text": [
      "Epoch [28/100], Running Loss: 0.0031\n",
      "Train Loss: 0.0028\n",
      "Test Loss: 0.0229\n"
     ]
    },
    {
     "name": "stderr",
     "output_type": "stream",
     "text": [
      "Epoch 29/100: 100%|██████████| 500/500 [00:02<00:00, 168.70it/s]\n"
     ]
    },
    {
     "name": "stdout",
     "output_type": "stream",
     "text": [
      "Epoch [29/100], Running Loss: 0.0031\n",
      "Train Loss: 0.0028\n",
      "Test Loss: 0.0234\n"
     ]
    },
    {
     "name": "stderr",
     "output_type": "stream",
     "text": [
      "Epoch 30/100: 100%|██████████| 500/500 [00:02<00:00, 170.12it/s]\n"
     ]
    },
    {
     "name": "stdout",
     "output_type": "stream",
     "text": [
      "Epoch [30/100], Running Loss: 0.0029\n",
      "Train Loss: 0.0028\n",
      "Test Loss: 0.0219\n"
     ]
    },
    {
     "name": "stderr",
     "output_type": "stream",
     "text": [
      "Epoch 31/100: 100%|██████████| 500/500 [00:02<00:00, 168.81it/s]\n"
     ]
    },
    {
     "name": "stdout",
     "output_type": "stream",
     "text": [
      "Epoch [31/100], Running Loss: 0.0027\n",
      "Train Loss: 0.0027\n",
      "Test Loss: 0.0247\n"
     ]
    },
    {
     "name": "stderr",
     "output_type": "stream",
     "text": [
      "Epoch 32/100: 100%|██████████| 500/500 [00:03<00:00, 164.98it/s]\n"
     ]
    },
    {
     "name": "stdout",
     "output_type": "stream",
     "text": [
      "Epoch [32/100], Running Loss: 0.0027\n",
      "Train Loss: 0.0026\n",
      "Test Loss: 0.0233\n"
     ]
    },
    {
     "name": "stderr",
     "output_type": "stream",
     "text": [
      "Epoch 33/100: 100%|██████████| 500/500 [00:02<00:00, 169.43it/s]\n"
     ]
    },
    {
     "name": "stdout",
     "output_type": "stream",
     "text": [
      "Epoch [33/100], Running Loss: 0.0028\n",
      "Train Loss: 0.0028\n",
      "Test Loss: 0.0248\n"
     ]
    },
    {
     "name": "stderr",
     "output_type": "stream",
     "text": [
      "Epoch 34/100: 100%|██████████| 500/500 [00:02<00:00, 170.46it/s]\n"
     ]
    },
    {
     "name": "stdout",
     "output_type": "stream",
     "text": [
      "Epoch [34/100], Running Loss: 0.0027\n",
      "Train Loss: 0.0025\n",
      "Test Loss: 0.0234\n"
     ]
    },
    {
     "name": "stderr",
     "output_type": "stream",
     "text": [
      "Epoch 35/100: 100%|██████████| 500/500 [00:02<00:00, 170.29it/s]\n"
     ]
    },
    {
     "name": "stdout",
     "output_type": "stream",
     "text": [
      "Epoch [35/100], Running Loss: 0.0026\n",
      "Train Loss: 0.0025\n",
      "Test Loss: 0.0236\n"
     ]
    },
    {
     "name": "stderr",
     "output_type": "stream",
     "text": [
      "Epoch 36/100: 100%|██████████| 500/500 [00:02<00:00, 168.57it/s]\n"
     ]
    },
    {
     "name": "stdout",
     "output_type": "stream",
     "text": [
      "Epoch [36/100], Running Loss: 0.0029\n",
      "Train Loss: 0.0025\n",
      "Test Loss: 0.0241\n"
     ]
    },
    {
     "name": "stderr",
     "output_type": "stream",
     "text": [
      "Epoch 37/100: 100%|██████████| 500/500 [00:02<00:00, 170.45it/s]\n"
     ]
    },
    {
     "name": "stdout",
     "output_type": "stream",
     "text": [
      "Epoch [37/100], Running Loss: 0.0025\n",
      "Train Loss: 0.0022\n",
      "Test Loss: 0.0244\n"
     ]
    },
    {
     "name": "stderr",
     "output_type": "stream",
     "text": [
      "Epoch 38/100: 100%|██████████| 500/500 [00:02<00:00, 171.34it/s]\n"
     ]
    },
    {
     "name": "stdout",
     "output_type": "stream",
     "text": [
      "Epoch [38/100], Running Loss: 0.0023\n",
      "Train Loss: 0.0022\n",
      "Test Loss: 0.0233\n"
     ]
    },
    {
     "name": "stderr",
     "output_type": "stream",
     "text": [
      "Epoch 39/100: 100%|██████████| 500/500 [00:02<00:00, 169.28it/s]\n"
     ]
    },
    {
     "name": "stdout",
     "output_type": "stream",
     "text": [
      "Epoch [39/100], Running Loss: 0.0023\n",
      "Train Loss: 0.0022\n",
      "Test Loss: 0.0236\n"
     ]
    },
    {
     "name": "stderr",
     "output_type": "stream",
     "text": [
      "Epoch 40/100: 100%|██████████| 500/500 [00:02<00:00, 170.69it/s]\n"
     ]
    },
    {
     "name": "stdout",
     "output_type": "stream",
     "text": [
      "Epoch [40/100], Running Loss: 0.0023\n",
      "Train Loss: 0.0022\n",
      "Test Loss: 0.0245\n"
     ]
    },
    {
     "name": "stderr",
     "output_type": "stream",
     "text": [
      "Epoch 41/100: 100%|██████████| 500/500 [00:02<00:00, 169.71it/s]\n"
     ]
    },
    {
     "name": "stdout",
     "output_type": "stream",
     "text": [
      "Epoch [41/100], Running Loss: 0.0025\n",
      "Train Loss: 0.0026\n",
      "Test Loss: 0.0244\n"
     ]
    },
    {
     "name": "stderr",
     "output_type": "stream",
     "text": [
      "Epoch 42/100: 100%|██████████| 500/500 [00:02<00:00, 171.26it/s]\n"
     ]
    },
    {
     "name": "stdout",
     "output_type": "stream",
     "text": [
      "Epoch [42/100], Running Loss: 0.0025\n",
      "Train Loss: 0.0025\n",
      "Test Loss: 0.0242\n"
     ]
    },
    {
     "name": "stderr",
     "output_type": "stream",
     "text": [
      "Epoch 43/100: 100%|██████████| 500/500 [00:02<00:00, 170.35it/s]\n"
     ]
    },
    {
     "name": "stdout",
     "output_type": "stream",
     "text": [
      "Epoch [43/100], Running Loss: 0.0025\n",
      "Train Loss: 0.0022\n",
      "Test Loss: 0.0236\n"
     ]
    },
    {
     "name": "stderr",
     "output_type": "stream",
     "text": [
      "Epoch 44/100: 100%|██████████| 500/500 [00:02<00:00, 168.83it/s]\n"
     ]
    },
    {
     "name": "stdout",
     "output_type": "stream",
     "text": [
      "Epoch [44/100], Running Loss: 0.0024\n",
      "Train Loss: 0.0022\n",
      "Test Loss: 0.0239\n"
     ]
    },
    {
     "name": "stderr",
     "output_type": "stream",
     "text": [
      "Epoch 45/100: 100%|██████████| 500/500 [00:02<00:00, 171.06it/s]\n"
     ]
    },
    {
     "name": "stdout",
     "output_type": "stream",
     "text": [
      "Epoch [45/100], Running Loss: 0.0023\n",
      "Train Loss: 0.0022\n",
      "Test Loss: 0.0238\n"
     ]
    },
    {
     "name": "stderr",
     "output_type": "stream",
     "text": [
      "Epoch 46/100: 100%|██████████| 500/500 [00:02<00:00, 171.29it/s]\n"
     ]
    },
    {
     "name": "stdout",
     "output_type": "stream",
     "text": [
      "Epoch [46/100], Running Loss: 0.0024\n",
      "Train Loss: 0.0022\n",
      "Test Loss: 0.0239\n"
     ]
    },
    {
     "name": "stderr",
     "output_type": "stream",
     "text": [
      "Epoch 47/100: 100%|██████████| 500/500 [00:02<00:00, 169.37it/s]\n"
     ]
    },
    {
     "name": "stdout",
     "output_type": "stream",
     "text": [
      "Epoch [47/100], Running Loss: 0.0022\n",
      "Train Loss: 0.0022\n",
      "Test Loss: 0.0241\n"
     ]
    },
    {
     "name": "stderr",
     "output_type": "stream",
     "text": [
      "Epoch 48/100: 100%|██████████| 500/500 [00:02<00:00, 169.38it/s]\n"
     ]
    },
    {
     "name": "stdout",
     "output_type": "stream",
     "text": [
      "Epoch [48/100], Running Loss: 0.0022\n",
      "Train Loss: 0.0023\n",
      "Test Loss: 0.0233\n"
     ]
    },
    {
     "name": "stderr",
     "output_type": "stream",
     "text": [
      "Epoch 49/100: 100%|██████████| 500/500 [00:02<00:00, 170.11it/s]\n"
     ]
    },
    {
     "name": "stdout",
     "output_type": "stream",
     "text": [
      "Epoch [49/100], Running Loss: 0.0024\n",
      "Train Loss: 0.0021\n",
      "Test Loss: 0.0235\n"
     ]
    },
    {
     "name": "stderr",
     "output_type": "stream",
     "text": [
      "Epoch 50/100: 100%|██████████| 500/500 [00:02<00:00, 170.13it/s]\n"
     ]
    },
    {
     "name": "stdout",
     "output_type": "stream",
     "text": [
      "Epoch [50/100], Running Loss: 0.0022\n",
      "Train Loss: 0.0022\n",
      "Test Loss: 0.0245\n"
     ]
    },
    {
     "name": "stderr",
     "output_type": "stream",
     "text": [
      "Epoch 51/100: 100%|██████████| 500/500 [00:02<00:00, 170.15it/s]\n"
     ]
    },
    {
     "name": "stdout",
     "output_type": "stream",
     "text": [
      "Epoch [51/100], Running Loss: 0.0023\n",
      "Train Loss: 0.0023\n",
      "Test Loss: 0.0247\n"
     ]
    },
    {
     "name": "stderr",
     "output_type": "stream",
     "text": [
      "Epoch 52/100: 100%|██████████| 500/500 [00:02<00:00, 169.91it/s]\n"
     ]
    },
    {
     "name": "stdout",
     "output_type": "stream",
     "text": [
      "Epoch [52/100], Running Loss: 0.0024\n",
      "Train Loss: 0.0023\n",
      "Test Loss: 0.0238\n"
     ]
    },
    {
     "name": "stderr",
     "output_type": "stream",
     "text": [
      "Epoch 53/100: 100%|██████████| 500/500 [00:02<00:00, 170.77it/s]\n"
     ]
    },
    {
     "name": "stdout",
     "output_type": "stream",
     "text": [
      "Epoch [53/100], Running Loss: 0.0023\n",
      "Train Loss: 0.0022\n",
      "Test Loss: 0.0249\n"
     ]
    },
    {
     "name": "stderr",
     "output_type": "stream",
     "text": [
      "Epoch 54/100: 100%|██████████| 500/500 [00:02<00:00, 171.67it/s]\n"
     ]
    },
    {
     "name": "stdout",
     "output_type": "stream",
     "text": [
      "Epoch [54/100], Running Loss: 0.0023\n",
      "Train Loss: 0.0021\n",
      "Test Loss: 0.0240\n"
     ]
    },
    {
     "name": "stderr",
     "output_type": "stream",
     "text": [
      "Epoch 55/100: 100%|██████████| 500/500 [00:02<00:00, 169.83it/s]\n"
     ]
    },
    {
     "name": "stdout",
     "output_type": "stream",
     "text": [
      "Epoch [55/100], Running Loss: 0.0023\n",
      "Train Loss: 0.0024\n",
      "Test Loss: 0.0251\n"
     ]
    },
    {
     "name": "stderr",
     "output_type": "stream",
     "text": [
      "Epoch 56/100: 100%|██████████| 500/500 [00:02<00:00, 169.86it/s]\n"
     ]
    },
    {
     "name": "stdout",
     "output_type": "stream",
     "text": [
      "Epoch [56/100], Running Loss: 0.0021\n",
      "Train Loss: 0.0022\n",
      "Test Loss: 0.0247\n"
     ]
    },
    {
     "name": "stderr",
     "output_type": "stream",
     "text": [
      "Epoch 57/100: 100%|██████████| 500/500 [00:02<00:00, 171.28it/s]\n"
     ]
    },
    {
     "name": "stdout",
     "output_type": "stream",
     "text": [
      "Epoch [57/100], Running Loss: 0.0021\n",
      "Train Loss: 0.0021\n",
      "Test Loss: 0.0249\n"
     ]
    },
    {
     "name": "stderr",
     "output_type": "stream",
     "text": [
      "Epoch 58/100: 100%|██████████| 500/500 [00:02<00:00, 171.84it/s]\n"
     ]
    },
    {
     "name": "stdout",
     "output_type": "stream",
     "text": [
      "Epoch [58/100], Running Loss: 0.0020\n",
      "Train Loss: 0.0020\n",
      "Test Loss: 0.0250\n"
     ]
    },
    {
     "name": "stderr",
     "output_type": "stream",
     "text": [
      "Epoch 59/100: 100%|██████████| 500/500 [00:02<00:00, 172.27it/s]\n"
     ]
    },
    {
     "name": "stdout",
     "output_type": "stream",
     "text": [
      "Epoch [59/100], Running Loss: 0.0023\n",
      "Train Loss: 0.0022\n",
      "Test Loss: 0.0246\n"
     ]
    },
    {
     "name": "stderr",
     "output_type": "stream",
     "text": [
      "Epoch 60/100: 100%|██████████| 500/500 [00:02<00:00, 171.88it/s]\n"
     ]
    },
    {
     "name": "stdout",
     "output_type": "stream",
     "text": [
      "Epoch [60/100], Running Loss: 0.0026\n",
      "Train Loss: 0.0024\n",
      "Test Loss: 0.0248\n"
     ]
    },
    {
     "name": "stderr",
     "output_type": "stream",
     "text": [
      "Epoch 61/100: 100%|██████████| 500/500 [00:02<00:00, 171.79it/s]\n"
     ]
    },
    {
     "name": "stdout",
     "output_type": "stream",
     "text": [
      "Epoch [61/100], Running Loss: 0.0024\n",
      "Train Loss: 0.0021\n",
      "Test Loss: 0.0238\n"
     ]
    },
    {
     "name": "stderr",
     "output_type": "stream",
     "text": [
      "Epoch 62/100: 100%|██████████| 500/500 [00:02<00:00, 172.00it/s]\n"
     ]
    },
    {
     "name": "stdout",
     "output_type": "stream",
     "text": [
      "Epoch [62/100], Running Loss: 0.0021\n",
      "Train Loss: 0.0020\n",
      "Test Loss: 0.0249\n"
     ]
    },
    {
     "name": "stderr",
     "output_type": "stream",
     "text": [
      "Epoch 63/100: 100%|██████████| 500/500 [00:02<00:00, 171.73it/s]\n"
     ]
    },
    {
     "name": "stdout",
     "output_type": "stream",
     "text": [
      "Epoch [63/100], Running Loss: 0.0020\n",
      "Train Loss: 0.0020\n",
      "Test Loss: 0.0242\n"
     ]
    },
    {
     "name": "stderr",
     "output_type": "stream",
     "text": [
      "Epoch 64/100: 100%|██████████| 500/500 [00:02<00:00, 171.95it/s]\n"
     ]
    },
    {
     "name": "stdout",
     "output_type": "stream",
     "text": [
      "Epoch [64/100], Running Loss: 0.0020\n",
      "Train Loss: 0.0019\n",
      "Test Loss: 0.0248\n"
     ]
    },
    {
     "name": "stderr",
     "output_type": "stream",
     "text": [
      "Epoch 65/100: 100%|██████████| 500/500 [00:02<00:00, 172.04it/s]\n"
     ]
    },
    {
     "name": "stdout",
     "output_type": "stream",
     "text": [
      "Epoch [65/100], Running Loss: 0.0020\n",
      "Train Loss: 0.0020\n",
      "Test Loss: 0.0238\n"
     ]
    },
    {
     "name": "stderr",
     "output_type": "stream",
     "text": [
      "Epoch 66/100: 100%|██████████| 500/500 [00:02<00:00, 171.98it/s]\n"
     ]
    },
    {
     "name": "stdout",
     "output_type": "stream",
     "text": [
      "Epoch [66/100], Running Loss: 0.0021\n",
      "Train Loss: 0.0021\n",
      "Test Loss: 0.0244\n"
     ]
    },
    {
     "name": "stderr",
     "output_type": "stream",
     "text": [
      "Epoch 67/100: 100%|██████████| 500/500 [00:02<00:00, 171.68it/s]\n"
     ]
    },
    {
     "name": "stdout",
     "output_type": "stream",
     "text": [
      "Epoch [67/100], Running Loss: 0.0021\n",
      "Train Loss: 0.0021\n",
      "Test Loss: 0.0236\n"
     ]
    },
    {
     "name": "stderr",
     "output_type": "stream",
     "text": [
      "Epoch 68/100: 100%|██████████| 500/500 [00:02<00:00, 171.91it/s]\n"
     ]
    },
    {
     "name": "stdout",
     "output_type": "stream",
     "text": [
      "Epoch [68/100], Running Loss: 0.0023\n",
      "Train Loss: 0.0023\n",
      "Test Loss: 0.0235\n"
     ]
    },
    {
     "name": "stderr",
     "output_type": "stream",
     "text": [
      "Epoch 69/100: 100%|██████████| 500/500 [00:02<00:00, 171.37it/s]\n"
     ]
    },
    {
     "name": "stdout",
     "output_type": "stream",
     "text": [
      "Epoch [69/100], Running Loss: 0.0021\n",
      "Train Loss: 0.0020\n",
      "Test Loss: 0.0245\n"
     ]
    },
    {
     "name": "stderr",
     "output_type": "stream",
     "text": [
      "Epoch 70/100: 100%|██████████| 500/500 [00:02<00:00, 171.58it/s]\n"
     ]
    },
    {
     "name": "stdout",
     "output_type": "stream",
     "text": [
      "Epoch [70/100], Running Loss: 0.0020\n",
      "Train Loss: 0.0023\n",
      "Test Loss: 0.0234\n"
     ]
    },
    {
     "name": "stderr",
     "output_type": "stream",
     "text": [
      "Epoch 71/100: 100%|██████████| 500/500 [00:02<00:00, 171.74it/s]\n"
     ]
    },
    {
     "name": "stdout",
     "output_type": "stream",
     "text": [
      "Epoch [71/100], Running Loss: 0.0023\n",
      "Train Loss: 0.0021\n",
      "Test Loss: 0.0247\n"
     ]
    },
    {
     "name": "stderr",
     "output_type": "stream",
     "text": [
      "Epoch 72/100: 100%|██████████| 500/500 [00:02<00:00, 172.41it/s]\n"
     ]
    },
    {
     "name": "stdout",
     "output_type": "stream",
     "text": [
      "Epoch [72/100], Running Loss: 0.0024\n",
      "Train Loss: 0.0023\n",
      "Test Loss: 0.0254\n"
     ]
    },
    {
     "name": "stderr",
     "output_type": "stream",
     "text": [
      "Epoch 73/100: 100%|██████████| 500/500 [00:02<00:00, 169.04it/s]\n"
     ]
    },
    {
     "name": "stdout",
     "output_type": "stream",
     "text": [
      "Epoch [73/100], Running Loss: 0.0023\n",
      "Train Loss: 0.0022\n",
      "Test Loss: 0.0242\n"
     ]
    },
    {
     "name": "stderr",
     "output_type": "stream",
     "text": [
      "Epoch 74/100: 100%|██████████| 500/500 [00:02<00:00, 171.07it/s]\n"
     ]
    },
    {
     "name": "stdout",
     "output_type": "stream",
     "text": [
      "Epoch [74/100], Running Loss: 0.0021\n",
      "Train Loss: 0.0019\n",
      "Test Loss: 0.0251\n"
     ]
    },
    {
     "name": "stderr",
     "output_type": "stream",
     "text": [
      "Epoch 75/100: 100%|██████████| 500/500 [00:02<00:00, 170.78it/s]\n"
     ]
    },
    {
     "name": "stdout",
     "output_type": "stream",
     "text": [
      "Epoch [75/100], Running Loss: 0.0019\n",
      "Train Loss: 0.0018\n",
      "Test Loss: 0.0239\n"
     ]
    },
    {
     "name": "stderr",
     "output_type": "stream",
     "text": [
      "Epoch 76/100: 100%|██████████| 500/500 [00:02<00:00, 171.01it/s]\n"
     ]
    },
    {
     "name": "stdout",
     "output_type": "stream",
     "text": [
      "Epoch [76/100], Running Loss: 0.0020\n",
      "Train Loss: 0.0020\n",
      "Test Loss: 0.0242\n"
     ]
    },
    {
     "name": "stderr",
     "output_type": "stream",
     "text": [
      "Epoch 77/100: 100%|██████████| 500/500 [00:02<00:00, 170.83it/s]\n"
     ]
    },
    {
     "name": "stdout",
     "output_type": "stream",
     "text": [
      "Epoch [77/100], Running Loss: 0.0020\n",
      "Train Loss: 0.0020\n",
      "Test Loss: 0.0243\n"
     ]
    },
    {
     "name": "stderr",
     "output_type": "stream",
     "text": [
      "Epoch 78/100: 100%|██████████| 500/500 [00:02<00:00, 169.49it/s]\n"
     ]
    },
    {
     "name": "stdout",
     "output_type": "stream",
     "text": [
      "Epoch [78/100], Running Loss: 0.0022\n",
      "Train Loss: 0.0021\n",
      "Test Loss: 0.0238\n"
     ]
    },
    {
     "name": "stderr",
     "output_type": "stream",
     "text": [
      "Epoch 79/100: 100%|██████████| 500/500 [00:02<00:00, 169.60it/s]\n"
     ]
    },
    {
     "name": "stdout",
     "output_type": "stream",
     "text": [
      "Epoch [79/100], Running Loss: 0.0023\n",
      "Train Loss: 0.0020\n",
      "Test Loss: 0.0247\n"
     ]
    },
    {
     "name": "stderr",
     "output_type": "stream",
     "text": [
      "Epoch 80/100: 100%|██████████| 500/500 [00:02<00:00, 169.29it/s]\n"
     ]
    },
    {
     "name": "stdout",
     "output_type": "stream",
     "text": [
      "Epoch [80/100], Running Loss: 0.0020\n",
      "Train Loss: 0.0020\n",
      "Test Loss: 0.0233\n"
     ]
    },
    {
     "name": "stderr",
     "output_type": "stream",
     "text": [
      "Epoch 81/100: 100%|██████████| 500/500 [00:02<00:00, 169.87it/s]\n"
     ]
    },
    {
     "name": "stdout",
     "output_type": "stream",
     "text": [
      "Epoch [81/100], Running Loss: 0.0022\n",
      "Train Loss: 0.0019\n",
      "Test Loss: 0.0252\n"
     ]
    },
    {
     "name": "stderr",
     "output_type": "stream",
     "text": [
      "Epoch 82/100: 100%|██████████| 500/500 [00:02<00:00, 170.56it/s]\n"
     ]
    },
    {
     "name": "stdout",
     "output_type": "stream",
     "text": [
      "Epoch [82/100], Running Loss: 0.0020\n",
      "Train Loss: 0.0020\n",
      "Test Loss: 0.0238\n"
     ]
    },
    {
     "name": "stderr",
     "output_type": "stream",
     "text": [
      "Epoch 83/100: 100%|██████████| 500/500 [00:02<00:00, 170.65it/s]\n"
     ]
    },
    {
     "name": "stdout",
     "output_type": "stream",
     "text": [
      "Epoch [83/100], Running Loss: 0.0019\n",
      "Train Loss: 0.0019\n",
      "Test Loss: 0.0228\n"
     ]
    },
    {
     "name": "stderr",
     "output_type": "stream",
     "text": [
      "Epoch 84/100: 100%|██████████| 500/500 [00:02<00:00, 170.70it/s]\n"
     ]
    },
    {
     "name": "stdout",
     "output_type": "stream",
     "text": [
      "Epoch [84/100], Running Loss: 0.0018\n",
      "Train Loss: 0.0017\n",
      "Test Loss: 0.0236\n"
     ]
    },
    {
     "name": "stderr",
     "output_type": "stream",
     "text": [
      "Epoch 85/100: 100%|██████████| 500/500 [00:02<00:00, 167.88it/s]\n"
     ]
    },
    {
     "name": "stdout",
     "output_type": "stream",
     "text": [
      "Epoch [85/100], Running Loss: 0.0017\n",
      "Train Loss: 0.0020\n",
      "Test Loss: 0.0236\n"
     ]
    },
    {
     "name": "stderr",
     "output_type": "stream",
     "text": [
      "Epoch 86/100: 100%|██████████| 500/500 [00:02<00:00, 170.65it/s]\n"
     ]
    },
    {
     "name": "stdout",
     "output_type": "stream",
     "text": [
      "Epoch [86/100], Running Loss: 0.0021\n",
      "Train Loss: 0.0022\n",
      "Test Loss: 0.0246\n"
     ]
    },
    {
     "name": "stderr",
     "output_type": "stream",
     "text": [
      "Epoch 87/100: 100%|██████████| 500/500 [00:02<00:00, 171.03it/s]\n"
     ]
    },
    {
     "name": "stdout",
     "output_type": "stream",
     "text": [
      "Epoch [87/100], Running Loss: 0.0025\n",
      "Train Loss: 0.0028\n",
      "Test Loss: 0.0225\n"
     ]
    },
    {
     "name": "stderr",
     "output_type": "stream",
     "text": [
      "Epoch 88/100: 100%|██████████| 500/500 [00:02<00:00, 170.97it/s]\n"
     ]
    },
    {
     "name": "stdout",
     "output_type": "stream",
     "text": [
      "Epoch [88/100], Running Loss: 0.0022\n",
      "Train Loss: 0.0021\n",
      "Test Loss: 0.0247\n"
     ]
    },
    {
     "name": "stderr",
     "output_type": "stream",
     "text": [
      "Epoch 89/100: 100%|██████████| 500/500 [00:02<00:00, 170.49it/s]\n"
     ]
    },
    {
     "name": "stdout",
     "output_type": "stream",
     "text": [
      "Epoch [89/100], Running Loss: 0.0022\n",
      "Train Loss: 0.0022\n",
      "Test Loss: 0.0241\n"
     ]
    },
    {
     "name": "stderr",
     "output_type": "stream",
     "text": [
      "Epoch 90/100: 100%|██████████| 500/500 [00:02<00:00, 170.96it/s]\n"
     ]
    },
    {
     "name": "stdout",
     "output_type": "stream",
     "text": [
      "Epoch [90/100], Running Loss: 0.0021\n",
      "Train Loss: 0.0018\n",
      "Test Loss: 0.0243\n"
     ]
    },
    {
     "name": "stderr",
     "output_type": "stream",
     "text": [
      "Epoch 91/100: 100%|██████████| 500/500 [00:02<00:00, 170.19it/s]\n"
     ]
    },
    {
     "name": "stdout",
     "output_type": "stream",
     "text": [
      "Epoch [91/100], Running Loss: 0.0019\n",
      "Train Loss: 0.0018\n",
      "Test Loss: 0.0251\n"
     ]
    },
    {
     "name": "stderr",
     "output_type": "stream",
     "text": [
      "Epoch 92/100: 100%|██████████| 500/500 [00:02<00:00, 170.70it/s]\n"
     ]
    },
    {
     "name": "stdout",
     "output_type": "stream",
     "text": [
      "Epoch [92/100], Running Loss: 0.0019\n",
      "Train Loss: 0.0019\n",
      "Test Loss: 0.0237\n"
     ]
    },
    {
     "name": "stderr",
     "output_type": "stream",
     "text": [
      "Epoch 93/100: 100%|██████████| 500/500 [00:02<00:00, 170.56it/s]\n"
     ]
    },
    {
     "name": "stdout",
     "output_type": "stream",
     "text": [
      "Epoch [93/100], Running Loss: 0.0020\n",
      "Train Loss: 0.0020\n",
      "Test Loss: 0.0243\n"
     ]
    },
    {
     "name": "stderr",
     "output_type": "stream",
     "text": [
      "Epoch 94/100: 100%|██████████| 500/500 [00:02<00:00, 170.48it/s]\n"
     ]
    },
    {
     "name": "stdout",
     "output_type": "stream",
     "text": [
      "Epoch [94/100], Running Loss: 0.0020\n",
      "Train Loss: 0.0020\n",
      "Test Loss: 0.0247\n"
     ]
    },
    {
     "name": "stderr",
     "output_type": "stream",
     "text": [
      "Epoch 95/100: 100%|██████████| 500/500 [00:02<00:00, 169.83it/s]\n"
     ]
    },
    {
     "name": "stdout",
     "output_type": "stream",
     "text": [
      "Epoch [95/100], Running Loss: 0.0020\n",
      "Train Loss: 0.0022\n",
      "Test Loss: 0.0254\n"
     ]
    },
    {
     "name": "stderr",
     "output_type": "stream",
     "text": [
      "Epoch 96/100: 100%|██████████| 500/500 [00:02<00:00, 169.55it/s]\n"
     ]
    },
    {
     "name": "stdout",
     "output_type": "stream",
     "text": [
      "Epoch [96/100], Running Loss: 0.0021\n",
      "Train Loss: 0.0020\n",
      "Test Loss: 0.0239\n"
     ]
    },
    {
     "name": "stderr",
     "output_type": "stream",
     "text": [
      "Epoch 97/100: 100%|██████████| 500/500 [00:02<00:00, 171.08it/s]\n"
     ]
    },
    {
     "name": "stdout",
     "output_type": "stream",
     "text": [
      "Epoch [97/100], Running Loss: 0.0019\n",
      "Train Loss: 0.0020\n",
      "Test Loss: 0.0246\n"
     ]
    },
    {
     "name": "stderr",
     "output_type": "stream",
     "text": [
      "Epoch 98/100: 100%|██████████| 500/500 [00:02<00:00, 171.19it/s]\n"
     ]
    },
    {
     "name": "stdout",
     "output_type": "stream",
     "text": [
      "Epoch [98/100], Running Loss: 0.0021\n",
      "Train Loss: 0.0020\n",
      "Test Loss: 0.0241\n"
     ]
    },
    {
     "name": "stderr",
     "output_type": "stream",
     "text": [
      "Epoch 99/100: 100%|██████████| 500/500 [00:02<00:00, 171.68it/s]\n"
     ]
    },
    {
     "name": "stdout",
     "output_type": "stream",
     "text": [
      "Epoch [99/100], Running Loss: 0.0022\n",
      "Train Loss: 0.0020\n",
      "Test Loss: 0.0245\n"
     ]
    },
    {
     "name": "stderr",
     "output_type": "stream",
     "text": [
      "Epoch 100/100: 100%|██████████| 500/500 [00:02<00:00, 171.01it/s]\n"
     ]
    },
    {
     "name": "stdout",
     "output_type": "stream",
     "text": [
      "Epoch [100/100], Running Loss: 0.0021\n",
      "Train Loss: 0.0019\n",
      "Test Loss: 0.0255\n"
     ]
    }
   ],
   "execution_count": 52
  },
  {
   "metadata": {},
   "cell_type": "markdown",
   "source": "# Evaluate Model",
   "id": "710f41eb03b9e9bd"
  },
  {
   "metadata": {
    "ExecuteTime": {
     "end_time": "2024-11-20T08:25:37.460361Z",
     "start_time": "2024-11-20T08:25:34.285663Z"
    }
   },
   "cell_type": "code",
   "source": "losses_over_train, losses_over_test = evaluate_model(model, train_loader, test_loader, criterion, device=device)",
   "id": "b0f5929d26df5183",
   "outputs": [
    {
     "name": "stdout",
     "output_type": "stream",
     "text": [
      "Train Loss: 0.0019\n",
      "Test Loss: 0.0255\n"
     ]
    }
   ],
   "execution_count": 53
  },
  {
   "metadata": {
    "ExecuteTime": {
     "end_time": "2024-11-20T08:25:37.573752Z",
     "start_time": "2024-11-20T08:25:37.473774Z"
    }
   },
   "cell_type": "code",
   "source": [
    "epochs = range(1, len(train_losses) + 1)\n",
    "\n",
    "# Plot both training and testing losses\n",
    "plt.plot(epochs, train_losses, label='Train Loss', color='blue')\n",
    "plt.plot(epochs, test_losses, label='Test Loss', color='orange')\n",
    "\n",
    "# Adding titles and labels\n",
    "plt.title('Training and Testing Losses')\n",
    "plt.xlabel('Epochs')\n",
    "plt.ylabel('Loss')\n",
    "plt.legend()\n",
    "    \n",
    "# Show the plot\n",
    "plt.show()"
   ],
   "id": "addc49304b78e10c",
   "outputs": [
    {
     "data": {
      "text/plain": [
       "<Figure size 640x480 with 1 Axes>"
      ],
      "image/png": "[encoded data removed]"
     },
     "metadata": {},
     "output_type": "display_data"
    }
   ],
   "execution_count": 54
  },
  {
   "metadata": {},
   "cell_type": "markdown",
   "source": "## FDR distribution",
   "id": "5e73b9b6c7865e02"
  },
  {
   "metadata": {},
   "cell_type": "markdown",
   "source": "### Training Data",
   "id": "4b7a2e3f2b0e4d7"
  },
  {
   "metadata": {
    "ExecuteTime": {
     "end_time": "2024-11-20T08:25:40.308560Z",
     "start_time": "2024-11-20T08:25:37.586414Z"
    }
   },
   "cell_type": "code",
   "source": [
    "model.eval()\n",
    "\n",
    "with torch.no_grad():\n",
    "    train_loader_v = []\n",
    "    train_infer_v = []\n",
    "    for Phis, betas, vs, FDRs in train_loader:\n",
    "        Phis, betas, vs, FDRs = Phis.to(device), betas.to(device), vs.to(device), FDRs.to(device)\n",
    "        train_loader_v += FDRs.cpu().numpy().squeeze().tolist()\n",
    "        train_infer_v += model(Phis, vs).detach().cpu().numpy().squeeze().tolist()\n",
    "\n",
    "bin_edges = [0, 0.05, 0.10, 0.15, 0.20, 0.25, 0.3, 0.35, 0.4 , 0.45 , 0.5, 0.55, 0.6, 0.65, 0.7, 0.75, 0.8, 0.85, 0.9, 0.95, 1.001]\n",
    "\n",
    "fig, (ax1, ax2) = plt.subplots(1, 2, figsize=(12, 6))\n",
    "\n",
    "N, bins, patches = ax1.hist(train_loader_v, bins=bin_edges, edgecolor='black')\n",
    "ax1.set_title('Histogram for Training Data')\n",
    "ax1.set_xlabel('Values')\n",
    "ax1.set_ylabel('Frequency')\n",
    "\n",
    "N, bins, patches = ax2.hist(train_infer_v, bins=bin_edges, edgecolor='black')\n",
    "ax2.set_title('Histogram for Training Inference')\n",
    "ax2.set_xlabel('Values')\n",
    "ax2.set_ylabel('Frequency')\n",
    "\n",
    "plt.tight_layout()\n",
    "plt.show()"
   ],
   "id": "648954cd900bf5ff",
   "outputs": [
    {
     "data": {
      "text/plain": [
       "<Figure size 1200x600 with 2 Axes>"
      ],
      "image/png": "[encoded data removed]"
     },
     "metadata": {},
     "output_type": "display_data"
    }
   ],
   "execution_count": 55
  },
  {
   "metadata": {
    "ExecuteTime": {
     "end_time": "2024-11-20T11:24:34.903602Z",
     "start_time": "2024-11-20T11:24:34.802792Z"
    }
   },
   "cell_type": "code",
   "source": [
    "FDR_diff = np.array(train_infer_v) - np.array(train_loader_v)\n",
    "FDR_overestimation = FDR_diff[FDR_diff > 0]\n",
    "FDR_overestimation_rate = len(FDR_overestimation) / len(FDR_diff)\n",
    "\n",
    "bin_edges = [0.0001, 0.01, 0.02, 0.03, 0.04, 0.05, 0.06, 0.07, 0.08 , 0.09 , 0.125, 0.15, 0.20, 0.30, 0.40, 0.50, 0.60, 0.70, 0.80, 0.90, 1.001]\n",
    "plt.hist(FDR_overestimation, bins=bin_edges)\n",
    "plt.title(\"Histogram of FDR Overestimation\")\n",
    "\n",
    "# Add FDR overestimation rate as text\n",
    "plt.text(0.5, plt.ylim()[1] * 0.8, f\"FDR Overestimation Rate: {FDR_overestimation_rate:.2f}\", fontsize=10, color='red')\n",
    "\n",
    "# Show the plot\n",
    "plt.show()"
   ],
   "id": "cc3e9cb54c526a74",
   "outputs": [
    {
     "data": {
      "text/plain": [
       "<Figure size 640x480 with 1 Axes>"
      ],
      "image/png": "[encoded data removed]"
     },
     "metadata": {},
     "output_type": "display_data"
    }
   ],
   "execution_count": 93
  },
  {
   "metadata": {
    "ExecuteTime": {
     "end_time": "2024-11-20T08:26:49.859916Z",
     "start_time": "2024-11-20T08:26:48.559227Z"
    }
   },
   "cell_type": "code",
   "source": [
    "plt.hist(np.abs(np.array(train_loader_v) - np.array(train_infer_v)), bins='auto')\n",
    "plt.title(\"Histogram of Absolute Error for Training Data\")\n",
    "plt.show()"
   ],
   "id": "48fcf01c49dfdb1b",
   "outputs": [
    {
     "data": {
      "text/plain": [
       "<Figure size 640x480 with 1 Axes>"
      ],
      "image/png": "[encoded data removed]"
     },
     "metadata": {},
     "output_type": "display_data"
    }
   ],
   "execution_count": 62
  },
  {
   "metadata": {},
   "cell_type": "markdown",
   "source": "### Test Data",
   "id": "16dec20996b004a9"
  },
  {
   "metadata": {
    "ExecuteTime": {
     "end_time": "2024-11-20T08:28:26.779053Z",
     "start_time": "2024-11-20T08:28:25.916046Z"
    }
   },
   "cell_type": "code",
   "source": [
    "model.eval()\n",
    "\n",
    "with torch.no_grad():\n",
    "    test_loader_v = []\n",
    "    test_infer_v = []\n",
    "    for Phis, betas, vs, FDRs in test_loader:\n",
    "        Phis, betas, vs, FDRs = Phis.to(device), betas.to(device), vs.to(device), FDRs.to(device)\n",
    "        test_loader_v += FDRs.cpu().numpy().squeeze().tolist()\n",
    "        test_infer_v += model(Phis, vs).detach().cpu().numpy().squeeze().tolist()\n",
    "\n",
    "bin_edges = [0, 0.05, 0.10, 0.15, 0.20, 0.25, 0.3, 0.35, 0.4 , 0.45 , 0.5, 0.55, 0.6, 0.65, 0.7, 0.75, 0.8, 0.85, 0.9, 0.95, 1.001]\n",
    "\n",
    "fig, (ax1, ax2) = plt.subplots(1, 2, figsize=(12, 6))\n",
    "\n",
    "N, bins, patches = ax1.hist(test_loader_v, bins=bin_edges, edgecolor='black')\n",
    "ax1.set_title('Histogram for Test Data')\n",
    "ax1.set_xlabel('Values')\n",
    "ax1.set_ylabel('Frequency')\n",
    "\n",
    "N, bins, patches = ax2.hist(test_infer_v, bins=bin_edges, edgecolor='black')\n",
    "ax2.set_title('Histogram for Test Inference')\n",
    "ax2.set_xlabel('Values')\n",
    "ax2.set_ylabel('Frequency')\n",
    "\n",
    "plt.tight_layout()\n",
    "plt.show()"
   ],
   "id": "5d112b7b011f8377",
   "outputs": [
    {
     "data": {
      "text/plain": [
       "<Figure size 1200x600 with 2 Axes>"
      ],
      "image/png": "[encoded data removed]"
     },
     "metadata": {},
     "output_type": "display_data"
    }
   ],
   "execution_count": 63
  },
  {
   "metadata": {
    "ExecuteTime": {
     "end_time": "2024-11-20T08:28:26.893111Z",
     "start_time": "2024-11-20T08:28:26.790576Z"
    }
   },
   "cell_type": "code",
   "source": [
    "plt.hist(np.abs(np.array(test_loader_v) - np.array(test_infer_v)), bins='auto')\n",
    "plt.title(\"Histogram of Absolute Error for Test Data\")\n",
    "plt.show()"
   ],
   "id": "8b494d1fbc2eab97",
   "outputs": [
    {
     "data": {
      "text/plain": [
       "<Figure size 640x480 with 1 Axes>"
      ],
      "image/png": "[encoded data removed]"
     },
     "metadata": {},
     "output_type": "display_data"
    }
   ],
   "execution_count": 64
  },
  {
   "metadata": {
    "ExecuteTime": {
     "end_time": "2024-11-20T08:25:42.766052Z",
     "start_time": "2024-11-20T08:25:42.764636Z"
    }
   },
   "cell_type": "code",
   "source": "",
   "id": "4098eaed8ff9e49c",
   "outputs": [],
   "execution_count": null
  }
 ],
 "metadata": {
  "kernelspec": {
   "display_name": "pytorchgpu",
   "language": "python",
   "name": "pytorchgpu"
  },
  "language_info": {
   "codemirror_mode": {
    "name": "ipython",
    "version": 2
   },
   "file_extension": ".py",
   "mimetype": "text/x-python",
   "name": "python",
   "nbconvert_exporter": "python",
   "pygments_lexer": "ipython2",
   "version": "2.7.6"
  }
 },
 "nbformat": 4,
 "nbformat_minor": 5
}
